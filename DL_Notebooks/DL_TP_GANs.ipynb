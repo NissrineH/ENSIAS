{
  "nbformat": 4,
  "nbformat_minor": 0,
  "metadata": {
    "colab": {
      "name": "DL_TP GANs.ipynb",
      "provenance": [],
      "collapsed_sections": [],
      "toc_visible": true
    },
    "kernelspec": {
      "name": "python3",
      "display_name": "Python 3"
    },
    "accelerator": "GPU"
  },
  "cells": [
    {
      "cell_type": "markdown",
      "metadata": {
        "id": "DuYS9MMxm2q3"
      },
      "source": [
        "# ***`Deep Convolutional Generative Adversarial Network `***"
      ]
    },
    {
      "cell_type": "markdown",
      "metadata": {
        "id": "0LkGBSjjnEjh"
      },
      "source": [
        "### What are GANs?\n"
      ]
    },
    {
      "cell_type": "markdown",
      "metadata": {
        "id": "8z_YAe21nJJq"
      },
      "source": [
        "\n",
        "\n",
        "```\n",
        "Generative Adversarial Networks (GANs) are one of the most interesting ideas in computer science today. \n",
        "Two models are trained simultaneously by an adversarial process. \n",
        "A generator (\"the artist\") learns to create images that look real, while a discriminator (\"the art critic\") learns to tell real images apart from fakes.\n",
        "```\n",
        "\n"
      ]
    },
    {
      "cell_type": "markdown",
      "metadata": {
        "id": "BJxJc3FLo0Qw"
      },
      "source": [
        "\n",
        "\n",
        "```\n",
        "During training, the generator progressively becomes better at creating images that look real, while the discriminator becomes better at telling them apart. \n",
        "The process reaches equilibrium when the discriminator can no longer distinguish real images from fakes.\n",
        "```\n",
        "\n"
      ]
    },
    {
      "cell_type": "markdown",
      "metadata": {
        "id": "D7671IgEqJdb"
      },
      "source": [
        "### Packages & Modules\n"
      ]
    },
    {
      "cell_type": "code",
      "metadata": {
        "id": "mIl2RtASnPSL"
      },
      "source": [
        "#Import Packages & Modules\n",
        "import tensorflow as tf\n",
        "\n",
        "import glob\n",
        "import imageio\n",
        "import matplotlib.pyplot as plt\n",
        "import numpy as np\n",
        "import os\n",
        "import PIL\n",
        "from tensorflow.keras import layers\n",
        "import time\n",
        "\n",
        "from IPython import display"
      ],
      "execution_count": 52,
      "outputs": []
    },
    {
      "cell_type": "markdown",
      "metadata": {
        "id": "3UIebW1Zqrtk"
      },
      "source": [
        "###Load and prepare the dataset\n"
      ]
    },
    {
      "cell_type": "markdown",
      "metadata": {
        "id": "Zie-Y4yaqwkm"
      },
      "source": [
        "\n",
        "\n",
        "```\n",
        "The MNIST dataset to train the generator and the discriminator. \n",
        "The generator will generate handwritten digits resembling the MNIST data.\n",
        "```\n",
        "\n"
      ]
    },
    {
      "cell_type": "code",
      "metadata": {
        "colab": {
          "base_uri": "https://localhost:8080/"
        },
        "id": "isgqw0RaqQdA",
        "outputId": "b2f42e07-35ff-4a8b-c969-b3c5e3a4ba8e"
      },
      "source": [
        "(train_images, train_labels), (_, _) = tf.keras.datasets.mnist.load_data()"
      ],
      "execution_count": null,
      "outputs": [
        {
          "output_type": "stream",
          "text": [
            "Downloading data from https://storage.googleapis.com/tensorflow/tf-keras-datasets/mnist.npz\n",
            "11493376/11490434 [==============================] - 0s 0us/step\n"
          ],
          "name": "stdout"
        }
      ]
    },
    {
      "cell_type": "code",
      "metadata": {
        "id": "TZxqEpsIq0We"
      },
      "source": [
        "train_images = train_images.reshape(train_images.shape[0], 28, 28, 1).astype('float32')\n",
        "train_images = (train_images - 127.5) / 127.5 # Normalize the images to [-1, 1]"
      ],
      "execution_count": null,
      "outputs": []
    },
    {
      "cell_type": "code",
      "metadata": {
        "id": "CBHPdMbOq3tW"
      },
      "source": [
        "BUFFER_SIZE = 60000\n",
        "BATCH_SIZE = 256"
      ],
      "execution_count": null,
      "outputs": []
    },
    {
      "cell_type": "code",
      "metadata": {
        "id": "PYI-TZYlq5Jg"
      },
      "source": [
        "# Batch and shuffle the data\n",
        "train_dataset = tf.data.Dataset.from_tensor_slices(train_images).shuffle(BUFFER_SIZE).batch(BATCH_SIZE)"
      ],
      "execution_count": null,
      "outputs": []
    },
    {
      "cell_type": "markdown",
      "metadata": {
        "id": "Ce9E25WEq_Bk"
      },
      "source": [
        "### Create the models"
      ]
    },
    {
      "cell_type": "markdown",
      "metadata": {
        "id": "8LpKKFa7rEaU"
      },
      "source": [
        "#### The Generator"
      ]
    },
    {
      "cell_type": "markdown",
      "metadata": {
        "id": "YMlfIIUYrHo5"
      },
      "source": [
        "\n",
        "\n",
        "```\n",
        "The generator uses tf.keras.layers.Conv2DTranspose (upsampling) layers to produce an image from a seed (random noise). \n",
        "Start with a Dense layer that takes this seed as input, then upsample several times until you reach the desired image size of 28x28x1. \n",
        "Notice the tf.keras.layers.LeakyReLU activation for each layer, except the output layer which uses tanh.\n",
        "```\n",
        "\n"
      ]
    },
    {
      "cell_type": "code",
      "metadata": {
        "id": "bsIYFPoCq7gw"
      },
      "source": [
        "def make_generator_model():\n",
        "    model = tf.keras.Sequential()\n",
        "    model.add(layers.Dense(7*7*256, use_bias=False, input_shape=(100,)))\n",
        "    model.add(layers.BatchNormalization())\n",
        "    model.add(layers.LeakyReLU())\n",
        "\n",
        "    model.add(layers.Reshape((7, 7, 256)))\n",
        "    assert model.output_shape == (None, 7, 7, 256) # Note: None is the batch size\n",
        "\n",
        "    model.add(layers.Conv2DTranspose(128, (5, 5), strides=(1, 1), padding='same', use_bias=False))\n",
        "    assert model.output_shape == (None, 7, 7, 128)\n",
        "    model.add(layers.BatchNormalization())\n",
        "    model.add(layers.LeakyReLU())\n",
        "\n",
        "    model.add(layers.Conv2DTranspose(64, (5, 5), strides=(2, 2), padding='same', use_bias=False))\n",
        "    assert model.output_shape == (None, 14, 14, 64)\n",
        "    model.add(layers.BatchNormalization())\n",
        "    model.add(layers.LeakyReLU())\n",
        "\n",
        "    model.add(layers.Conv2DTranspose(1, (5, 5), strides=(2, 2), padding='same', use_bias=False, activation='tanh'))\n",
        "    assert model.output_shape == (None, 28, 28, 1)\n",
        "\n",
        "    return model"
      ],
      "execution_count": null,
      "outputs": []
    },
    {
      "cell_type": "code",
      "metadata": {
        "colab": {
          "base_uri": "https://localhost:8080/",
          "height": 282
        },
        "id": "nofJmIs1rT7D",
        "outputId": "a4a327ab-c1b8-4a65-e8d9-0c838b47e2eb"
      },
      "source": [
        "#Use the (as yet untrained) generator to create an image.\n",
        "\n",
        "generator = make_generator_model()\n",
        "\n",
        "noise = tf.random.normal([1, 100])\n",
        "generated_image = generator(noise, training=False)\n",
        "\n",
        "plt.imshow(generated_image[0, :, :, 0], cmap='gray')"
      ],
      "execution_count": null,
      "outputs": [
        {
          "output_type": "execute_result",
          "data": {
            "text/plain": [
              "<matplotlib.image.AxesImage at 0x7f26c07726a0>"
            ]
          },
          "metadata": {
            "tags": []
          },
          "execution_count": 7
        },
        {
          "output_type": "display_data",
          "data": {
            "image/png": "[encoded data removed]",
            "text/plain": [
              "<Figure size 432x288 with 1 Axes>"
            ]
          },
          "metadata": {
            "tags": [],
            "needs_background": "light"
          }
        }
      ]
    },
    {
      "cell_type": "markdown",
      "metadata": {
        "id": "SMpaBiXPrj-N"
      },
      "source": [
        "#### The Discriminator"
      ]
    },
    {
      "cell_type": "markdown",
      "metadata": {
        "id": "u32oX_asrok-"
      },
      "source": [
        "\n",
        "\n",
        "```\n",
        "The discriminator is a CNN-based image classifier.\n",
        "```\n",
        "\n"
      ]
    },
    {
      "cell_type": "code",
      "metadata": {
        "id": "tg5usuyArZRB"
      },
      "source": [
        "def make_discriminator_model():\n",
        "    model = tf.keras.Sequential()\n",
        "    model.add(layers.Conv2D(64, (5, 5), strides=(2, 2), padding='same',\n",
        "                                     input_shape=[28, 28, 1]))\n",
        "    model.add(layers.LeakyReLU())\n",
        "    model.add(layers.Dropout(0.3))\n",
        "\n",
        "    model.add(layers.Conv2D(128, (5, 5), strides=(2, 2), padding='same'))\n",
        "    model.add(layers.LeakyReLU())\n",
        "    model.add(layers.Dropout(0.3))\n",
        "\n",
        "    model.add(layers.Flatten())\n",
        "    model.add(layers.Dense(1))\n",
        "\n",
        "    return model"
      ],
      "execution_count": null,
      "outputs": []
    },
    {
      "cell_type": "code",
      "metadata": {
        "colab": {
          "base_uri": "https://localhost:8080/"
        },
        "id": "4GZNOgslrrZH",
        "outputId": "6bcf018f-549f-480b-be07-e2e729318ff0"
      },
      "source": [
        "#Use the (as yet untrained) discriminator to classify the generated images as real or fake. \n",
        "#The model will be trained to output positive values for real images, and negative values for fake images.\n",
        "\n",
        "discriminator = make_discriminator_model()\n",
        "decision = discriminator(generated_image)\n",
        "print (decision)"
      ],
      "execution_count": null,
      "outputs": [
        {
          "output_type": "stream",
          "text": [
            "tf.Tensor([[-0.00213758]], shape=(1, 1), dtype=float32)\n"
          ],
          "name": "stdout"
        }
      ]
    },
    {
      "cell_type": "markdown",
      "metadata": {
        "id": "PRfB5Trfr4tl"
      },
      "source": [
        "### Define the loss and optimizers"
      ]
    },
    {
      "cell_type": "code",
      "metadata": {
        "id": "7Hob2uiIr1kp"
      },
      "source": [
        "# This method returns a helper function to compute cross entropy loss\n",
        "cross_entropy = tf.keras.losses.BinaryCrossentropy(from_logits=True)"
      ],
      "execution_count": null,
      "outputs": []
    },
    {
      "cell_type": "markdown",
      "metadata": {
        "id": "1YolJrGVr_oq"
      },
      "source": [
        "#### Discriminator loss"
      ]
    },
    {
      "cell_type": "markdown",
      "metadata": {
        "id": "CBsqzHhjsBys"
      },
      "source": [
        "\n",
        "\n",
        "```\n",
        "This method quantifies how well the discriminator is able to distinguish real images from fakes. \n",
        "It compares the discriminator's predictions on real images to an array of 1s, and the discriminator's predictions on fake (generated) images to an array of 0s.\n",
        "```\n",
        "\n"
      ]
    },
    {
      "cell_type": "code",
      "metadata": {
        "id": "JdRJoqLwr9kK"
      },
      "source": [
        "def discriminator_loss(real_output, fake_output):\n",
        "    real_loss = cross_entropy(tf.ones_like(real_output), real_output)\n",
        "    fake_loss = cross_entropy(tf.zeros_like(fake_output), fake_output)\n",
        "    total_loss = real_loss + fake_loss\n",
        "    return total_loss"
      ],
      "execution_count": null,
      "outputs": []
    },
    {
      "cell_type": "markdown",
      "metadata": {
        "id": "hRrn2pDlsJUB"
      },
      "source": [
        "#### Generator loss"
      ]
    },
    {
      "cell_type": "markdown",
      "metadata": {
        "id": "MljaHtylsNdW"
      },
      "source": [
        "\n",
        "\n",
        "```\n",
        "The generator's loss quantifies how well it was able to trick the discriminator. \n",
        "Intuitively, if the generator is performing well, the discriminator will classify the fake images as real (or 1). \n",
        "Here, we will compare the discriminators decisions on the generated images to an array of 1s.\n",
        "```\n",
        "\n"
      ]
    },
    {
      "cell_type": "code",
      "metadata": {
        "id": "wxvNdkjjsH7N"
      },
      "source": [
        "def generator_loss(fake_output):\n",
        "    return cross_entropy(tf.ones_like(fake_output), fake_output)"
      ],
      "execution_count": null,
      "outputs": []
    },
    {
      "cell_type": "markdown",
      "metadata": {
        "id": "ACZe8Nr2sT3a"
      },
      "source": [
        "\n",
        "\n",
        "```\n",
        "The discriminator and the generator optimizers are different since we will train two networks separately.\n",
        "```\n",
        "\n"
      ]
    },
    {
      "cell_type": "code",
      "metadata": {
        "id": "GMrILVlZsSDb"
      },
      "source": [
        "generator_optimizer = tf.keras.optimizers.Adam(1e-4)\n",
        "discriminator_optimizer = tf.keras.optimizers.Adam(1e-4)"
      ],
      "execution_count": null,
      "outputs": []
    },
    {
      "cell_type": "markdown",
      "metadata": {
        "id": "1IPefUptscIj"
      },
      "source": [
        "### Save checkpoints"
      ]
    },
    {
      "cell_type": "code",
      "metadata": {
        "id": "NhJsYhc1sXqU"
      },
      "source": [
        "checkpoint_dir = './training_checkpoints'\n",
        "checkpoint_prefix = os.path.join(checkpoint_dir, \"ckpt\")\n",
        "checkpoint = tf.train.Checkpoint(generator_optimizer=generator_optimizer, discriminator_optimizer=discriminator_optimizer, generator=generator, discriminator=discriminator)"
      ],
      "execution_count": null,
      "outputs": []
    },
    {
      "cell_type": "markdown",
      "metadata": {
        "id": "AZ0EWStesoED"
      },
      "source": [
        "### Define the training loop"
      ]
    },
    {
      "cell_type": "code",
      "metadata": {
        "id": "855ZsURcsjy1"
      },
      "source": [
        "EPOCHS = 50\n",
        "noise_dim = 100\n",
        "num_examples_to_generate = 16\n",
        "\n",
        "# We will reuse this seed overtime (so it's easier) to visualize progress in the animated GIF)\n",
        "seed = tf.random.normal([num_examples_to_generate, noise_dim])"
      ],
      "execution_count": null,
      "outputs": []
    },
    {
      "cell_type": "markdown",
      "metadata": {
        "id": "YrmXsKsBsxjB"
      },
      "source": [
        "\n",
        "\n",
        "```\n",
        "\n",
        "The training loop begins with generator receiving a random seed as input. \n",
        "That seed is used to produce an image. \n",
        "The discriminator is then used to classify real images (drawn from the training set) and fakes images (produced by the generator).\n",
        "The loss is calculated for each of these models, and the gradients are used to update the generator and discriminator.\n",
        "```\n",
        "\n"
      ]
    },
    {
      "cell_type": "code",
      "metadata": {
        "id": "2StgOiLdsqtl"
      },
      "source": [
        "# Notice the use of `tf.function`\n",
        "# This annotation causes the function to be \"compiled\".\n",
        "@tf.function\n",
        "def train_step(images):\n",
        "    noise = tf.random.normal([BATCH_SIZE, noise_dim])\n",
        "\n",
        "    with tf.GradientTape() as gen_tape, tf.GradientTape() as disc_tape:\n",
        "      generated_images = generator(noise, training=True)\n",
        "\n",
        "      real_output = discriminator(images, training=True)\n",
        "      fake_output = discriminator(generated_images, training=True)\n",
        "\n",
        "      gen_loss = generator_loss(fake_output)\n",
        "      disc_loss = discriminator_loss(real_output, fake_output)\n",
        "\n",
        "    gradients_of_generator = gen_tape.gradient(gen_loss, generator.trainable_variables)\n",
        "    gradients_of_discriminator = disc_tape.gradient(disc_loss, discriminator.trainable_variables)\n",
        "\n",
        "    generator_optimizer.apply_gradients(zip(gradients_of_generator, generator.trainable_variables))\n",
        "    discriminator_optimizer.apply_gradients(zip(gradients_of_discriminator, discriminator.trainable_variables))"
      ],
      "execution_count": null,
      "outputs": []
    },
    {
      "cell_type": "code",
      "metadata": {
        "id": "vGfBOKwqs3Im"
      },
      "source": [
        "def train(dataset, epochs):\n",
        "  for epoch in range(epochs):\n",
        "    start = time.time()\n",
        "\n",
        "    for image_batch in dataset:\n",
        "      train_step(image_batch)\n",
        "\n",
        "    # Produce images for the GIF as we go\n",
        "    display.clear_output(wait=True)\n",
        "    generate_and_save_images(generator, epoch + 1, seed)\n",
        "\n",
        "    # Save the model every 15 epochs\n",
        "    if (epoch + 1) % 15 == 0:\n",
        "      checkpoint.save(file_prefix = checkpoint_prefix)\n",
        "\n",
        "    print ('Time for epoch {} is {} sec'.format(epoch + 1, time.time()-start))\n",
        "\n",
        "  # Generate after the final epoch\n",
        "  display.clear_output(wait=True)\n",
        "  generate_and_save_images(generator, epochs, seed)"
      ],
      "execution_count": null,
      "outputs": []
    },
    {
      "cell_type": "markdown",
      "metadata": {
        "id": "RrxaEmT9tBWL"
      },
      "source": [
        "### Generate and save images\n"
      ]
    },
    {
      "cell_type": "code",
      "metadata": {
        "id": "ndJ3fUlNs_Ts"
      },
      "source": [
        "def generate_and_save_images(model, epoch, test_input):\n",
        "  # Notice `training` is set to False.\n",
        "  # This is so all layers run in inference mode (batchnorm).\n",
        "  predictions = model(test_input, training=False)\n",
        "\n",
        "  fig = plt.figure(figsize=(4,4))\n",
        "\n",
        "  for i in range(predictions.shape[0]):\n",
        "      plt.subplot(4, 4, i+1)\n",
        "      plt.imshow(predictions[i, :, :, 0] * 127.5 + 127.5, cmap='gray')\n",
        "      plt.axis('off')\n",
        "\n",
        "  plt.savefig('image_at_epoch_{:04d}.png'.format(epoch))\n",
        "  plt.show()"
      ],
      "execution_count": null,
      "outputs": []
    },
    {
      "cell_type": "markdown",
      "metadata": {
        "id": "tmtyR7kAtF1P"
      },
      "source": [
        "### Train the model"
      ]
    },
    {
      "cell_type": "markdown",
      "metadata": {
        "id": "pWE0j3OjtRBl"
      },
      "source": [
        "\n",
        "\n",
        "```\n",
        "Call the train() method defined above to train the generator and discriminator simultaneously. \n",
        "Note, training GANs can be tricky. It's important that the generator and discriminator do not overpower each other (e.g., that they train at a similar rate).\n",
        "```\n",
        "\n"
      ]
    },
    {
      "cell_type": "markdown",
      "metadata": {
        "id": "Q1iuxdbbtUoW"
      },
      "source": [
        "\n",
        "\n",
        "```\n",
        "At the beginning of the training, the generated images look like random noise. \n",
        "As training progresses, the generated digits will look increasingly real. \n",
        "After about 50 epochs, they resemble MNIST digits. \n",
        "```\n",
        "\n"
      ]
    },
    {
      "cell_type": "code",
      "metadata": {
        "colab": {
          "base_uri": "https://localhost:8080/",
          "height": 248
        },
        "id": "S5PM6M3ZtFQX",
        "outputId": "fc51cdfd-e276-4731-fb7b-d1b26ce475f9"
      },
      "source": [
        "train(train_dataset, EPOCHS)"
      ],
      "execution_count": null,
      "outputs": [
        {
          "output_type": "display_data",
          "data": {
            "image/png": "[encoded data removed]",
            "text/plain": [
              "<Figure size 288x288 with 16 Axes>"
            ]
          },
          "metadata": {
            "tags": [],
            "needs_background": "light"
          }
        }
      ]
    },
    {
      "cell_type": "code",
      "metadata": {
        "colab": {
          "base_uri": "https://localhost:8080/"
        },
        "id": "M6DuQCIytZW-",
        "outputId": "be4a4d57-5267-41e8-a685-130b418082d4"
      },
      "source": [
        "checkpoint.restore(tf.train.latest_checkpoint(checkpoint_dir))"
      ],
      "execution_count": null,
      "outputs": [
        {
          "output_type": "execute_result",
          "data": {
            "text/plain": [
              "<tensorflow.python.training.tracking.util.CheckpointLoadStatus at 0x7f26b9167390>"
            ]
          },
          "metadata": {
            "tags": []
          },
          "execution_count": 20
        }
      ]
    },
    {
      "cell_type": "markdown",
      "metadata": {
        "id": "DSr9_hTuteaG"
      },
      "source": [
        "### Create a GIF"
      ]
    },
    {
      "cell_type": "code",
      "metadata": {
        "id": "AZDRL15Lte_X"
      },
      "source": [
        "# Display a single image using the epoch number\n",
        "def display_image(epoch_no):\n",
        "  return PIL.Image.open('image_at_epoch_{:04d}.png'.format(epoch_no))"
      ],
      "execution_count": null,
      "outputs": []
    },
    {
      "cell_type": "code",
      "metadata": {
        "colab": {
          "base_uri": "https://localhost:8080/",
          "height": 305
        },
        "id": "ErjttaDQtjDK",
        "outputId": "f8af7174-1b5f-4804-a28c-fba352dba407"
      },
      "source": [
        "display_image(EPOCHS)"
      ],
      "execution_count": null,
      "outputs": [
        {
          "output_type": "execute_result",
          "data": {
            "image/png": "[encoded data removed]",
            "text/plain": [
              "<PIL.PngImagePlugin.PngImageFile image mode=RGBA size=288x288 at 0x7F26B9145630>"
            ]
          },
          "metadata": {
            "tags": []
          },
          "execution_count": 22
        }
      ]
    },
    {
      "cell_type": "code",
      "metadata": {
        "id": "Q4e3P11WtlMp"
      },
      "source": [
        "#Use imageio to create an animated gif using the images saved during training.\n",
        "\n",
        "anim_file = 'dcgan.gif'\n",
        "\n",
        "with imageio.get_writer(anim_file, mode='I') as writer:\n",
        "  filenames = glob.glob('image*.png')\n",
        "  filenames = sorted(filenames)\n",
        "  last = -1\n",
        "  for i,filename in enumerate(filenames):\n",
        "    frame = 2*(i**0.5)\n",
        "    if round(frame) > round(last):\n",
        "      last = frame\n",
        "    else:\n",
        "      continue\n",
        "    image = imageio.imread(filename)\n",
        "    writer.append_data(image)\n",
        "  image = imageio.imread(filename)\n",
        "  writer.append_data(image)\n",
        "\n",
        "import IPython\n",
        "if IPython.version_info > (6,2,0,''):\n",
        "  display.Image(filename=anim_file)"
      ],
      "execution_count": null,
      "outputs": []
    },
    {
      "cell_type": "code",
      "metadata": {
        "colab": {
          "base_uri": "https://localhost:8080/",
          "height": 17
        },
        "id": "qx2oB6Q5tpdo",
        "outputId": "324e0157-e0d0-4899-9076-696c3f85688b"
      },
      "source": [
        "#download the animation\n",
        "try:\n",
        "  from google.colab import files\n",
        "except ImportError:\n",
        "   pass\n",
        "else:\n",
        "  files.download(anim_file)"
      ],
      "execution_count": null,
      "outputs": [
        {
          "output_type": "display_data",
          "data": {
            "application/javascript": [
              "\n",
              "    async function download(id, filename, size) {\n",
              "      if (!google.colab.kernel.accessAllowed) {\n",
              "        return;\n",
              "      }\n",
              "      const div = document.createElement('div');\n",
              "      const label = document.createElement('label');\n",
              "      label.textContent = `Downloading \"${filename}\": `;\n",
              "      div.appendChild(label);\n",
              "      const progress = document.createElement('progress');\n",
              "      progress.max = size;\n",
              "      div.appendChild(progress);\n",
              "      document.body.appendChild(div);\n",
              "\n",
              "      const buffers = [];\n",
              "      let downloaded = 0;\n",
              "\n",
              "      const channel = await google.colab.kernel.comms.open(id);\n",
              "      // Send a message to notify the kernel that we're ready.\n",
              "      channel.send({})\n",
              "\n",
              "      for await (const message of channel.messages) {\n",
              "        // Send a message to notify the kernel that we're ready.\n",
              "        channel.send({})\n",
              "        if (message.buffers) {\n",
              "          for (const buffer of message.buffers) {\n",
              "            buffers.push(buffer);\n",
              "            downloaded += buffer.byteLength;\n",
              "            progress.value = downloaded;\n",
              "          }\n",
              "        }\n",
              "      }\n",
              "      const blob = new Blob(buffers, {type: 'application/binary'});\n",
              "      const a = document.createElement('a');\n",
              "      a.href = window.URL.createObjectURL(blob);\n",
              "      a.download = filename;\n",
              "      div.appendChild(a);\n",
              "      a.click();\n",
              "      div.remove();\n",
              "    }\n",
              "  "
            ],
            "text/plain": [
              "<IPython.core.display.Javascript object>"
            ]
          },
          "metadata": {
            "tags": []
          }
        },
        {
          "output_type": "display_data",
          "data": {
            "application/javascript": [
              "download(\"download_36ec1f25-d268-44d6-a3bf-24f91cd7c5a9\", \"dcgan.gif\", 461534)"
            ],
            "text/plain": [
              "<IPython.core.display.Javascript object>"
            ]
          },
          "metadata": {
            "tags": []
          }
        }
      ]
    },
    {
      "cell_type": "markdown",
      "metadata": {
        "id": "U35yv0XU12qn"
      },
      "source": [
        "# ***`Celebrity Face Generation Using Gans `***"
      ]
    },
    {
      "cell_type": "markdown",
      "metadata": {
        "id": "Wy5z1tikKzbI"
      },
      "source": [
        "### Packages & Modules"
      ]
    },
    {
      "cell_type": "code",
      "metadata": {
        "colab": {
          "base_uri": "https://localhost:8080/"
        },
        "id": "ad8_iGolCn-i",
        "outputId": "86207969-ef52-4f8c-aea2-7d2638a36783"
      },
      "source": [
        "from google.colab import drive\n",
        "drive.mount('/content/drive')"
      ],
      "execution_count": 67,
      "outputs": [
        {
          "output_type": "stream",
          "text": [
            "Drive already mounted at /content/drive; to attempt to forcibly remount, call drive.mount(\"/content/drive\", force_remount=True).\n"
          ],
          "name": "stdout"
        }
      ]
    },
    {
      "cell_type": "code",
      "metadata": {
        "id": "DsdwRNxEDH2s"
      },
      "source": [
        "import matplotlib.pyplot as plt\n",
        "import os, time  \n",
        "import numpy as np \n",
        "from keras.preprocessing.image import load_img\n",
        "from keras.preprocessing.image import img_to_array\n",
        "\n",
        "import tensorflow as tf"
      ],
      "execution_count": 68,
      "outputs": []
    },
    {
      "cell_type": "markdown",
      "metadata": {
        "id": "anMQ4mI72Fq4"
      },
      "source": [
        "### Getting the Data"
      ]
    },
    {
      "cell_type": "code",
      "metadata": {
        "id": "ycBRMZ4S1_K7",
        "colab": {
          "base_uri": "https://localhost:8080/"
        },
        "outputId": "242868e9-8d54-4f03-822e-066738f3dfe0"
      },
      "source": [
        "from google.colab import drive\r\n",
        "drive.mount('/content/drive')"
      ],
      "execution_count": 69,
      "outputs": [
        {
          "output_type": "stream",
          "text": [
            "Drive already mounted at /content/drive; to attempt to forcibly remount, call drive.mount(\"/content/drive\", force_remount=True).\n"
          ],
          "name": "stdout"
        }
      ]
    },
    {
      "cell_type": "code",
      "metadata": {
        "id": "9yt5RouU8sm6"
      },
      "source": [
        "Path = '/content/drive/MyDrive/Celeba'"
      ],
      "execution_count": 70,
      "outputs": []
    },
    {
      "cell_type": "code",
      "metadata": {
        "id": "_0t_CnMHbWJQ"
      },
      "source": [
        "import tensorflow as tf\r\n",
        "from tensorflow.keras.layers import Input, Reshape, Dropout, Dense \r\n",
        "from tensorflow.keras.layers import Flatten, BatchNormalization\r\n",
        "from tensorflow.keras.layers import Activation, ZeroPadding2D\r\n",
        "from tensorflow.keras.layers import LeakyReLU\r\n",
        "from tensorflow.keras.layers import UpSampling2D, Conv2D\r\n",
        "from tensorflow.keras.models import Sequential, Model, load_model\r\n",
        "from tensorflow.keras.optimizers import Adam\r\n",
        "import numpy as np\r\n",
        "from PIL import Image\r\n",
        "from tqdm import tqdm\r\n",
        "import os \r\n",
        "import time\r\n",
        "import matplotlib.pyplot as plt"
      ],
      "execution_count": 71,
      "outputs": []
    },
    {
      "cell_type": "code",
      "metadata": {
        "colab": {
          "base_uri": "https://localhost:8080/"
        },
        "id": "_MDCZ2enbWrt",
        "outputId": "193d0363-3b88-465d-da15-ad008f827e67"
      },
      "source": [
        "# Generation resolution - Must be square \r\n",
        "# Training data is also scaled to this.\r\n",
        "# Note GENERATE_RES 4 or higher  \r\n",
        "# will blow Google CoLab's memory and have not\r\n",
        "# been tested extensivly.\r\n",
        "GENERATE_RES = 3 # Generation resolution factor \r\n",
        "# (1=32, 2=64, 3=96, 4=128, etc.)\r\n",
        "GENERATE_SQUARE = 32 * GENERATE_RES # rows/cols (should be square)\r\n",
        "IMAGE_CHANNELS = 3\r\n",
        "\r\n",
        "# Preview image \r\n",
        "PREVIEW_ROWS = 4\r\n",
        "PREVIEW_COLS = 7\r\n",
        "PREVIEW_MARGIN = 16\r\n",
        "\r\n",
        "# Size vector to generate images from\r\n",
        "SEED_SIZE = 100\r\n",
        "\r\n",
        "# Configuration\r\n",
        "DATA_PATH = '/content/drive/MyDrive/Celeba'\r\n",
        "EPOCHS = 50\r\n",
        "BATCH_SIZE = 256\r\n",
        "BUFFER_SIZE = 60000\r\n",
        "\r\n",
        "print(f\"Will generate {GENERATE_SQUARE}px square images.\")"
      ],
      "execution_count": 72,
      "outputs": [
        {
          "output_type": "stream",
          "text": [
            "Will generate 96px square images.\n"
          ],
          "name": "stdout"
        }
      ]
    },
    {
      "cell_type": "code",
      "metadata": {
        "colab": {
          "base_uri": "https://localhost:8080/"
        },
        "id": "2iNmJbFabeV8",
        "outputId": "69e74193-2a82-4701-a953-6880fd24e905"
      },
      "source": [
        "# Image set has 11,682 images.  Can take over an hour \r\n",
        "# for initial preprocessing.\r\n",
        "# Because of this time needed, save a Numpy preprocessed file.\r\n",
        "# Note, that file is large enough to cause problems for \r\n",
        "# sume verisons of Pickle,\r\n",
        "# so Numpy binary files are used.\r\n",
        "training_binary_path = os.path.join(DATA_PATH,\r\n",
        "        f'training_data_{GENERATE_SQUARE}_{GENERATE_SQUARE}.npy')\r\n",
        "\r\n",
        "print(f\"Looking for file: {training_binary_path}\")\r\n",
        "\r\n",
        "if not os.path.isfile(training_binary_path):\r\n",
        "  start = time.time()\r\n",
        "  print(\"Loading training images...\")\r\n",
        "\r\n",
        "  training_data = []\r\n",
        "  faces_path = os.path.join(DATA_PATH)\r\n",
        "  for filename in tqdm(os.listdir(faces_path)):\r\n",
        "      path = os.path.join(faces_path,filename)\r\n",
        "      image = Image.open(path).resize((GENERATE_SQUARE, GENERATE_SQUARE),Image.ANTIALIAS)\r\n",
        "      training_data.append(np.asarray(image))\r\n",
        "  training_data = np.reshape(training_data,(-1,GENERATE_SQUARE, GENERATE_SQUARE,IMAGE_CHANNELS))\r\n",
        "  training_data = training_data.astype(np.float32)\r\n",
        "  training_data = training_data / 127.5 - 1.\r\n",
        "\r\n",
        "\r\n",
        "  print(\"Saving training image binary...\")\r\n",
        "  np.save(training_binary_path,training_data)\r\n",
        "  elapsed = time.time()-start\r\n",
        "  #print (f'Image preprocess time: {hms_string(elapsed)}')\r\n",
        "else:\r\n",
        "  print(\"Loading previous training pickle...\")\r\n",
        "  training_data = np.load(training_binary_path)"
      ],
      "execution_count": 73,
      "outputs": [
        {
          "output_type": "stream",
          "text": [
            "Looking for file: /content/drive/MyDrive/Celeba/training_data_96_96.npy\n",
            "Loading previous training pickle...\n"
          ],
          "name": "stdout"
        }
      ]
    },
    {
      "cell_type": "code",
      "metadata": {
        "id": "5n1v5jebv2xN"
      },
      "source": [
        "# Batch and shuffle the data\r\n",
        "training_data = tf.data.Dataset.from_tensor_slices(training_data).shuffle(BUFFER_SIZE).batch(BATCH_SIZE)"
      ],
      "execution_count": 74,
      "outputs": []
    },
    {
      "cell_type": "markdown",
      "metadata": {
        "id": "xatUCJmjxwbh"
      },
      "source": [
        "### The Generator"
      ]
    },
    {
      "cell_type": "code",
      "metadata": {
        "id": "qJbetgNOxV8w"
      },
      "source": [
        "def build_generator(seed_size, channels):\r\n",
        "    model = Sequential()\r\n",
        "\r\n",
        "    model.add(Dense(4*4*256,activation=\"relu\",input_dim=seed_size))\r\n",
        "    model.add(Reshape((4,4,256)))\r\n",
        "\r\n",
        "    model.add(UpSampling2D())\r\n",
        "    model.add(Conv2D(256,kernel_size=3,padding=\"same\"))\r\n",
        "    model.add(BatchNormalization(momentum=0.8))\r\n",
        "    model.add(Activation(\"relu\"))\r\n",
        "\r\n",
        "    model.add(UpSampling2D())\r\n",
        "    model.add(Conv2D(256,kernel_size=3,padding=\"same\"))\r\n",
        "    model.add(BatchNormalization(momentum=0.8))\r\n",
        "    model.add(Activation(\"relu\"))\r\n",
        "   \r\n",
        "    # Output resolution, additional upsampling\r\n",
        "    model.add(UpSampling2D())\r\n",
        "    model.add(Conv2D(128,kernel_size=3,padding=\"same\"))\r\n",
        "    model.add(BatchNormalization(momentum=0.8))\r\n",
        "    model.add(Activation(\"relu\"))\r\n",
        "\r\n",
        "    if GENERATE_RES>1:\r\n",
        "      model.add(UpSampling2D(size=(GENERATE_RES,GENERATE_RES)))\r\n",
        "      model.add(Conv2D(128,kernel_size=3,padding=\"same\"))\r\n",
        "      model.add(BatchNormalization(momentum=0.8))\r\n",
        "      model.add(Activation(\"relu\"))\r\n",
        "\r\n",
        "    # Final CNN layer\r\n",
        "    model.add(Conv2D(channels,kernel_size=3,padding=\"same\"))\r\n",
        "    model.add(Activation(\"tanh\"))\r\n",
        "\r\n",
        "    return model"
      ],
      "execution_count": 75,
      "outputs": []
    },
    {
      "cell_type": "markdown",
      "metadata": {
        "id": "Aef-hhmgxzc_"
      },
      "source": [
        "### The Discriminator"
      ]
    },
    {
      "cell_type": "code",
      "metadata": {
        "id": "ntdoMwzZxyMv"
      },
      "source": [
        "def build_discriminator(image_shape):\r\n",
        "    model = Sequential()\r\n",
        "\r\n",
        "    model.add(Conv2D(32, kernel_size=3, strides=2, input_shape=image_shape, padding=\"same\"))\r\n",
        "    model.add(LeakyReLU(alpha=0.2))\r\n",
        "\r\n",
        "    model.add(Dropout(0.25))\r\n",
        "    model.add(Conv2D(64, kernel_size=3, strides=2, padding=\"same\"))\r\n",
        "    model.add(ZeroPadding2D(padding=((0,1),(0,1))))\r\n",
        "    model.add(BatchNormalization(momentum=0.8))\r\n",
        "    model.add(LeakyReLU(alpha=0.2))\r\n",
        "\r\n",
        "    model.add(Dropout(0.25))\r\n",
        "    model.add(Conv2D(128, kernel_size=3, strides=2, padding=\"same\"))\r\n",
        "    model.add(BatchNormalization(momentum=0.8))\r\n",
        "    model.add(LeakyReLU(alpha=0.2))\r\n",
        "\r\n",
        "    model.add(Dropout(0.25))\r\n",
        "    model.add(Conv2D(256, kernel_size=3, strides=1, padding=\"same\"))\r\n",
        "    model.add(BatchNormalization(momentum=0.8))\r\n",
        "    model.add(LeakyReLU(alpha=0.2))\r\n",
        "\r\n",
        "    model.add(Dropout(0.25))\r\n",
        "    model.add(Conv2D(512, kernel_size=3, strides=1, padding=\"same\"))\r\n",
        "    model.add(BatchNormalization(momentum=0.8))\r\n",
        "    model.add(LeakyReLU(alpha=0.2))\r\n",
        "\r\n",
        "    model.add(Dropout(0.25))\r\n",
        "    model.add(Flatten())\r\n",
        "    model.add(Dense(1, activation='sigmoid'))\r\n",
        "\r\n",
        "    return model"
      ],
      "execution_count": 76,
      "outputs": []
    },
    {
      "cell_type": "markdown",
      "metadata": {
        "id": "iWsHysLRyDCf"
      },
      "source": [
        "### Save Images"
      ]
    },
    {
      "cell_type": "code",
      "metadata": {
        "id": "ipYhbIBAx4N4"
      },
      "source": [
        "def save_images(cnt,noise):\r\n",
        "  image_array = np.full(( \r\n",
        "      PREVIEW_MARGIN + (PREVIEW_ROWS * (GENERATE_SQUARE+PREVIEW_MARGIN)), \r\n",
        "      PREVIEW_MARGIN + (PREVIEW_COLS * (GENERATE_SQUARE+PREVIEW_MARGIN)), 3), \r\n",
        "      255, dtype=np.uint8)\r\n",
        "  \r\n",
        "  generated_images = generator.predict(noise)\r\n",
        "\r\n",
        "  generated_images = 0.5 * generated_images + 0.5\r\n",
        "\r\n",
        "  image_count = 0\r\n",
        "  for row in range(PREVIEW_ROWS):\r\n",
        "      for col in range(PREVIEW_COLS):\r\n",
        "        r = row * (GENERATE_SQUARE+16) + PREVIEW_MARGIN\r\n",
        "        c = col * (GENERATE_SQUARE+16) + PREVIEW_MARGIN\r\n",
        "        image_array[r:r+GENERATE_SQUARE,c:c+GENERATE_SQUARE] = generated_images[image_count] * 255\r\n",
        "        image_count += 1\r\n",
        "\r\n",
        "          \r\n",
        "  output_path = os.path.join(DATA_PATH,'output')\r\n",
        "  if not os.path.exists(output_path):\r\n",
        "    os.makedirs(output_path)\r\n",
        "  \r\n",
        "  filename = os.path.join(output_path,f\"train-{cnt}.png\")\r\n",
        "  im = Image.fromarray(image_array)\r\n",
        "  im.save(filename)"
      ],
      "execution_count": 77,
      "outputs": []
    },
    {
      "cell_type": "code",
      "metadata": {
        "colab": {
          "base_uri": "https://localhost:8080/",
          "height": 285
        },
        "id": "JOzYGJxhyENP",
        "outputId": "b12bf254-8adf-49a7-fe79-b3e1f902d20c"
      },
      "source": [
        "generator = build_generator(SEED_SIZE, IMAGE_CHANNELS)\r\n",
        "\r\n",
        "noise = tf.random.normal([1, SEED_SIZE])\r\n",
        "generated_image = generator(noise, training=False)\r\n",
        "\r\n",
        "plt.imshow(generated_image[0, :, :, 0])"
      ],
      "execution_count": 78,
      "outputs": [
        {
          "output_type": "execute_result",
          "data": {
            "text/plain": [
              "<matplotlib.image.AxesImage at 0x7f03a405e5f8>"
            ]
          },
          "metadata": {
            "tags": []
          },
          "execution_count": 78
        },
        {
          "output_type": "display_data",
          "data": {
            "image/png": "[encoded data removed]",
            "text/plain": [
              "<Figure size 432x288 with 1 Axes>"
            ]
          },
          "metadata": {
            "tags": [],
            "needs_background": "light"
          }
        }
      ]
    },
    {
      "cell_type": "code",
      "metadata": {
        "colab": {
          "base_uri": "https://localhost:8080/"
        },
        "id": "Ymrayy4uyJkY",
        "outputId": "9750d86e-4f12-46ec-f191-1d92e2c0bca9"
      },
      "source": [
        "image_shape = (GENERATE_SQUARE,GENERATE_SQUARE,IMAGE_CHANNELS)\r\n",
        "\r\n",
        "discriminator = build_discriminator(image_shape)\r\n",
        "decision = discriminator(generated_image)\r\n",
        "print (decision)"
      ],
      "execution_count": 79,
      "outputs": [
        {
          "output_type": "stream",
          "text": [
            "tf.Tensor([[0.5001728]], shape=(1, 1), dtype=float32)\n"
          ],
          "name": "stdout"
        }
      ]
    },
    {
      "cell_type": "markdown",
      "metadata": {
        "id": "IC88-hjXyTnL"
      },
      "source": [
        "### The Loss"
      ]
    },
    {
      "cell_type": "code",
      "metadata": {
        "id": "UrmFscUTySZs"
      },
      "source": [
        "# This method returns a helper function to compute cross entropy loss\r\n",
        "cross_entropy = tf.keras.losses.BinaryCrossentropy()\r\n",
        "\r\n",
        "def discriminator_loss(real_output, fake_output):\r\n",
        "    real_loss = cross_entropy(tf.ones_like(real_output), real_output)\r\n",
        "    fake_loss = cross_entropy(tf.zeros_like(fake_output), fake_output)\r\n",
        "    total_loss = real_loss + fake_loss\r\n",
        "    return total_loss\r\n",
        "\r\n",
        "def generator_loss(fake_output):\r\n",
        "    return cross_entropy(tf.ones_like(fake_output), fake_output)"
      ],
      "execution_count": 80,
      "outputs": []
    },
    {
      "cell_type": "markdown",
      "metadata": {
        "id": "w_Vfo46LycpC"
      },
      "source": [
        "### The Optimizer"
      ]
    },
    {
      "cell_type": "code",
      "metadata": {
        "id": "ttW9PnA2ygqi"
      },
      "source": [
        "generator_optimizer = tf.keras.optimizers.Adam(1.5e-4,0.5)\r\n",
        "discriminator_optimizer = tf.keras.optimizers.Adam(1.5e-4,0.5)"
      ],
      "execution_count": 81,
      "outputs": []
    },
    {
      "cell_type": "markdown",
      "metadata": {
        "id": "0ezWdB4_ykUH"
      },
      "source": [
        "### Training"
      ]
    },
    {
      "cell_type": "code",
      "metadata": {
        "id": "5DrftokByl-4"
      },
      "source": [
        "@tf.function\r\n",
        "def train_step(images):\r\n",
        "  seed = tf.random.normal([BATCH_SIZE, SEED_SIZE])\r\n",
        "\r\n",
        "  with tf.GradientTape() as gen_tape, tf.GradientTape() as disc_tape:\r\n",
        "    generated_images = generator(seed, training=True)\r\n",
        "\r\n",
        "    real_output = discriminator(images, training=True)\r\n",
        "    fake_output = discriminator(generated_images, training=True)\r\n",
        "\r\n",
        "    gen_loss = generator_loss(fake_output)\r\n",
        "    disc_loss = discriminator_loss(real_output, fake_output)\r\n",
        "    \r\n",
        "\r\n",
        "    gradients_of_generator = gen_tape.gradient(gen_loss, generator.trainable_variables)\r\n",
        "    gradients_of_discriminator = disc_tape.gradient(disc_loss, discriminator.trainable_variables)\r\n",
        "\r\n",
        "    generator_optimizer.apply_gradients(zip(gradients_of_generator, generator.trainable_variables))\r\n",
        "    discriminator_optimizer.apply_gradients(zip(gradients_of_discriminator, discriminator.trainable_variables))\r\n",
        "  return gen_loss,disc_loss"
      ],
      "execution_count": 84,
      "outputs": []
    },
    {
      "cell_type": "code",
      "metadata": {
        "id": "8FowonPkyrHo"
      },
      "source": [
        "def train(dataset, epochs):\r\n",
        "  fixed_seed = np.random.normal(0, 1, (PREVIEW_ROWS * PREVIEW_COLS, SEED_SIZE))\r\n",
        "  start = time.time()\r\n",
        "\r\n",
        "  for epoch in range(epochs):\r\n",
        "    epoch_start = time.time()\r\n",
        "\r\n",
        "    gen_loss_list = []\r\n",
        "    disc_loss_list = []\r\n",
        "\r\n",
        "    for image_batch in dataset:\r\n",
        "      t = train_step(image_batch)\r\n",
        "      gen_loss_list.append(t[0])\r\n",
        "      disc_loss_list.append(t[1])\r\n",
        "\r\n",
        "    g_loss = sum(gen_loss_list) / len(gen_loss_list)\r\n",
        "    d_loss = sum(disc_loss_list) / len(disc_loss_list)\r\n",
        "\r\n",
        "    epoch_elapsed = time.time()-epoch_start\r\n",
        "    print (f'Epoch {epoch+1}, gen loss={g_loss},disc loss={d_loss}')\r\n",
        "    save_images(epoch,fixed_seed)\r\n",
        "\r\n",
        "  elapsed = time.time()-start\r\n",
        "  #print (f'Training time: {hms_string(elapsed)}')\r\n"
      ],
      "execution_count": 85,
      "outputs": []
    },
    {
      "cell_type": "code",
      "metadata": {
        "colab": {
          "base_uri": "https://localhost:8080/"
        },
        "id": "H-xsq0byzMG2",
        "outputId": "4763d18c-5a89-4dae-a1fc-8142884b18ad"
      },
      "source": [
        "train(train_dataset, EPOCHS)"
      ],
      "execution_count": 86,
      "outputs": [
        {
          "output_type": "stream",
          "text": [
            "Epoch 1, gen loss=3.007207155227661,disc loss=0.685107946395874\n",
            "Epoch 2, gen loss=4.0880327224731445,disc loss=1.197810173034668\n",
            "Epoch 3, gen loss=3.52050518989563,disc loss=0.84637850522995\n",
            "Epoch 4, gen loss=4.621041774749756,disc loss=1.2050994634628296\n",
            "Epoch 5, gen loss=3.731973171234131,disc loss=1.1571598052978516\n",
            "Epoch 6, gen loss=3.582040309906006,disc loss=1.0031410455703735\n",
            "Epoch 7, gen loss=3.499659299850464,disc loss=1.699402093887329\n",
            "Epoch 8, gen loss=3.4895408153533936,disc loss=1.2047970294952393\n",
            "Epoch 9, gen loss=4.9809417724609375,disc loss=1.2620799541473389\n",
            "Epoch 10, gen loss=3.297924518585205,disc loss=1.5455124378204346\n",
            "Epoch 11, gen loss=4.527169227600098,disc loss=1.2270522117614746\n",
            "Epoch 12, gen loss=3.2336723804473877,disc loss=1.4150569438934326\n",
            "Epoch 13, gen loss=3.679150342941284,disc loss=1.9811394214630127\n",
            "Epoch 14, gen loss=3.517857313156128,disc loss=1.0975408554077148\n",
            "Epoch 15, gen loss=3.064080238342285,disc loss=1.814024567604065\n",
            "Epoch 16, gen loss=2.1141746044158936,disc loss=1.3366608619689941\n",
            "Epoch 17, gen loss=2.3931355476379395,disc loss=1.3873885869979858\n",
            "Epoch 18, gen loss=2.0210766792297363,disc loss=1.5840153694152832\n",
            "Epoch 19, gen loss=1.9102894067764282,disc loss=1.157095193862915\n",
            "Epoch 20, gen loss=1.9085819721221924,disc loss=1.2367870807647705\n",
            "Epoch 21, gen loss=2.067870616912842,disc loss=1.402506709098816\n",
            "Epoch 22, gen loss=2.1877925395965576,disc loss=1.1770656108856201\n",
            "Epoch 23, gen loss=2.502593517303467,disc loss=1.1763042211532593\n",
            "Epoch 24, gen loss=2.6416640281677246,disc loss=1.071857213973999\n",
            "Epoch 25, gen loss=2.456160545349121,disc loss=0.9885465502738953\n",
            "Epoch 26, gen loss=2.0924699306488037,disc loss=1.1685129404067993\n",
            "Epoch 27, gen loss=2.0933735370635986,disc loss=0.8834239840507507\n",
            "Epoch 28, gen loss=2.6736655235290527,disc loss=1.1916950941085815\n",
            "Epoch 29, gen loss=2.309210777282715,disc loss=1.4192817211151123\n",
            "Epoch 30, gen loss=2.2206950187683105,disc loss=0.9685619473457336\n",
            "Epoch 31, gen loss=2.101147413253784,disc loss=0.9613456726074219\n",
            "Epoch 32, gen loss=2.749056339263916,disc loss=1.0928823947906494\n",
            "Epoch 33, gen loss=2.2497975826263428,disc loss=1.0875598192214966\n",
            "Epoch 34, gen loss=3.215165376663208,disc loss=1.3489561080932617\n",
            "Epoch 35, gen loss=3.843029499053955,disc loss=1.6960766315460205\n",
            "Epoch 36, gen loss=2.9258317947387695,disc loss=0.9623475074768066\n",
            "Epoch 37, gen loss=3.301863193511963,disc loss=1.2393269538879395\n",
            "Epoch 38, gen loss=2.4623305797576904,disc loss=0.9301454424858093\n",
            "Epoch 39, gen loss=3.796351909637451,disc loss=1.1592750549316406\n",
            "Epoch 40, gen loss=2.8212194442749023,disc loss=0.7693519592285156\n",
            "Epoch 41, gen loss=3.36899995803833,disc loss=0.9008489847183228\n",
            "Epoch 42, gen loss=3.3420615196228027,disc loss=0.5583383440971375\n",
            "Epoch 43, gen loss=3.5230205059051514,disc loss=0.8081635236740112\n",
            "Epoch 44, gen loss=4.486720561981201,disc loss=1.2725882530212402\n",
            "Epoch 45, gen loss=3.367863416671753,disc loss=0.985498309135437\n",
            "Epoch 46, gen loss=3.128962755203247,disc loss=1.1655312776565552\n",
            "Epoch 47, gen loss=3.0515689849853516,disc loss=0.9981813430786133\n",
            "Epoch 48, gen loss=2.8726649284362793,disc loss=0.8536571264266968\n",
            "Epoch 49, gen loss=2.9475913047790527,disc loss=0.9873095750808716\n",
            "Epoch 50, gen loss=2.6274094581604004,disc loss=1.0108144283294678\n"
          ],
          "name": "stdout"
        }
      ]
    },
    {
      "cell_type": "code",
      "metadata": {
        "id": "EjF_n5hg7dKT"
      },
      "source": [
        "generator.save(os.path.join(DATA_PATH,\"face_generator.h5\"))"
      ],
      "execution_count": 90,
      "outputs": []
    }
  ]
}