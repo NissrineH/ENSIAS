{
  "nbformat": 4,
  "nbformat_minor": 0,
  "metadata": {
    "accelerator": "GPU",
    "colab": {
      "name": "DeepLearning Project Notebook.ipynb",
      "provenance": [],
      "collapsed_sections": [
        "vpdEc-UfPUri",
        "UAzUGhD_cmd_",
        "UFZEw2-Lc9eu"
      ],
      "toc_visible": true,
      "include_colab_link": true
    },
    "kernelspec": {
      "display_name": "Python 3",
      "name": "python3"
    }
  },
  "cells": [
    {
      "cell_type": "markdown",
      "metadata": {
        "id": "view-in-github",
        "colab_type": "text"
      },
      "source": [
        "<a href=\"https://colab.research.google.com/github/NissrineH/ENSIAS/blob/master/DeepLearning_Project_Notebook.ipynb\" target=\"_parent\"><img src=\"https://colab.research.google.com/assets/colab-badge.svg\" alt=\"Open In Colab\"/></a>"
      ]
    },
    {
      "cell_type": "markdown",
      "metadata": {
        "id": "tMHv_C1GQOsX"
      },
      "source": [
        "> ##   *Deep Learning : Nissrine Hatibi*\r\n",
        "> ## ***Classification des Séquences Promotrices du Génome Humain***\r\n",
        "---\r\n"
      ]
    },
    {
      "cell_type": "markdown",
      "metadata": {
        "id": "vpdEc-UfPUri"
      },
      "source": [
        "## *Modules et Packages*\r\n",
        "\r\n",
        "\r\n",
        "\r\n",
        "\r\n"
      ]
    },
    {
      "cell_type": "code",
      "metadata": {
        "colab": {
          "base_uri": "https://localhost:8080/"
        },
        "id": "TS-ywSm1CML8",
        "outputId": "fc26c872-893b-4ed7-e40a-f8bf33a424d2"
      },
      "source": [
        "!pip install biopython"
      ],
      "execution_count": 5,
      "outputs": [
        {
          "output_type": "stream",
          "text": [
            "Collecting biopython\n",
            "\u001b[?25l  Downloading https://files.pythonhosted.org/packages/76/02/8b606c4aa92ff61b5eda71d23b499ab1de57d5e818be33f77b01a6f435a8/biopython-1.78-cp36-cp36m-manylinux1_x86_64.whl (2.3MB)\n",
            "\u001b[K     |████████████████████████████████| 2.3MB 7.0MB/s \n",
            "\u001b[?25hRequirement already satisfied: numpy in /usr/local/lib/python3.6/dist-packages (from biopython) (1.19.4)\n",
            "Installing collected packages: biopython\n",
            "Successfully installed biopython-1.78\n"
          ],
          "name": "stdout"
        }
      ]
    },
    {
      "cell_type": "code",
      "metadata": {
        "id": "yGoxgGADgKC3"
      },
      "source": [
        "from fastai import *\n",
        "from fastai.text import *\n",
        "from Bio import Seq\n",
        "from Bio.Seq import Seq\n",
        "from Bio import SeqIO\n",
        "from Bio.SeqRecord import SeqRecord\n",
        "from Bio.SeqFeature import FeatureLocation, CompoundLocation\n",
        "import networkx as nx"
      ],
      "execution_count": 6,
      "outputs": []
    },
    {
      "cell_type": "markdown",
      "metadata": {
        "id": "ql1_jG4gRsUs"
      },
      "source": [
        "# ***Classification des séquences promotrices du génome humain suivant l'approche ULMFiT***"
      ]
    },
    {
      "cell_type": "markdown",
      "metadata": {
        "id": "7hktoS1zRg1f"
      },
      "source": [
        "**Un Promoteur**"
      ]
    },
    {
      "cell_type": "markdown",
      "metadata": {
        "id": "KXaqtZBTRPD7"
      },
      "source": [
        "\r\n",
        "\r\n",
        "```\r\n",
        "Un promoteur, ou séquence promotrice, est une région de l'ADN située à proximité d'un gène et est indispensable à la transcription de l'ADN en ARN.\r\n",
        "Le promoteur est la zone de l'ADN sur laquelle se fixe initialement l'ARN polymérase, avant de démarrer la synthèse de l'ARN.\r\n",
        "```\r\n",
        "\r\n"
      ]
    },
    {
      "cell_type": "markdown",
      "metadata": {
        "id": "4U46ZOtdSIXq"
      },
      "source": [
        "**ULMFiT**"
      ]
    },
    {
      "cell_type": "markdown",
      "metadata": {
        "id": "BIR7mHxQSLS0"
      },
      "source": [
        "\r\n",
        "\r\n",
        "```\r\n",
        "ULMFiT (Universal Language Model Fine-tuning for Text Classification) est une méthode de Transfer Learning pour les tâches NLP.\r\n",
        "```\r\n",
        "\r\n"
      ]
    },
    {
      "cell_type": "markdown",
      "metadata": {
        "id": "s_7g94oQe5JB"
      },
      "source": [
        "**Transfer Learning**"
      ]
    },
    {
      "cell_type": "markdown",
      "metadata": {
        "id": "ARTkDoZCe9Fj"
      },
      "source": [
        "\r\n",
        "\r\n",
        "```\r\n",
        "Le Transfer Learning est le processus consistant à utiliser un modèle formé pour résoudre une tâche comme base pour résoudre une autre tâche.\r\n",
        "Cela signifie qu'au lieu de former un modèle à partir de zéro pour la deuxième tâche, on initialise le modèle avec les poids appris de la tâche initiale, \r\n",
        "puis on affine les poids vers la deuxième tâche.\r\n",
        "```\r\n",
        "\r\n"
      ]
    },
    {
      "cell_type": "markdown",
      "metadata": {
        "id": "yfZiXEbeA6AB"
      },
      "source": [
        "## *Human Genome Data Processing*\r\n",
        "\r\n",
        "\r\n",
        "\r\n",
        "\r\n"
      ]
    },
    {
      "cell_type": "code",
      "metadata": {
        "colab": {
          "base_uri": "https://localhost:8080/"
        },
        "id": "V9wtnP-E0eyK",
        "outputId": "f5164e96-5cea-4e0d-bdae-0953b2f018fd"
      },
      "source": [
        "from google.colab import drive\n",
        "drive.mount('/content/drive')"
      ],
      "execution_count": 7,
      "outputs": [
        {
          "output_type": "stream",
          "text": [
            "Mounted at /content/drive\n"
          ],
          "name": "stdout"
        }
      ]
    },
    {
      "cell_type": "markdown",
      "metadata": {
        "id": "cAOdTsk3S9u1"
      },
      "source": [
        "**Données**"
      ]
    },
    {
      "cell_type": "markdown",
      "metadata": {
        "id": "VcRLiN_iTAO1"
      },
      "source": [
        "\r\n",
        "\r\n",
        "```\r\n",
        "Les ensembles de données utilisés pour les tâches de classification sont extraits de la publication existante :\r\n",
        "« Recognition of Prokaryotic and Eukaryotic Promoters using Convolutional Deep Learning Neural Networks» .\r\n",
        "```\r\n",
        "\r\n"
      ]
    },
    {
      "cell_type": "code",
      "metadata": {
        "id": "ahDClaRNCEkl"
      },
      "source": [
        "path = '/content/drive/MyDrive/DeepLearning Project Notebook/Data/'\r\n",
        "fname1 = '/content/drive/MyDrive/DeepLearning Project Notebook/Data/human_non_tata.fa'\r\n",
        "fname2 = '/content/drive/MyDrive/DeepLearning Project Notebook/Data/human_nonprom_big.fa'"
      ],
      "execution_count": 8,
      "outputs": []
    },
    {
      "cell_type": "code",
      "metadata": {
        "id": "nriqDPaIDxKI"
      },
      "source": [
        "fasta1 = SeqIO.parse(fname1, 'fasta')\r\n",
        "seqs1 = [i.seq.__str__() for i in fasta1 if set(i.seq.__str__()) == set('ATGC')]\r\n",
        "seq1_df = pd.DataFrame(seqs1, columns=['Sequence'])\r\n",
        "seq1_df['Promoter'] = 1"
      ],
      "execution_count": 9,
      "outputs": []
    },
    {
      "cell_type": "code",
      "metadata": {
        "id": "Oqwg20nRCXNf"
      },
      "source": [
        "fasta2 = SeqIO.parse(fname2, 'fasta')\r\n",
        "seqs2 = [i.seq.__str__() for i in fasta2 if set(i.seq.__str__()) == set('ATGC')]\r\n",
        "seq2_df = pd.DataFrame(seqs2, columns=['Sequence'])\r\n",
        "seq2_df['Promoter'] = 0"
      ],
      "execution_count": 10,
      "outputs": []
    },
    {
      "cell_type": "code",
      "metadata": {
        "colab": {
          "base_uri": "https://localhost:8080/"
        },
        "id": "Hr_bax7JDSQF",
        "outputId": "6b90a7c4-224e-408c-84ac-86bca1deab9d"
      },
      "source": [
        "seq1_df.shape, seq2_df.shape"
      ],
      "execution_count": 11,
      "outputs": [
        {
          "output_type": "execute_result",
          "data": {
            "text/plain": [
              "((19809, 2), (27703, 2))"
            ]
          },
          "metadata": {
            "tags": []
          },
          "execution_count": 11
        }
      ]
    },
    {
      "cell_type": "code",
      "metadata": {
        "id": "UzJu6O15EiPD"
      },
      "source": [
        "seq1_df.drop_duplicates(inplace=True)\r\n",
        "seq2_df.drop_duplicates(inplace=True)"
      ],
      "execution_count": 12,
      "outputs": []
    },
    {
      "cell_type": "code",
      "metadata": {
        "colab": {
          "base_uri": "https://localhost:8080/"
        },
        "id": "_bPdPvaxEl-I",
        "outputId": "3cbbda7b-1107-451c-fa7a-72ca65331193"
      },
      "source": [
        "seq1_df.shape, seq2_df.shape"
      ],
      "execution_count": 13,
      "outputs": [
        {
          "output_type": "execute_result",
          "data": {
            "text/plain": [
              "((19787, 2), (27038, 2))"
            ]
          },
          "metadata": {
            "tags": []
          },
          "execution_count": 13
        }
      ]
    },
    {
      "cell_type": "markdown",
      "metadata": {
        "id": "4UjwZaijDxy7"
      },
      "source": [
        "\r\n",
        "\r\n",
        "```\r\n",
        "15% de séquences vont être utilisées  pour le test. \r\n",
        "Du 85% séquences réstantes, 90% vont être utilisées pour l'entrainement et 10% vont être utilisées pour la validation.\r\n",
        "```"
      ]
    },
    {
      "cell_type": "code",
      "metadata": {
        "id": "8uTknNj3EoUA"
      },
      "source": [
        "def partition_data(df):\r\n",
        "    \r\n",
        "    train_size = int(len(df)*0.85*.9)\r\n",
        "    valid_size = int(len(df)*0.85) - train_size\r\n",
        "    \r\n",
        "    train_df = df.sample(train_size)\r\n",
        "    test_val = df.drop(train_df.index)\r\n",
        "    valid_df = test_val.sample(valid_size)\r\n",
        "    test_df = test_val.drop(valid_df.index)\r\n",
        "    train_df['set'] = 'train'\r\n",
        "    valid_df['set'] = 'valid'\r\n",
        "    test_df['set'] = 'test'\r\n",
        "    \r\n",
        "    return (train_df, valid_df, test_df)"
      ],
      "execution_count": 14,
      "outputs": []
    },
    {
      "cell_type": "code",
      "metadata": {
        "id": "tSu41j5xEvG9"
      },
      "source": [
        "t1, v1, test1 = partition_data(seq1_df)\r\n",
        "t2, v2, test2 = partition_data(seq2_df)\r\n",
        "data_df = pd.concat([t1,t2,v1,v2,test1,test2])"
      ],
      "execution_count": 15,
      "outputs": []
    },
    {
      "cell_type": "code",
      "metadata": {
        "colab": {
          "base_uri": "https://localhost:8080/"
        },
        "id": "1B-fMsy4Ew7y",
        "outputId": "eef9a685-1600-49f2-e11d-d4707578e3e1"
      },
      "source": [
        "data_df[data_df.set == 'train'].shape, data_df[data_df.set == 'valid'].shape, data_df[data_df.set == 'test'].shape, data_df.shape"
      ],
      "execution_count": 16,
      "outputs": [
        {
          "output_type": "execute_result",
          "data": {
            "text/plain": [
              "((35821, 3), (3979, 3), (7025, 3), (46825, 3))"
            ]
          },
          "metadata": {
            "tags": []
          },
          "execution_count": 16
        }
      ]
    },
    {
      "cell_type": "code",
      "metadata": {
        "id": "UbHBthx0FAZs"
      },
      "source": [
        "data_df.to_csv('/content/drive/MyDrive/DeepLearning Project Notebook/Output/human_promoters_short.csv', index=False)"
      ],
      "execution_count": 17,
      "outputs": []
    },
    {
      "cell_type": "markdown",
      "metadata": {
        "id": "Ae6epu9UFau2"
      },
      "source": [
        "## *Human Promoter Classification Naïve Model*\r\n"
      ]
    },
    {
      "cell_type": "code",
      "metadata": {
        "id": "DcLKbCIzGbSX"
      },
      "source": [
        "sys.path.append(\"/content/drive/MyDrive/DeepLearning Project Notebook/\")\r\n",
        "from utils import *"
      ],
      "execution_count": 18,
      "outputs": []
    },
    {
      "cell_type": "markdown",
      "metadata": {
        "id": "D17Y9mTPYYvQ"
      },
      "source": [
        "**Chargement des données**"
      ]
    },
    {
      "cell_type": "code",
      "metadata": {
        "id": "DONWQVXRFjIZ"
      },
      "source": [
        "classification_df = pd.read_csv('/content/drive/MyDrive/DeepLearning Project Notebook/Output/human_promoters_short.csv')"
      ],
      "execution_count": 19,
      "outputs": []
    },
    {
      "cell_type": "code",
      "metadata": {
        "colab": {
          "base_uri": "https://localhost:8080/",
          "height": 204
        },
        "id": "zl3tKb-vF2w5",
        "outputId": "8189c6c8-cfec-4d98-cb92-de517aaeccf0"
      },
      "source": [
        "classification_df.head()"
      ],
      "execution_count": 20,
      "outputs": [
        {
          "output_type": "execute_result",
          "data": {
            "text/html": [
              "<div>\n",
              "<style scoped>\n",
              "    .dataframe tbody tr th:only-of-type {\n",
              "        vertical-align: middle;\n",
              "    }\n",
              "\n",
              "    .dataframe tbody tr th {\n",
              "        vertical-align: top;\n",
              "    }\n",
              "\n",
              "    .dataframe thead th {\n",
              "        text-align: right;\n",
              "    }\n",
              "</style>\n",
              "<table border=\"1\" class=\"dataframe\">\n",
              "  <thead>\n",
              "    <tr style=\"text-align: right;\">\n",
              "      <th></th>\n",
              "      <th>Sequence</th>\n",
              "      <th>Promoter</th>\n",
              "      <th>set</th>\n",
              "    </tr>\n",
              "  </thead>\n",
              "  <tbody>\n",
              "    <tr>\n",
              "      <th>0</th>\n",
              "      <td>GCGTCCGCTTCTCACCTCAGGTCTCCCTTCGGCCCCGCTGCCCTCC...</td>\n",
              "      <td>1</td>\n",
              "      <td>train</td>\n",
              "    </tr>\n",
              "    <tr>\n",
              "      <th>1</th>\n",
              "      <td>TCTCTCCTCCCCTCTCCTCTCCTTCCCCCCTCCCCTCCCCTCCCCG...</td>\n",
              "      <td>1</td>\n",
              "      <td>train</td>\n",
              "    </tr>\n",
              "    <tr>\n",
              "      <th>2</th>\n",
              "      <td>GGTGGGCGGGAACCGGGAGGGGCCGGCCGAGCCCCCTTCCTCGGGG...</td>\n",
              "      <td>1</td>\n",
              "      <td>train</td>\n",
              "    </tr>\n",
              "    <tr>\n",
              "      <th>3</th>\n",
              "      <td>TCTGAGCCCAGGACTGAGGTAGGGGTTACTTCGGGCTGAGGGGATT...</td>\n",
              "      <td>1</td>\n",
              "      <td>train</td>\n",
              "    </tr>\n",
              "    <tr>\n",
              "      <th>4</th>\n",
              "      <td>TCCCTCCCTGGGCGAAAAACTTCTTACAAAAAGTTAATCACTGCCC...</td>\n",
              "      <td>1</td>\n",
              "      <td>train</td>\n",
              "    </tr>\n",
              "  </tbody>\n",
              "</table>\n",
              "</div>"
            ],
            "text/plain": [
              "                                            Sequence  Promoter    set\n",
              "0  GCGTCCGCTTCTCACCTCAGGTCTCCCTTCGGCCCCGCTGCCCTCC...         1  train\n",
              "1  TCTCTCCTCCCCTCTCCTCTCCTTCCCCCCTCCCCTCCCCTCCCCG...         1  train\n",
              "2  GGTGGGCGGGAACCGGGAGGGGCCGGCCGAGCCCCCTTCCTCGGGG...         1  train\n",
              "3  TCTGAGCCCAGGACTGAGGTAGGGGTTACTTCGGGCTGAGGGGATT...         1  train\n",
              "4  TCCCTCCCTGGGCGAAAAACTTCTTACAAAAAGTTAATCACTGCCC...         1  train"
            ]
          },
          "metadata": {
            "tags": []
          },
          "execution_count": 20
        }
      ]
    },
    {
      "cell_type": "markdown",
      "metadata": {
        "id": "VZqOFUnwYctS"
      },
      "source": [
        "**Partitionnement des données**"
      ]
    },
    {
      "cell_type": "code",
      "metadata": {
        "id": "E99S3NdiF4iD"
      },
      "source": [
        "train_df = classification_df[classification_df.set == 'train']\r\n",
        "valid_df = classification_df[classification_df.set == 'valid']\r\n",
        "test_df = classification_df[classification_df.set == 'test']"
      ],
      "execution_count": 21,
      "outputs": []
    },
    {
      "cell_type": "code",
      "metadata": {
        "colab": {
          "base_uri": "https://localhost:8080/"
        },
        "id": "JBdoYxDyGDRE",
        "outputId": "eff258f5-84dd-4915-c80d-e2a9e31f69ee"
      },
      "source": [
        "train_df.shape, valid_df.shape, test_df.shape"
      ],
      "execution_count": 18,
      "outputs": [
        {
          "output_type": "execute_result",
          "data": {
            "text/plain": [
              "((35821, 3), (3979, 3), (7025, 3))"
            ]
          },
          "metadata": {
            "tags": []
          },
          "execution_count": 18
        }
      ]
    },
    {
      "cell_type": "markdown",
      "metadata": {
        "id": "XSY8-_XDT84E"
      },
      "source": [
        "**Tokenisation et Numérisation**"
      ]
    },
    {
      "cell_type": "markdown",
      "metadata": {
        "id": "j02_tAZfJnCW"
      },
      "source": [
        "\r\n",
        "\r\n",
        "```\r\n",
        "Si on veut former un Sequence Model sur des données génomiques, on doit premièrement traiter ces données sous une forme qui peut être utilisée par un réseau de neurones .\r\n",
        "Donc on doit transformer les données de séquences en une forme numérique qui peut être manipulée mathématiquement.\r\n",
        "Et ça est fait en 2 étapes :\r\n",
        "  * La tokenisation : est le processus de décomposition de la séquence en sous-unités ou en tokens.\r\n",
        "  * La numérisation : est le processus de mappage de tokens sur des valeurs entières. \r\n",
        "```\r\n",
        "\r\n"
      ]
    },
    {
      "cell_type": "code",
      "metadata": {
        "id": "9kPi1No_J-qq"
      },
      "source": [
        "tok = Tokenizer(GenomicTokenizer, n_cpus=1, pre_rules=[], post_rules=[], special_cases=['xxpad'])"
      ],
      "execution_count": 22,
      "outputs": []
    },
    {
      "cell_type": "code",
      "metadata": {
        "colab": {
          "base_uri": "https://localhost:8080/"
        },
        "id": "6bxspyJHJhpT",
        "outputId": "2cb6e647-69cb-4cd9-a491-47c8e4c88f72"
      },
      "source": [
        "data_clas = GenomicTextClasDataBunch.from_df(path, train_df, valid_df, test_df=test_df, tokenizer=tok, text_cols='Sequence', label_cols='Promoter', bs=400)"
      ],
      "execution_count": 23,
      "outputs": [
        {
          "output_type": "stream",
          "text": [
            "/usr/local/lib/python3.6/dist-packages/numpy/core/_asarray.py:83: VisibleDeprecationWarning: Creating an ndarray from ragged nested sequences (which is a list-or-tuple of lists-or-tuples-or ndarrays with different lengths or shapes) is deprecated. If you meant to do this, you must specify 'dtype=object' when creating the ndarray\n",
            "  return array(a, dtype, copy=False, order=order)\n",
            "<string>:6: VisibleDeprecationWarning: Creating an ndarray from ragged nested sequences (which is a list-or-tuple of lists-or-tuples-or ndarrays with different lengths or shapes) is deprecated. If you meant to do this, you must specify 'dtype=object' when creating the ndarray\n"
          ],
          "name": "stderr"
        }
      ]
    },
    {
      "cell_type": "markdown",
      "metadata": {
        "id": "uUIWYtOYVSgk"
      },
      "source": [
        "  Tokenisation (k-mers = 5 - stride = 2)\r\n",
        "\r\n"
      ]
    },
    {
      "cell_type": "code",
      "metadata": {
        "colab": {
          "base_uri": "https://localhost:8080/"
        },
        "id": "q9yJ_9gSGE2O",
        "outputId": "a1d3d594-fcd7-4a2d-c5ab-45e8519f0ac9"
      },
      "source": [
        "data_clas.train_ds"
      ],
      "execution_count": 21,
      "outputs": [
        {
          "output_type": "execute_result",
          "data": {
            "text/plain": [
              "LabelList (35821 items)\n",
              "x: TextList\n",
              "CACGT CGTGG TGGGG GGGCA GCACG ACGGG GGGGC GGCGG CGGGG GGGCG GCGCG GCGCG GCGCT GCTGG TGGGC GGCTG CTGGG GGGGA GGAGG AGGAG GAGCG GCGGC GGCTC CTCGA CGAAC AACTT CTTTG TTGGT GGTGG TGGCG GCGGC GGCGT CGTCT TCTGC TGCGG CGGGA GGAGG AGGGG GGGGA GGAGG AGGAG GAGTG GTGGG GGGCA GCACT ACTTG TTGAC GACAG CAGCG GCGGG GGGGG GGGGA GGAGG AGGGG GGGAA GAAGG AGGGC GGCGC CGCAG CAGAG GAGGA GGAAA AAAGG AGGGG GGGGA GGATG ATGGG GGGAA GAAGC AGCGA CGAGG AGGCA GCAGG AGGAG GAGGG GGGGG GGGAG GAGGG GGGGC GGCCT CCTCG TCGGC GGCAA CAAGC AGCCC CCCAG CAGAA GAAAA AAAAA AAACG ACGAC GACAA CAACG ACGCG GCGAG GAGAA GAAAA AAAAT AATTA TTAGT AGTAT TATTT TTTTT TTTGC TGCAC CACTT CTTCA TCACA ACAAA AAATT ATTAA TAATG ATGAC GACCA CCATG ATGAG GAGCT GCTCG TCGTT GTTTT TTTTG TTGAT GATAA TAAAC,AGACC ACCCT CCTGC TGCGG CGGTG GTGGG GGGTG GTGTG GTGAC GACCC CCCTA CTAGG AGGAC GACCG CCGGA GGAAG AAGAG GAGTA GTAAA AAACC ACCCG CCGAA GAAGA AGAAA AAAGA AGACG ACGAA GAAAG AAGAC GACTA CTACA ACAAA AAATC ATCCT CCTAG TAGTG GTGAG GAGTA GTATC ATCGA CGAGT AGTTG TTGGT GGTCT TCTTA TTATT ATTAT TATCG TCGCG GCGTG GTGAA GAACT ACTGG TGGGA GGAGC AGCCT CCTTT TTTGT TGTTT TTTCC TCCTG CTGCG GCGTG GTGTC GTCGC CGCAG CAGGA GGAAG AAGTG GTGAC GACGT CGTTT TTTCG TCGGG GGGTA GTACA ACAGC AGCCG CCGCT GCTAC TACCA CCAGA AGAGT AGTCC TCCCT CCTTT TTTCT TCTCG TCGCG GCGAG GAGGC GGCGG CGGAA GAAGA AGAAC AACCC CCCCG CCGAT GATCG TCGCT GCTGA TGAGG AGGAG GAGCA GCAAG AAGGG GGGGG GGGCG GCGCT GCTAG TAGGA GGAAA AAAGG AGGGA GGAAC AACTG CTGGG GGGTT GTTGC TGCGA CGACG ACGGT GGTCC TCCGG,CTGTG GTGGA GGAGA AGAGC AGCAG CAGGG GGGCC GCCGA CGACG ACGCT GCTGG TGGGC GGCTC CTCAG CAGGC GGCAG CAGCA GCAGG AGGAG GAGGC GGCTG CTGTC GTCCT CCTCG TCGTG GTGTC GTCAG CAGAG GAGTC GTCGT CGTGG TGGCC GCCGC CGCCT CCTGA TGACA ACAGA AGATG ATGCC GCCAC CACCT CCTCC TCCCT CCTGC TGCTG CTGGG GGGAC GACCG CCGTT GTTGT TGTGA TGAGG AGGGC GGCCC CCCCT CCTCC TCCCC CCCCA CCAGC AGCAG CAGCC GCCTT CTTGT TGTAA TAAGT AGTGG TGGGA GGACG ACGCA GCAGG AGGTC GTCAC CACAG CAGCT GCTCT TCTGG TGGGC GGCAG CAGAG GAGCC GCCTC CTCCC CCCTG CTGCT GCTGT TGTCT TCTGC TGCCT CCTGC TGCCA CCAAG AAGGC GGCTG CTGAG GAGGA GGAAG AAGAG GAGGG GGGAG GAGTA GTAGG AGGGG GGGCC GCCGT CGTTG TTGAG GAGGA GGAGG AGGTG GTGCA GCAGG AGGGA GGAGA AGAGG AGGAG GAGCG GCGGG GGGAG GAGGG GGGCT GCTCT TCTGG TGGGT GGTGG,TAGGG GGGAA GAAAA AAAGA AGAGA AGAGG AGGCC GCCAA CAAAC AACTA CTAGA AGATC ATCAG CAGAG GAGGC GGCTG CTGGC GGCGT CGTGG TGGGC GGCTT CTTCA TCAGA AGAAT AATCT TCTAC TACAG CAGAC GACTG CTGGC GGCAC CACAG CAGTT GTTAA TAATG ATGCC GCCTC CTCCG CCGGG GGGCC GCCCC CCCTA CTATT ATTGC TGCTG CTGCT GCTTC TTCAA CAAGT AGTTT TTTGA TGACC ACCAA CAATC ATCAG CAGAA GAAGT AGTAT TATCT TCTTT TTTAG TAGCT GCTTA TTAAG AAGGG GGGCG GCGGC GGCGT CGTGT TGTTG TTGGC GGCCA CCAAT AATGA TGAGA AGACT ACTTT TTTAT TATTG TTGTG GTGAA GAAAT AATAA TAAAA AAATG ATGCC GCCCT CCTCA TCAGT AGTTT TTTCA TCATT ATTTA TTAAC AACTG CTGAG GAGCC GCCAC CACCA CCATA ATAGA AGAAG AAGAG GAGTA GTAGA AGAGA AGAAA AAATC ATCGA CGAGT AGTTG TTGGC GGCCA CCAGA AGATG ATGAG GAGGG GGGAG GAGAG GAGGC GGCCA CCATT ATTAA TAAGA,GGATA ATACT ACTCT TCTGG TGGGC GGCTC CTCAG CAGGC GGCGG CGGAT GATGT TGTCC TCCAC CACTC CTCTG CTGGT GGTAC TACCC CCCCC CCCGG CGGGT GGTGC TGCGG CGGAC GACTC CTCCA CCAAA AAAGC AGCCT CCTGC TGCCA CCAGT AGTGC TGCCG CCGGC GGCCC CCCCC CCCTT CTTCC TCCCC CCCTA CTACG ACGCA GCATT ATTCC TCCTC CTCTA CTACC ACCGT CGTAA TAAGG AGGCA GCAGG AGGGC GGCGC CGCCT CCTCC TCCAC CACCC CCCCG CCGCC GCCCC CCCCT CCTCC TCCGC CGCCA CCAGT AGTCC TCCTG CTGGG GGGGA GGAGG AGGGG GGGAA GAAGG AGGGG GGGGC GGCGG CGGGC GGCAG CAGCG GCGCA GCAGG AGGGG GGGGT GGTGT TGTGA TGACA ACAGC AGCTC CTCCC CCCGC CGCCC CCCGG CGGAC GACCG CCGGT GGTGC TGCCA CCAGC AGCGC CGCAG CAGCC GCCTT CTTGC TGCTT CTTCA TCAGC AGCGC CGCCC CCCGG CGGTG GTGCC GCCAG CAGCT GCTGG TGGCT GCTCC TCCTT CTTCG TCGTC GTCTG CTGAG GAGAC\n",
              "y: CategoryList\n",
              "1,1,1,1,1\n",
              "Path: /content/drive/MyDrive/DeepLearning Project Notebook/Data"
            ]
          },
          "metadata": {
            "tags": []
          },
          "execution_count": 21
        }
      ]
    },
    {
      "cell_type": "markdown",
      "metadata": {
        "id": "BuyyRTUMV3el"
      },
      "source": [
        "Numerisation"
      ]
    },
    {
      "cell_type": "code",
      "metadata": {
        "colab": {
          "base_uri": "https://localhost:8080/"
        },
        "id": "nrH-C8djGW3e",
        "outputId": "0a07e192-9f99-47c5-e403-23b3829fb4f5"
      },
      "source": [
        "data_clas.train_ds[0][0].data"
      ],
      "execution_count": 22,
      "outputs": [
        {
          "output_type": "execute_result",
          "data": {
            "text/plain": [
              "array([862, 469,  28, 125, ..., 153, 621, 800, 809])"
            ]
          },
          "metadata": {
            "tags": []
          },
          "execution_count": 22
        }
      ]
    },
    {
      "cell_type": "markdown",
      "metadata": {
        "id": "A0-m1fmJLjzo"
      },
      "source": [
        "**Classification Model**"
      ]
    },
    {
      "cell_type": "markdown",
      "metadata": {
        "id": "qr1e4OcGYNCh"
      },
      "source": [
        "\r\n",
        "\r\n",
        "```\r\n",
        "Un Classification Model est un modèle qui prend une séquence de tokens et prédit à quelle catégorie ou classe appartient cette séquence.\r\n",
        "```\r\n",
        "\r\n"
      ]
    },
    {
      "cell_type": "markdown",
      "metadata": {
        "id": "NKMn7mjeW72y"
      },
      "source": [
        "![Capture d’écran 2020-12-25 202309.png](data:image/png;base64,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)"
      ]
    },
    {
      "cell_type": "code",
      "metadata": {
        "id": "RgW_bPyjLTq8"
      },
      "source": [
        "clas_config = dict(emb_sz=400, n_hid=1150, n_layers=3, pad_token=0, qrnn=False, output_p=0.4, hidden_p=0.2, input_p=0.6, embed_p=0.1, weight_p=0.5)\n",
        "drop_mult = 0.5"
      ],
      "execution_count": 23,
      "outputs": []
    },
    {
      "cell_type": "code",
      "metadata": {
        "id": "kKCcO04dMMGz"
      },
      "source": [
        "learn = get_model_clas(data_clas, drop_mult, clas_config)"
      ],
      "execution_count": 24,
      "outputs": []
    },
    {
      "cell_type": "code",
      "metadata": {
        "colab": {
          "base_uri": "https://localhost:8080/"
        },
        "id": "lGvpoosmMOWj",
        "outputId": "8e20314c-98e4-49e4-c07e-83ee7253febb"
      },
      "source": [
        "learn.model"
      ],
      "execution_count": 25,
      "outputs": [
        {
          "output_type": "execute_result",
          "data": {
            "text/plain": [
              "SequentialRNN(\n",
              "  (0): MultiBatchEncoder(\n",
              "    (module): AWD_LSTM(\n",
              "      (encoder): Embedding(1025, 400, padding_idx=0)\n",
              "      (encoder_dp): EmbeddingDropout(\n",
              "        (emb): Embedding(1025, 400, padding_idx=0)\n",
              "      )\n",
              "      (rnns): ModuleList(\n",
              "        (0): WeightDropout(\n",
              "          (module): LSTM(400, 1150, batch_first=True)\n",
              "        )\n",
              "        (1): WeightDropout(\n",
              "          (module): LSTM(1150, 1150, batch_first=True)\n",
              "        )\n",
              "        (2): WeightDropout(\n",
              "          (module): LSTM(1150, 400, batch_first=True)\n",
              "        )\n",
              "      )\n",
              "      (input_dp): RNNDropout()\n",
              "      (hidden_dps): ModuleList(\n",
              "        (0): RNNDropout()\n",
              "        (1): RNNDropout()\n",
              "        (2): RNNDropout()\n",
              "      )\n",
              "    )\n",
              "  )\n",
              "  (1): PoolingLinearClassifier(\n",
              "    (layers): Sequential(\n",
              "      (0): BatchNorm1d(1200, eps=1e-05, momentum=0.1, affine=True, track_running_stats=True)\n",
              "      (1): Dropout(p=0.2, inplace=False)\n",
              "      (2): Linear(in_features=1200, out_features=50, bias=True)\n",
              "      (3): ReLU(inplace=True)\n",
              "      (4): BatchNorm1d(50, eps=1e-05, momentum=0.1, affine=True, track_running_stats=True)\n",
              "      (5): Dropout(p=0.1, inplace=False)\n",
              "      (6): Linear(in_features=50, out_features=2, bias=True)\n",
              "    )\n",
              "  )\n",
              ")"
            ]
          },
          "metadata": {
            "tags": []
          },
          "execution_count": 25
        }
      ]
    },
    {
      "cell_type": "code",
      "metadata": {
        "id": "Ay9RQU_eMTAZ"
      },
      "source": [
        "learn.unfreeze()"
      ],
      "execution_count": 26,
      "outputs": []
    },
    {
      "cell_type": "code",
      "metadata": {
        "colab": {
          "base_uri": "https://localhost:8080/",
          "height": 527
        },
        "id": "EXmyeIl9MfNV",
        "outputId": "81e3ecef-1037-4289-cad7-d50a4999b87d"
      },
      "source": [
        "learn.lr_find()\r\n",
        "learn.recorder.plot()"
      ],
      "execution_count": 27,
      "outputs": [
        {
          "output_type": "display_data",
          "data": {
            "text/html": [
              "\n",
              "    <div>\n",
              "        <style>\n",
              "            /* Turns off some styling */\n",
              "            progress {\n",
              "                /* gets rid of default border in Firefox and Opera. */\n",
              "                border: none;\n",
              "                /* Needs to be in here for Safari polyfill so background images work as expected. */\n",
              "                background-size: auto;\n",
              "            }\n",
              "            .progress-bar-interrupted, .progress-bar-interrupted::-webkit-progress-bar {\n",
              "                background: #F44336;\n",
              "            }\n",
              "        </style>\n",
              "      <progress value='1' class='' max='2' style='width:300px; height:20px; vertical-align: middle;'></progress>\n",
              "      50.00% [1/2 03:09<03:09]\n",
              "    </div>\n",
              "    \n",
              "<table border=\"1\" class=\"dataframe\">\n",
              "  <thead>\n",
              "    <tr style=\"text-align: left;\">\n",
              "      <th>epoch</th>\n",
              "      <th>train_loss</th>\n",
              "      <th>valid_loss</th>\n",
              "      <th>accuracy</th>\n",
              "      <th>time</th>\n",
              "    </tr>\n",
              "  </thead>\n",
              "  <tbody>\n",
              "    <tr>\n",
              "      <td>0</td>\n",
              "      <td>0.829756</td>\n",
              "      <td>#na#</td>\n",
              "      <td>03:09</td>\n",
              "    </tr>\n",
              "  </tbody>\n",
              "</table><p>\n",
              "\n",
              "    <div>\n",
              "        <style>\n",
              "            /* Turns off some styling */\n",
              "            progress {\n",
              "                /* gets rid of default border in Firefox and Opera. */\n",
              "                border: none;\n",
              "                /* Needs to be in here for Safari polyfill so background images work as expected. */\n",
              "                background-size: auto;\n",
              "            }\n",
              "            .progress-bar-interrupted, .progress-bar-interrupted::-webkit-progress-bar {\n",
              "                background: #F44336;\n",
              "            }\n",
              "        </style>\n",
              "      <progress value='5' class='' max='89' style='width:300px; height:20px; vertical-align: middle;'></progress>\n",
              "      5.62% [5/89 00:13<03:48 2.3254]\n",
              "    </div>\n",
              "    "
            ],
            "text/plain": [
              "<IPython.core.display.HTML object>"
            ]
          },
          "metadata": {
            "tags": []
          }
        },
        {
          "output_type": "stream",
          "text": [
            "/usr/local/lib/python3.6/dist-packages/numpy/core/_asarray.py:83: VisibleDeprecationWarning: Creating an ndarray from ragged nested sequences (which is a list-or-tuple of lists-or-tuples-or ndarrays with different lengths or shapes) is deprecated. If you meant to do this, you must specify 'dtype=object' when creating the ndarray\n",
            "  return array(a, dtype, copy=False, order=order)\n",
            "<string>:6: VisibleDeprecationWarning: Creating an ndarray from ragged nested sequences (which is a list-or-tuple of lists-or-tuples-or ndarrays with different lengths or shapes) is deprecated. If you meant to do this, you must specify 'dtype=object' when creating the ndarray\n",
            "/usr/local/lib/python3.6/dist-packages/numpy/core/_asarray.py:83: VisibleDeprecationWarning: Creating an ndarray from ragged nested sequences (which is a list-or-tuple of lists-or-tuples-or ndarrays with different lengths or shapes) is deprecated. If you meant to do this, you must specify 'dtype=object' when creating the ndarray\n",
            "  return array(a, dtype, copy=False, order=order)\n",
            "<string>:6: VisibleDeprecationWarning: Creating an ndarray from ragged nested sequences (which is a list-or-tuple of lists-or-tuples-or ndarrays with different lengths or shapes) is deprecated. If you meant to do this, you must specify 'dtype=object' when creating the ndarray\n"
          ],
          "name": "stderr"
        },
        {
          "output_type": "stream",
          "text": [
            "LR Finder is complete, type {learner_name}.recorder.plot() to see the graph.\n"
          ],
          "name": "stdout"
        },
        {
          "output_type": "display_data",
          "data": {
            "image/png": "[encoded data removed]",
            "text/plain": [
              "<Figure size 432x288 with 1 Axes>"
            ]
          },
          "metadata": {
            "tags": [],
            "needs_background": "light"
          }
        }
      ]
    },
    {
      "cell_type": "code",
      "metadata": {
        "colab": {
          "base_uri": "https://localhost:8080/",
          "height": 479
        },
        "id": "0nyHBXBbMhKv",
        "outputId": "10bdcd57-f9b8-40a1-d448-36b208bc6707"
      },
      "source": [
        "learn.fit_one_cycle(5, 2e-3, moms=(0.8,0.7))"
      ],
      "execution_count": 28,
      "outputs": [
        {
          "output_type": "display_data",
          "data": {
            "text/html": [
              "<table border=\"1\" class=\"dataframe\">\n",
              "  <thead>\n",
              "    <tr style=\"text-align: left;\">\n",
              "      <th>epoch</th>\n",
              "      <th>train_loss</th>\n",
              "      <th>valid_loss</th>\n",
              "      <th>accuracy</th>\n",
              "      <th>time</th>\n",
              "    </tr>\n",
              "  </thead>\n",
              "  <tbody>\n",
              "    <tr>\n",
              "      <td>0</td>\n",
              "      <td>0.447039</td>\n",
              "      <td>0.394171</td>\n",
              "      <td>0.836642</td>\n",
              "      <td>03:40</td>\n",
              "    </tr>\n",
              "    <tr>\n",
              "      <td>1</td>\n",
              "      <td>0.394011</td>\n",
              "      <td>0.566422</td>\n",
              "      <td>0.659462</td>\n",
              "      <td>03:39</td>\n",
              "    </tr>\n",
              "    <tr>\n",
              "      <td>2</td>\n",
              "      <td>0.366927</td>\n",
              "      <td>0.357158</td>\n",
              "      <td>0.848454</td>\n",
              "      <td>03:39</td>\n",
              "    </tr>\n",
              "    <tr>\n",
              "      <td>3</td>\n",
              "      <td>0.338968</td>\n",
              "      <td>0.343443</td>\n",
              "      <td>0.852476</td>\n",
              "      <td>03:39</td>\n",
              "    </tr>\n",
              "    <tr>\n",
              "      <td>4</td>\n",
              "      <td>0.312057</td>\n",
              "      <td>0.329651</td>\n",
              "      <td>0.862277</td>\n",
              "      <td>03:40</td>\n",
              "    </tr>\n",
              "  </tbody>\n",
              "</table>"
            ],
            "text/plain": [
              "<IPython.core.display.HTML object>"
            ]
          },
          "metadata": {
            "tags": []
          }
        },
        {
          "output_type": "stream",
          "text": [
            "/usr/local/lib/python3.6/dist-packages/numpy/core/_asarray.py:83: VisibleDeprecationWarning: Creating an ndarray from ragged nested sequences (which is a list-or-tuple of lists-or-tuples-or ndarrays with different lengths or shapes) is deprecated. If you meant to do this, you must specify 'dtype=object' when creating the ndarray\n",
            "  return array(a, dtype, copy=False, order=order)\n",
            "<string>:6: VisibleDeprecationWarning: Creating an ndarray from ragged nested sequences (which is a list-or-tuple of lists-or-tuples-or ndarrays with different lengths or shapes) is deprecated. If you meant to do this, you must specify 'dtype=object' when creating the ndarray\n",
            "/usr/local/lib/python3.6/dist-packages/numpy/core/_asarray.py:83: VisibleDeprecationWarning: Creating an ndarray from ragged nested sequences (which is a list-or-tuple of lists-or-tuples-or ndarrays with different lengths or shapes) is deprecated. If you meant to do this, you must specify 'dtype=object' when creating the ndarray\n",
            "  return array(a, dtype, copy=False, order=order)\n",
            "<string>:6: VisibleDeprecationWarning: Creating an ndarray from ragged nested sequences (which is a list-or-tuple of lists-or-tuples-or ndarrays with different lengths or shapes) is deprecated. If you meant to do this, you must specify 'dtype=object' when creating the ndarray\n",
            "/usr/local/lib/python3.6/dist-packages/numpy/core/_asarray.py:83: VisibleDeprecationWarning: Creating an ndarray from ragged nested sequences (which is a list-or-tuple of lists-or-tuples-or ndarrays with different lengths or shapes) is deprecated. If you meant to do this, you must specify 'dtype=object' when creating the ndarray\n",
            "  return array(a, dtype, copy=False, order=order)\n",
            "<string>:6: VisibleDeprecationWarning: Creating an ndarray from ragged nested sequences (which is a list-or-tuple of lists-or-tuples-or ndarrays with different lengths or shapes) is deprecated. If you meant to do this, you must specify 'dtype=object' when creating the ndarray\n",
            "/usr/local/lib/python3.6/dist-packages/numpy/core/_asarray.py:83: VisibleDeprecationWarning: Creating an ndarray from ragged nested sequences (which is a list-or-tuple of lists-or-tuples-or ndarrays with different lengths or shapes) is deprecated. If you meant to do this, you must specify 'dtype=object' when creating the ndarray\n",
            "  return array(a, dtype, copy=False, order=order)\n",
            "<string>:6: VisibleDeprecationWarning: Creating an ndarray from ragged nested sequences (which is a list-or-tuple of lists-or-tuples-or ndarrays with different lengths or shapes) is deprecated. If you meant to do this, you must specify 'dtype=object' when creating the ndarray\n",
            "/usr/local/lib/python3.6/dist-packages/numpy/core/_asarray.py:83: VisibleDeprecationWarning: Creating an ndarray from ragged nested sequences (which is a list-or-tuple of lists-or-tuples-or ndarrays with different lengths or shapes) is deprecated. If you meant to do this, you must specify 'dtype=object' when creating the ndarray\n",
            "  return array(a, dtype, copy=False, order=order)\n",
            "<string>:6: VisibleDeprecationWarning: Creating an ndarray from ragged nested sequences (which is a list-or-tuple of lists-or-tuples-or ndarrays with different lengths or shapes) is deprecated. If you meant to do this, you must specify 'dtype=object' when creating the ndarray\n"
          ],
          "name": "stderr"
        }
      ]
    },
    {
      "cell_type": "code",
      "metadata": {
        "colab": {
          "base_uri": "https://localhost:8080/",
          "height": 479
        },
        "id": "ri4N2RAAMwU1",
        "outputId": "58930658-977f-4827-f359-21561a38b478"
      },
      "source": [
        "learn.fit_one_cycle(5, 3e-4, moms=(0.8,0.7))"
      ],
      "execution_count": 29,
      "outputs": [
        {
          "output_type": "display_data",
          "data": {
            "text/html": [
              "<table border=\"1\" class=\"dataframe\">\n",
              "  <thead>\n",
              "    <tr style=\"text-align: left;\">\n",
              "      <th>epoch</th>\n",
              "      <th>train_loss</th>\n",
              "      <th>valid_loss</th>\n",
              "      <th>accuracy</th>\n",
              "      <th>time</th>\n",
              "    </tr>\n",
              "  </thead>\n",
              "  <tbody>\n",
              "    <tr>\n",
              "      <td>0</td>\n",
              "      <td>0.300706</td>\n",
              "      <td>0.330338</td>\n",
              "      <td>0.864036</td>\n",
              "      <td>03:40</td>\n",
              "    </tr>\n",
              "    <tr>\n",
              "      <td>1</td>\n",
              "      <td>0.304836</td>\n",
              "      <td>0.327868</td>\n",
              "      <td>0.863031</td>\n",
              "      <td>03:40</td>\n",
              "    </tr>\n",
              "    <tr>\n",
              "      <td>2</td>\n",
              "      <td>0.288568</td>\n",
              "      <td>0.329019</td>\n",
              "      <td>0.861272</td>\n",
              "      <td>03:40</td>\n",
              "    </tr>\n",
              "    <tr>\n",
              "      <td>3</td>\n",
              "      <td>0.272903</td>\n",
              "      <td>0.319197</td>\n",
              "      <td>0.868309</td>\n",
              "      <td>03:41</td>\n",
              "    </tr>\n",
              "    <tr>\n",
              "      <td>4</td>\n",
              "      <td>0.258918</td>\n",
              "      <td>0.319868</td>\n",
              "      <td>0.868309</td>\n",
              "      <td>03:41</td>\n",
              "    </tr>\n",
              "  </tbody>\n",
              "</table>"
            ],
            "text/plain": [
              "<IPython.core.display.HTML object>"
            ]
          },
          "metadata": {
            "tags": []
          }
        },
        {
          "output_type": "stream",
          "text": [
            "/usr/local/lib/python3.6/dist-packages/numpy/core/_asarray.py:83: VisibleDeprecationWarning: Creating an ndarray from ragged nested sequences (which is a list-or-tuple of lists-or-tuples-or ndarrays with different lengths or shapes) is deprecated. If you meant to do this, you must specify 'dtype=object' when creating the ndarray\n",
            "  return array(a, dtype, copy=False, order=order)\n",
            "<string>:6: VisibleDeprecationWarning: Creating an ndarray from ragged nested sequences (which is a list-or-tuple of lists-or-tuples-or ndarrays with different lengths or shapes) is deprecated. If you meant to do this, you must specify 'dtype=object' when creating the ndarray\n",
            "/usr/local/lib/python3.6/dist-packages/numpy/core/_asarray.py:83: VisibleDeprecationWarning: Creating an ndarray from ragged nested sequences (which is a list-or-tuple of lists-or-tuples-or ndarrays with different lengths or shapes) is deprecated. If you meant to do this, you must specify 'dtype=object' when creating the ndarray\n",
            "  return array(a, dtype, copy=False, order=order)\n",
            "<string>:6: VisibleDeprecationWarning: Creating an ndarray from ragged nested sequences (which is a list-or-tuple of lists-or-tuples-or ndarrays with different lengths or shapes) is deprecated. If you meant to do this, you must specify 'dtype=object' when creating the ndarray\n",
            "/usr/local/lib/python3.6/dist-packages/numpy/core/_asarray.py:83: VisibleDeprecationWarning: Creating an ndarray from ragged nested sequences (which is a list-or-tuple of lists-or-tuples-or ndarrays with different lengths or shapes) is deprecated. If you meant to do this, you must specify 'dtype=object' when creating the ndarray\n",
            "  return array(a, dtype, copy=False, order=order)\n",
            "<string>:6: VisibleDeprecationWarning: Creating an ndarray from ragged nested sequences (which is a list-or-tuple of lists-or-tuples-or ndarrays with different lengths or shapes) is deprecated. If you meant to do this, you must specify 'dtype=object' when creating the ndarray\n",
            "/usr/local/lib/python3.6/dist-packages/numpy/core/_asarray.py:83: VisibleDeprecationWarning: Creating an ndarray from ragged nested sequences (which is a list-or-tuple of lists-or-tuples-or ndarrays with different lengths or shapes) is deprecated. If you meant to do this, you must specify 'dtype=object' when creating the ndarray\n",
            "  return array(a, dtype, copy=False, order=order)\n",
            "<string>:6: VisibleDeprecationWarning: Creating an ndarray from ragged nested sequences (which is a list-or-tuple of lists-or-tuples-or ndarrays with different lengths or shapes) is deprecated. If you meant to do this, you must specify 'dtype=object' when creating the ndarray\n",
            "/usr/local/lib/python3.6/dist-packages/numpy/core/_asarray.py:83: VisibleDeprecationWarning: Creating an ndarray from ragged nested sequences (which is a list-or-tuple of lists-or-tuples-or ndarrays with different lengths or shapes) is deprecated. If you meant to do this, you must specify 'dtype=object' when creating the ndarray\n",
            "  return array(a, dtype, copy=False, order=order)\n",
            "<string>:6: VisibleDeprecationWarning: Creating an ndarray from ragged nested sequences (which is a list-or-tuple of lists-or-tuples-or ndarrays with different lengths or shapes) is deprecated. If you meant to do this, you must specify 'dtype=object' when creating the ndarray\n"
          ],
          "name": "stderr"
        }
      ]
    },
    {
      "cell_type": "code",
      "metadata": {
        "id": "YqnBPbFBM03c"
      },
      "source": [
        "#learn.save('hum_prom_short1')"
      ],
      "execution_count": 30,
      "outputs": []
    },
    {
      "cell_type": "markdown",
      "metadata": {
        "id": "-n6bdntxM13S"
      },
      "source": [
        "**Test**"
      ]
    },
    {
      "cell_type": "code",
      "metadata": {
        "colab": {
          "base_uri": "https://localhost:8080/"
        },
        "id": "V3OAT8lUM2_W",
        "outputId": "ce4f0d9f-8477-47f5-f336-209b227f7f10"
      },
      "source": [
        "data_clas = GenomicTextClasDataBunch.from_df(path, train_df, test_df, tokenizer=tok, text_cols='Sequence', label_cols='Promoter', bs=400)\r\n",
        "learn.data = data_clas"
      ],
      "execution_count": 31,
      "outputs": [
        {
          "output_type": "stream",
          "text": [
            "/usr/local/lib/python3.6/dist-packages/numpy/core/_asarray.py:83: VisibleDeprecationWarning: Creating an ndarray from ragged nested sequences (which is a list-or-tuple of lists-or-tuples-or ndarrays with different lengths or shapes) is deprecated. If you meant to do this, you must specify 'dtype=object' when creating the ndarray\n",
            "  return array(a, dtype, copy=False, order=order)\n",
            "<string>:6: VisibleDeprecationWarning: Creating an ndarray from ragged nested sequences (which is a list-or-tuple of lists-or-tuples-or ndarrays with different lengths or shapes) is deprecated. If you meant to do this, you must specify 'dtype=object' when creating the ndarray\n"
          ],
          "name": "stderr"
        }
      ]
    },
    {
      "cell_type": "code",
      "metadata": {
        "colab": {
          "base_uri": "https://localhost:8080/",
          "height": 136
        },
        "id": "7pTVcah5M-l7",
        "outputId": "ededa628-aadd-49ed-c295-bad043a9af66"
      },
      "source": [
        "get_scores(learn)"
      ],
      "execution_count": 32,
      "outputs": [
        {
          "output_type": "display_data",
          "data": {
            "text/html": [
              ""
            ],
            "text/plain": [
              "<IPython.core.display.HTML object>"
            ]
          },
          "metadata": {
            "tags": []
          }
        },
        {
          "output_type": "stream",
          "text": [
            "Accuracy: 0.8646263345195729\n",
            "False Positives: 0.02106761565836299\n",
            "False Negatives: 0.11430604982206406\n",
            "Recall: 0.729538565173459\n",
            "Precision: 0.9360414866032843\n",
            "Specificity: 0.9635108481262328\n",
            "MCC: 0.7284169493716117\n"
          ],
          "name": "stdout"
        }
      ]
    },
    {
      "cell_type": "code",
      "metadata": {
        "id": "Fkme_KAmXujg"
      },
      "source": [
        "#learn.lr_find()\r\n",
        "#learn.recorder.plot_losses()"
      ],
      "execution_count": 33,
      "outputs": []
    },
    {
      "cell_type": "markdown",
      "metadata": {
        "id": "jl2azKoVmiLU"
      },
      "source": [
        "## *Human Language Model*"
      ]
    },
    {
      "cell_type": "markdown",
      "metadata": {
        "id": "2osxFLFEYrGc"
      },
      "source": [
        "**Données**"
      ]
    },
    {
      "cell_type": "markdown",
      "metadata": {
        "id": "XZm_xPfJYs1v"
      },
      "source": [
        "\r\n",
        "\r\n",
        "```\r\n",
        "Pour créer des ensembles de données pour la formation du general domain genomic language model, les génomes complets sont téléchargés à partir du NCBI.\r\n",
        "```\r\n",
        "\r\n"
      ]
    },
    {
      "cell_type": "code",
      "metadata": {
        "id": "aA7GX3qEc9AD"
      },
      "source": [
        "fname = '/content/drive/MyDrive/DeepLearning Project Notebook/Data/GCF_000001405.30_GRCh38.p4_rna.fna'"
      ],
      "execution_count": 34,
      "outputs": []
    },
    {
      "cell_type": "code",
      "metadata": {
        "id": "PWXayfpJcyxn"
      },
      "source": [
        "data = process_fasta(fname, 10000, 2000)"
      ],
      "execution_count": 35,
      "outputs": []
    },
    {
      "cell_type": "code",
      "metadata": {
        "id": "ovhIFG_7j-qX"
      },
      "source": [
        "df = pd.DataFrame(data, columns=['Sequence'])\r\n",
        "df['Source'] = 'NCBI Human'\r\n",
        "\r\n",
        "df.to_csv('/content/drive/MyDrive/DeepLearning Project Notebook/Output/human_genome_data.csv', index=False)"
      ],
      "execution_count": 36,
      "outputs": []
    },
    {
      "cell_type": "code",
      "metadata": {
        "id": "PAFIPo9DbgoM"
      },
      "source": [
        "def get_init_vocab(ret='data'):\r\n",
        "    df = next(pd.read_csv('/content/drive/MyDrive/DeepLearning Project Notebook/Output/human_genome_data.csv', chunksize=100))\r\n",
        "    cut = int(len(df)*0.8) + 1\r\n",
        "    train_df = df[:cut]\r\n",
        "    valid_df = df[cut:]\r\n",
        "    data = GenomicTextLMDataBunch.from_df(path, train_df, valid_df, bs=400, tokenizer=tok, \r\n",
        "                                  text_cols=0, label_cols=1)\r\n",
        "    if ret=='data':\r\n",
        "        return data\r\n",
        "    else:\r\n",
        "        return data.vocab"
      ],
      "execution_count": 37,
      "outputs": []
    },
    {
      "cell_type": "code",
      "metadata": {
        "id": "0tDqnlWD1bVh"
      },
      "source": [
        "tok = Tokenizer(GenomicTokenizer, n_cpus=1, pre_rules=[], post_rules=[], special_cases=['xxpad'])"
      ],
      "execution_count": 38,
      "outputs": []
    },
    {
      "cell_type": "code",
      "metadata": {
        "id": "EWdKX030bgq9"
      },
      "source": [
        "init_voc = get_init_vocab()\r\n",
        "np.save('/content/drive/MyDrive/DeepLearning Project Notebook/Output/human_vocab_5mer.npy', init_voc.vocab.itos)"
      ],
      "execution_count": 39,
      "outputs": []
    },
    {
      "cell_type": "markdown",
      "metadata": {
        "id": "dj62mb-hXaNJ"
      },
      "source": [
        "**Language Model**"
      ]
    },
    {
      "cell_type": "markdown",
      "metadata": {
        "id": "XJF-jtFrX4N_"
      },
      "source": [
        "\r\n",
        "\r\n",
        "```\r\n",
        "Un Language Model est un modèle qui prend une séquence de tokens k mer et prédit le token suivant dans la séquence.\r\n",
        "```\r\n",
        "\r\n"
      ]
    },
    {
      "cell_type": "markdown",
      "metadata": {
        "id": "qVFntk_qXdny"
      },
      "source": [
        "![Capture d’écran 2020-12-25 202658.png](data:image/png;base64,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)"
      ]
    },
    {
      "cell_type": "code",
      "metadata": {
        "id": "LGVAYKf3kle_"
      },
      "source": [
        "config = dict(emb_sz=400, n_hid=1150, n_layers=3, pad_token=0, qrnn=False, output_p=0.25, hidden_p=0.1, input_p=0.2, embed_p=0.02, weight_p=0.15, tie_weights=True, out_bias=True)"
      ],
      "execution_count": 40,
      "outputs": []
    },
    {
      "cell_type": "code",
      "metadata": {
        "id": "frebu-QCk9QX"
      },
      "source": [
        "drop_mult = 0.6\r\n",
        "lr = 2e-2\r\n",
        "count = 1\r\n",
        "df_chunks = pd.read_csv('/content/drive/MyDrive/DeepLearning Project Notebook/Output/human_genome_data.csv', chunksize=100000)\r\n",
        "for df in df_chunks:\r\n",
        "    \r\n",
        "    if count == 1:\r\n",
        "        voc = np.load('/content/drive/MyDrive/DeepLearning Project Notebook/Output/human_vocab_5mer.npy')\r\n",
        "        model_vocab = GenomicVocab(voc)\r\n",
        "        \r\n",
        "        cut = int(len(df)*0.8) + 1\r\n",
        "        train_df = df[:cut]\r\n",
        "        valid_df = df[cut:]\r\n",
        "        data = GenomicTextLMDataBunch.from_df(path, train_df, valid_df, bs=400, tokenizer=tok, vocab=model_vocab,\r\n",
        "                                      chunksize=10000, text_cols=0, label_cols=1)\r\n",
        "        learn = get_model_LM(data, drop_mult, config)\r\n",
        "        \r\n",
        "    else:\r\n",
        "        data = GenomicTextLMDataBunch.from_df(path, df, valid_df, bs=400, tokenizer=tok, \r\n",
        "                                      chunksize=10000, text_cols=0, label_cols=1, vocab=model_vocab)\r\n",
        "        \r\n",
        "    learn.data = data\r\n",
        "    lr_iter = lr/(1.5**count)\r\n",
        "    print(f'Learning Rate: {lr_iter}')\r\n",
        "    learn.fit_one_cycle(1, lr_iter, moms=(0.8,0.7), pct_start=0.4)\r\n",
        "    count += 1\r\n"
      ],
      "execution_count": null,
      "outputs": []
    },
    {
      "cell_type": "code",
      "metadata": {
        "id": "6g1-8VwllNVP"
      },
      "source": [
        "learn.save('human_genome_full')\r\n",
        "learn.save_encoder('human_genome_full_enc')"
      ],
      "execution_count": null,
      "outputs": []
    },
    {
      "cell_type": "markdown",
      "metadata": {
        "id": "ggSgHWNSc9x0"
      },
      "source": [
        "## *Human Short Promoter Classification with Genomic Pretraining*"
      ]
    },
    {
      "cell_type": "markdown",
      "metadata": {
        "id": "avdttogg_9z0"
      },
      "source": [
        "\r\n",
        "\r\n",
        "```\r\n",
        "Les poids sont utilisés à partir du Language Model formé pour initialiser le modèle de classification.\r\n",
        "```\r\n",
        "\r\n"
      ]
    },
    {
      "cell_type": "code",
      "metadata": {
        "id": "fkJ9ElGa949q"
      },
      "source": [
        "voc = np.load('/content/drive/MyDrive/DeepLearning Project Notebook/Output/human_vocab_5mer.npy')\r\n",
        "model_vocab = GenomicVocab(voc)"
      ],
      "execution_count": 26,
      "outputs": []
    },
    {
      "cell_type": "code",
      "metadata": {
        "colab": {
          "base_uri": "https://localhost:8080/"
        },
        "id": "1_bbSwMS-Kuh",
        "outputId": "bd8c674e-5d80-475d-9894-e6134ed4784f"
      },
      "source": [
        "tok = Tokenizer(GenomicTokenizer, n_cpus=1, pre_rules=[], post_rules=[], special_cases=['xxpad'])\r\n",
        "data_clas = GenomicTextClasDataBunch.from_df(path, train_df, valid_df, tokenizer=tok, vocab=model_vocab,text_cols='Sequence', label_cols='Promoter', bs=400)"
      ],
      "execution_count": 42,
      "outputs": [
        {
          "output_type": "stream",
          "text": [
            "/usr/local/lib/python3.6/dist-packages/numpy/core/_asarray.py:83: VisibleDeprecationWarning: Creating an ndarray from ragged nested sequences (which is a list-or-tuple of lists-or-tuples-or ndarrays with different lengths or shapes) is deprecated. If you meant to do this, you must specify 'dtype=object' when creating the ndarray\n",
            "  return array(a, dtype, copy=False, order=order)\n",
            "<string>:6: VisibleDeprecationWarning: Creating an ndarray from ragged nested sequences (which is a list-or-tuple of lists-or-tuples-or ndarrays with different lengths or shapes) is deprecated. If you meant to do this, you must specify 'dtype=object' when creating the ndarray\n"
          ],
          "name": "stderr"
        }
      ]
    },
    {
      "cell_type": "markdown",
      "metadata": {
        "id": "WDYG-EljY4cs"
      },
      "source": [
        "**Le modèle**"
      ]
    },
    {
      "cell_type": "markdown",
      "metadata": {
        "id": "1achM8EKZjwd"
      },
      "source": [
        "![Capture d’écran 2020-12-25 203530.png](data:image/png;base64,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)"
      ]
    },
    {
      "cell_type": "code",
      "metadata": {
        "id": "trr4AeGl-RiY"
      },
      "source": [
        "clas_config = dict(emb_sz=400, n_hid=1150, n_layers=3, pad_token=0, qrnn=False, output_p=0.4, hidden_p=0.2, input_p=0.6, embed_p=0.1, weight_p=0.5)\r\n",
        "drop_mult = 0.6"
      ],
      "execution_count": 43,
      "outputs": []
    },
    {
      "cell_type": "code",
      "metadata": {
        "id": "-z2Ntdiy-XzO"
      },
      "source": [
        "learn = get_model_clas(data_clas, drop_mult, clas_config)"
      ],
      "execution_count": 44,
      "outputs": []
    },
    {
      "cell_type": "code",
      "metadata": {
        "colab": {
          "base_uri": "https://localhost:8080/"
        },
        "id": "lRpfQh48-Zmj",
        "outputId": "275a48dc-d4ea-4079-dd89-259089d60c15"
      },
      "source": [
        "learn.model"
      ],
      "execution_count": 45,
      "outputs": [
        {
          "output_type": "execute_result",
          "data": {
            "text/plain": [
              "SequentialRNN(\n",
              "  (0): MultiBatchEncoder(\n",
              "    (module): AWD_LSTM(\n",
              "      (encoder): Embedding(1025, 400, padding_idx=0)\n",
              "      (encoder_dp): EmbeddingDropout(\n",
              "        (emb): Embedding(1025, 400, padding_idx=0)\n",
              "      )\n",
              "      (rnns): ModuleList(\n",
              "        (0): WeightDropout(\n",
              "          (module): LSTM(400, 1150, batch_first=True)\n",
              "        )\n",
              "        (1): WeightDropout(\n",
              "          (module): LSTM(1150, 1150, batch_first=True)\n",
              "        )\n",
              "        (2): WeightDropout(\n",
              "          (module): LSTM(1150, 400, batch_first=True)\n",
              "        )\n",
              "      )\n",
              "      (input_dp): RNNDropout()\n",
              "      (hidden_dps): ModuleList(\n",
              "        (0): RNNDropout()\n",
              "        (1): RNNDropout()\n",
              "        (2): RNNDropout()\n",
              "      )\n",
              "    )\n",
              "  )\n",
              "  (1): PoolingLinearClassifier(\n",
              "    (layers): Sequential(\n",
              "      (0): BatchNorm1d(1200, eps=1e-05, momentum=0.1, affine=True, track_running_stats=True)\n",
              "      (1): Dropout(p=0.24, inplace=False)\n",
              "      (2): Linear(in_features=1200, out_features=50, bias=True)\n",
              "      (3): ReLU(inplace=True)\n",
              "      (4): BatchNorm1d(50, eps=1e-05, momentum=0.1, affine=True, track_running_stats=True)\n",
              "      (5): Dropout(p=0.1, inplace=False)\n",
              "      (6): Linear(in_features=50, out_features=2, bias=True)\n",
              "    )\n",
              "  )\n",
              ")"
            ]
          },
          "metadata": {
            "tags": []
          },
          "execution_count": 45
        }
      ]
    },
    {
      "cell_type": "code",
      "metadata": {
        "id": "qZI5NveN-bBE"
      },
      "source": [
        "learn.load_encoder('human_genome_full_enc')\r\n",
        "learn.freeze()"
      ],
      "execution_count": 46,
      "outputs": []
    },
    {
      "cell_type": "code",
      "metadata": {
        "colab": {
          "base_uri": "https://localhost:8080/",
          "height": 527
        },
        "id": "xycFDlTc-e_q",
        "outputId": "2900c52f-3a01-4a25-8f41-9dbdf1c6ac47"
      },
      "source": [
        "learn.lr_find()\r\n",
        "learn.recorder.plot()"
      ],
      "execution_count": 47,
      "outputs": [
        {
          "output_type": "display_data",
          "data": {
            "text/html": [
              "\n",
              "    <div>\n",
              "        <style>\n",
              "            /* Turns off some styling */\n",
              "            progress {\n",
              "                /* gets rid of default border in Firefox and Opera. */\n",
              "                border: none;\n",
              "                /* Needs to be in here for Safari polyfill so background images work as expected. */\n",
              "                background-size: auto;\n",
              "            }\n",
              "            .progress-bar-interrupted, .progress-bar-interrupted::-webkit-progress-bar {\n",
              "                background: #F44336;\n",
              "            }\n",
              "        </style>\n",
              "      <progress value='1' class='' max='2' style='width:300px; height:20px; vertical-align: middle;'></progress>\n",
              "      50.00% [1/2 01:23<01:23]\n",
              "    </div>\n",
              "    \n",
              "<table border=\"1\" class=\"dataframe\">\n",
              "  <thead>\n",
              "    <tr style=\"text-align: left;\">\n",
              "      <th>epoch</th>\n",
              "      <th>train_loss</th>\n",
              "      <th>valid_loss</th>\n",
              "      <th>accuracy</th>\n",
              "      <th>time</th>\n",
              "    </tr>\n",
              "  </thead>\n",
              "  <tbody>\n",
              "    <tr>\n",
              "      <td>0</td>\n",
              "      <td>0.565509</td>\n",
              "      <td>#na#</td>\n",
              "      <td>01:23</td>\n",
              "    </tr>\n",
              "  </tbody>\n",
              "</table><p>\n",
              "\n",
              "    <div>\n",
              "        <style>\n",
              "            /* Turns off some styling */\n",
              "            progress {\n",
              "                /* gets rid of default border in Firefox and Opera. */\n",
              "                border: none;\n",
              "                /* Needs to be in here for Safari polyfill so background images work as expected. */\n",
              "                background-size: auto;\n",
              "            }\n",
              "            .progress-bar-interrupted, .progress-bar-interrupted::-webkit-progress-bar {\n",
              "                background: #F44336;\n",
              "            }\n",
              "        </style>\n",
              "      <progress value='4' class='' max='89' style='width:300px; height:20px; vertical-align: middle;'></progress>\n",
              "      4.49% [4/89 00:07<02:43 1.0901]\n",
              "    </div>\n",
              "    "
            ],
            "text/plain": [
              "<IPython.core.display.HTML object>"
            ]
          },
          "metadata": {
            "tags": []
          }
        },
        {
          "output_type": "stream",
          "text": [
            "/usr/local/lib/python3.6/dist-packages/numpy/core/_asarray.py:83: VisibleDeprecationWarning: Creating an ndarray from ragged nested sequences (which is a list-or-tuple of lists-or-tuples-or ndarrays with different lengths or shapes) is deprecated. If you meant to do this, you must specify 'dtype=object' when creating the ndarray\n",
            "  return array(a, dtype, copy=False, order=order)\n",
            "<string>:6: VisibleDeprecationWarning: Creating an ndarray from ragged nested sequences (which is a list-or-tuple of lists-or-tuples-or ndarrays with different lengths or shapes) is deprecated. If you meant to do this, you must specify 'dtype=object' when creating the ndarray\n",
            "/usr/local/lib/python3.6/dist-packages/numpy/core/_asarray.py:83: VisibleDeprecationWarning: Creating an ndarray from ragged nested sequences (which is a list-or-tuple of lists-or-tuples-or ndarrays with different lengths or shapes) is deprecated. If you meant to do this, you must specify 'dtype=object' when creating the ndarray\n",
            "  return array(a, dtype, copy=False, order=order)\n",
            "<string>:6: VisibleDeprecationWarning: Creating an ndarray from ragged nested sequences (which is a list-or-tuple of lists-or-tuples-or ndarrays with different lengths or shapes) is deprecated. If you meant to do this, you must specify 'dtype=object' when creating the ndarray\n"
          ],
          "name": "stderr"
        },
        {
          "output_type": "stream",
          "text": [
            "LR Finder is complete, type {learner_name}.recorder.plot() to see the graph.\n"
          ],
          "name": "stdout"
        },
        {
          "output_type": "display_data",
          "data": {
            "image/png": "[encoded data removed]",
            "text/plain": [
              "<Figure size 432x288 with 1 Axes>"
            ]
          },
          "metadata": {
            "tags": [],
            "needs_background": "light"
          }
        }
      ]
    },
    {
      "cell_type": "markdown",
      "metadata": {
        "id": "MgmBjtn2eRLr"
      },
      "source": [
        "**Train** "
      ]
    },
    {
      "cell_type": "code",
      "metadata": {
        "colab": {
          "base_uri": "https://localhost:8080/",
          "height": 561
        },
        "id": "vJEecNp4-iW9",
        "outputId": "c75b959b-0b3c-4cbd-a44b-5cf0fdef0c45"
      },
      "source": [
        "learn.fit_one_cycle(6, 2e-2, moms=(0.8,0.7))"
      ],
      "execution_count": 48,
      "outputs": [
        {
          "output_type": "display_data",
          "data": {
            "text/html": [
              "<table border=\"1\" class=\"dataframe\">\n",
              "  <thead>\n",
              "    <tr style=\"text-align: left;\">\n",
              "      <th>epoch</th>\n",
              "      <th>train_loss</th>\n",
              "      <th>valid_loss</th>\n",
              "      <th>accuracy</th>\n",
              "      <th>time</th>\n",
              "    </tr>\n",
              "  </thead>\n",
              "  <tbody>\n",
              "    <tr>\n",
              "      <td>0</td>\n",
              "      <td>0.386522</td>\n",
              "      <td>0.358593</td>\n",
              "      <td>0.849208</td>\n",
              "      <td>01:33</td>\n",
              "    </tr>\n",
              "    <tr>\n",
              "      <td>1</td>\n",
              "      <td>0.374080</td>\n",
              "      <td>0.341204</td>\n",
              "      <td>0.861523</td>\n",
              "      <td>01:32</td>\n",
              "    </tr>\n",
              "    <tr>\n",
              "      <td>2</td>\n",
              "      <td>0.365486</td>\n",
              "      <td>0.335091</td>\n",
              "      <td>0.857753</td>\n",
              "      <td>01:33</td>\n",
              "    </tr>\n",
              "    <tr>\n",
              "      <td>3</td>\n",
              "      <td>0.355384</td>\n",
              "      <td>0.327503</td>\n",
              "      <td>0.860266</td>\n",
              "      <td>01:33</td>\n",
              "    </tr>\n",
              "    <tr>\n",
              "      <td>4</td>\n",
              "      <td>0.351556</td>\n",
              "      <td>0.325386</td>\n",
              "      <td>0.861272</td>\n",
              "      <td>01:32</td>\n",
              "    </tr>\n",
              "    <tr>\n",
              "      <td>5</td>\n",
              "      <td>0.344485</td>\n",
              "      <td>0.321166</td>\n",
              "      <td>0.863534</td>\n",
              "      <td>01:33</td>\n",
              "    </tr>\n",
              "  </tbody>\n",
              "</table>"
            ],
            "text/plain": [
              "<IPython.core.display.HTML object>"
            ]
          },
          "metadata": {
            "tags": []
          }
        },
        {
          "output_type": "stream",
          "text": [
            "/usr/local/lib/python3.6/dist-packages/numpy/core/_asarray.py:83: VisibleDeprecationWarning: Creating an ndarray from ragged nested sequences (which is a list-or-tuple of lists-or-tuples-or ndarrays with different lengths or shapes) is deprecated. If you meant to do this, you must specify 'dtype=object' when creating the ndarray\n",
            "  return array(a, dtype, copy=False, order=order)\n",
            "<string>:6: VisibleDeprecationWarning: Creating an ndarray from ragged nested sequences (which is a list-or-tuple of lists-or-tuples-or ndarrays with different lengths or shapes) is deprecated. If you meant to do this, you must specify 'dtype=object' when creating the ndarray\n",
            "/usr/local/lib/python3.6/dist-packages/numpy/core/_asarray.py:83: VisibleDeprecationWarning: Creating an ndarray from ragged nested sequences (which is a list-or-tuple of lists-or-tuples-or ndarrays with different lengths or shapes) is deprecated. If you meant to do this, you must specify 'dtype=object' when creating the ndarray\n",
            "  return array(a, dtype, copy=False, order=order)\n",
            "<string>:6: VisibleDeprecationWarning: Creating an ndarray from ragged nested sequences (which is a list-or-tuple of lists-or-tuples-or ndarrays with different lengths or shapes) is deprecated. If you meant to do this, you must specify 'dtype=object' when creating the ndarray\n",
            "/usr/local/lib/python3.6/dist-packages/numpy/core/_asarray.py:83: VisibleDeprecationWarning: Creating an ndarray from ragged nested sequences (which is a list-or-tuple of lists-or-tuples-or ndarrays with different lengths or shapes) is deprecated. If you meant to do this, you must specify 'dtype=object' when creating the ndarray\n",
            "  return array(a, dtype, copy=False, order=order)\n",
            "<string>:6: VisibleDeprecationWarning: Creating an ndarray from ragged nested sequences (which is a list-or-tuple of lists-or-tuples-or ndarrays with different lengths or shapes) is deprecated. If you meant to do this, you must specify 'dtype=object' when creating the ndarray\n",
            "/usr/local/lib/python3.6/dist-packages/numpy/core/_asarray.py:83: VisibleDeprecationWarning: Creating an ndarray from ragged nested sequences (which is a list-or-tuple of lists-or-tuples-or ndarrays with different lengths or shapes) is deprecated. If you meant to do this, you must specify 'dtype=object' when creating the ndarray\n",
            "  return array(a, dtype, copy=False, order=order)\n",
            "<string>:6: VisibleDeprecationWarning: Creating an ndarray from ragged nested sequences (which is a list-or-tuple of lists-or-tuples-or ndarrays with different lengths or shapes) is deprecated. If you meant to do this, you must specify 'dtype=object' when creating the ndarray\n",
            "/usr/local/lib/python3.6/dist-packages/numpy/core/_asarray.py:83: VisibleDeprecationWarning: Creating an ndarray from ragged nested sequences (which is a list-or-tuple of lists-or-tuples-or ndarrays with different lengths or shapes) is deprecated. If you meant to do this, you must specify 'dtype=object' when creating the ndarray\n",
            "  return array(a, dtype, copy=False, order=order)\n",
            "<string>:6: VisibleDeprecationWarning: Creating an ndarray from ragged nested sequences (which is a list-or-tuple of lists-or-tuples-or ndarrays with different lengths or shapes) is deprecated. If you meant to do this, you must specify 'dtype=object' when creating the ndarray\n",
            "/usr/local/lib/python3.6/dist-packages/numpy/core/_asarray.py:83: VisibleDeprecationWarning: Creating an ndarray from ragged nested sequences (which is a list-or-tuple of lists-or-tuples-or ndarrays with different lengths or shapes) is deprecated. If you meant to do this, you must specify 'dtype=object' when creating the ndarray\n",
            "  return array(a, dtype, copy=False, order=order)\n",
            "<string>:6: VisibleDeprecationWarning: Creating an ndarray from ragged nested sequences (which is a list-or-tuple of lists-or-tuples-or ndarrays with different lengths or shapes) is deprecated. If you meant to do this, you must specify 'dtype=object' when creating the ndarray\n"
          ],
          "name": "stderr"
        }
      ]
    },
    {
      "cell_type": "code",
      "metadata": {
        "colab": {
          "base_uri": "https://localhost:8080/",
          "height": 561
        },
        "id": "HZG50XwY-q3S",
        "outputId": "ca8b2876-0a5f-4512-e7fc-2f339c55ded2"
      },
      "source": [
        "learn.freeze_to(-2)\r\n",
        "learn.fit_one_cycle(6, slice(1e-2/(2.6**4),1e-2), moms=(0.8,0.7))"
      ],
      "execution_count": 49,
      "outputs": [
        {
          "output_type": "display_data",
          "data": {
            "text/html": [
              "<table border=\"1\" class=\"dataframe\">\n",
              "  <thead>\n",
              "    <tr style=\"text-align: left;\">\n",
              "      <th>epoch</th>\n",
              "      <th>train_loss</th>\n",
              "      <th>valid_loss</th>\n",
              "      <th>accuracy</th>\n",
              "      <th>time</th>\n",
              "    </tr>\n",
              "  </thead>\n",
              "  <tbody>\n",
              "    <tr>\n",
              "      <td>0</td>\n",
              "      <td>0.335474</td>\n",
              "      <td>0.316814</td>\n",
              "      <td>0.865041</td>\n",
              "      <td>01:52</td>\n",
              "    </tr>\n",
              "    <tr>\n",
              "      <td>1</td>\n",
              "      <td>0.332767</td>\n",
              "      <td>0.329994</td>\n",
              "      <td>0.863282</td>\n",
              "      <td>01:52</td>\n",
              "    </tr>\n",
              "    <tr>\n",
              "      <td>2</td>\n",
              "      <td>0.315845</td>\n",
              "      <td>0.304868</td>\n",
              "      <td>0.873586</td>\n",
              "      <td>01:51</td>\n",
              "    </tr>\n",
              "    <tr>\n",
              "      <td>3</td>\n",
              "      <td>0.292885</td>\n",
              "      <td>0.287381</td>\n",
              "      <td>0.879367</td>\n",
              "      <td>01:52</td>\n",
              "    </tr>\n",
              "    <tr>\n",
              "      <td>4</td>\n",
              "      <td>0.273572</td>\n",
              "      <td>0.282813</td>\n",
              "      <td>0.881629</td>\n",
              "      <td>01:51</td>\n",
              "    </tr>\n",
              "    <tr>\n",
              "      <td>5</td>\n",
              "      <td>0.259713</td>\n",
              "      <td>0.276668</td>\n",
              "      <td>0.885147</td>\n",
              "      <td>01:52</td>\n",
              "    </tr>\n",
              "  </tbody>\n",
              "</table>"
            ],
            "text/plain": [
              "<IPython.core.display.HTML object>"
            ]
          },
          "metadata": {
            "tags": []
          }
        },
        {
          "output_type": "stream",
          "text": [
            "/usr/local/lib/python3.6/dist-packages/numpy/core/_asarray.py:83: VisibleDeprecationWarning: Creating an ndarray from ragged nested sequences (which is a list-or-tuple of lists-or-tuples-or ndarrays with different lengths or shapes) is deprecated. If you meant to do this, you must specify 'dtype=object' when creating the ndarray\n",
            "  return array(a, dtype, copy=False, order=order)\n",
            "<string>:6: VisibleDeprecationWarning: Creating an ndarray from ragged nested sequences (which is a list-or-tuple of lists-or-tuples-or ndarrays with different lengths or shapes) is deprecated. If you meant to do this, you must specify 'dtype=object' when creating the ndarray\n",
            "/usr/local/lib/python3.6/dist-packages/numpy/core/_asarray.py:83: VisibleDeprecationWarning: Creating an ndarray from ragged nested sequences (which is a list-or-tuple of lists-or-tuples-or ndarrays with different lengths or shapes) is deprecated. If you meant to do this, you must specify 'dtype=object' when creating the ndarray\n",
            "  return array(a, dtype, copy=False, order=order)\n",
            "<string>:6: VisibleDeprecationWarning: Creating an ndarray from ragged nested sequences (which is a list-or-tuple of lists-or-tuples-or ndarrays with different lengths or shapes) is deprecated. If you meant to do this, you must specify 'dtype=object' when creating the ndarray\n",
            "/usr/local/lib/python3.6/dist-packages/numpy/core/_asarray.py:83: VisibleDeprecationWarning: Creating an ndarray from ragged nested sequences (which is a list-or-tuple of lists-or-tuples-or ndarrays with different lengths or shapes) is deprecated. If you meant to do this, you must specify 'dtype=object' when creating the ndarray\n",
            "  return array(a, dtype, copy=False, order=order)\n",
            "<string>:6: VisibleDeprecationWarning: Creating an ndarray from ragged nested sequences (which is a list-or-tuple of lists-or-tuples-or ndarrays with different lengths or shapes) is deprecated. If you meant to do this, you must specify 'dtype=object' when creating the ndarray\n",
            "/usr/local/lib/python3.6/dist-packages/numpy/core/_asarray.py:83: VisibleDeprecationWarning: Creating an ndarray from ragged nested sequences (which is a list-or-tuple of lists-or-tuples-or ndarrays with different lengths or shapes) is deprecated. If you meant to do this, you must specify 'dtype=object' when creating the ndarray\n",
            "  return array(a, dtype, copy=False, order=order)\n",
            "<string>:6: VisibleDeprecationWarning: Creating an ndarray from ragged nested sequences (which is a list-or-tuple of lists-or-tuples-or ndarrays with different lengths or shapes) is deprecated. If you meant to do this, you must specify 'dtype=object' when creating the ndarray\n",
            "/usr/local/lib/python3.6/dist-packages/numpy/core/_asarray.py:83: VisibleDeprecationWarning: Creating an ndarray from ragged nested sequences (which is a list-or-tuple of lists-or-tuples-or ndarrays with different lengths or shapes) is deprecated. If you meant to do this, you must specify 'dtype=object' when creating the ndarray\n",
            "  return array(a, dtype, copy=False, order=order)\n",
            "<string>:6: VisibleDeprecationWarning: Creating an ndarray from ragged nested sequences (which is a list-or-tuple of lists-or-tuples-or ndarrays with different lengths or shapes) is deprecated. If you meant to do this, you must specify 'dtype=object' when creating the ndarray\n",
            "/usr/local/lib/python3.6/dist-packages/numpy/core/_asarray.py:83: VisibleDeprecationWarning: Creating an ndarray from ragged nested sequences (which is a list-or-tuple of lists-or-tuples-or ndarrays with different lengths or shapes) is deprecated. If you meant to do this, you must specify 'dtype=object' when creating the ndarray\n",
            "  return array(a, dtype, copy=False, order=order)\n",
            "<string>:6: VisibleDeprecationWarning: Creating an ndarray from ragged nested sequences (which is a list-or-tuple of lists-or-tuples-or ndarrays with different lengths or shapes) is deprecated. If you meant to do this, you must specify 'dtype=object' when creating the ndarray\n"
          ],
          "name": "stderr"
        }
      ]
    },
    {
      "cell_type": "code",
      "metadata": {
        "colab": {
          "base_uri": "https://localhost:8080/",
          "height": 561
        },
        "id": "nFizy6Aa-rdM",
        "outputId": "3a2a5ef9-3ef5-4d19-8dfe-c7fef90f7389"
      },
      "source": [
        "learn.freeze_to(-3)\r\n",
        "learn.fit_one_cycle(6, slice(5e-3/(2.6**4),5e-3), moms=(0.8,0.7))"
      ],
      "execution_count": 50,
      "outputs": [
        {
          "output_type": "display_data",
          "data": {
            "text/html": [
              "<table border=\"1\" class=\"dataframe\">\n",
              "  <thead>\n",
              "    <tr style=\"text-align: left;\">\n",
              "      <th>epoch</th>\n",
              "      <th>train_loss</th>\n",
              "      <th>valid_loss</th>\n",
              "      <th>accuracy</th>\n",
              "      <th>time</th>\n",
              "    </tr>\n",
              "  </thead>\n",
              "  <tbody>\n",
              "    <tr>\n",
              "      <td>0</td>\n",
              "      <td>0.255931</td>\n",
              "      <td>0.276248</td>\n",
              "      <td>0.886152</td>\n",
              "      <td>02:53</td>\n",
              "    </tr>\n",
              "    <tr>\n",
              "      <td>1</td>\n",
              "      <td>0.259149</td>\n",
              "      <td>0.272275</td>\n",
              "      <td>0.886906</td>\n",
              "      <td>02:53</td>\n",
              "    </tr>\n",
              "    <tr>\n",
              "      <td>2</td>\n",
              "      <td>0.249507</td>\n",
              "      <td>0.272152</td>\n",
              "      <td>0.887660</td>\n",
              "      <td>02:52</td>\n",
              "    </tr>\n",
              "    <tr>\n",
              "      <td>3</td>\n",
              "      <td>0.235974</td>\n",
              "      <td>0.265633</td>\n",
              "      <td>0.889419</td>\n",
              "      <td>02:52</td>\n",
              "    </tr>\n",
              "    <tr>\n",
              "      <td>4</td>\n",
              "      <td>0.221155</td>\n",
              "      <td>0.272339</td>\n",
              "      <td>0.890676</td>\n",
              "      <td>02:53</td>\n",
              "    </tr>\n",
              "    <tr>\n",
              "      <td>5</td>\n",
              "      <td>0.214214</td>\n",
              "      <td>0.269124</td>\n",
              "      <td>0.893692</td>\n",
              "      <td>02:53</td>\n",
              "    </tr>\n",
              "  </tbody>\n",
              "</table>"
            ],
            "text/plain": [
              "<IPython.core.display.HTML object>"
            ]
          },
          "metadata": {
            "tags": []
          }
        },
        {
          "output_type": "stream",
          "text": [
            "/usr/local/lib/python3.6/dist-packages/numpy/core/_asarray.py:83: VisibleDeprecationWarning: Creating an ndarray from ragged nested sequences (which is a list-or-tuple of lists-or-tuples-or ndarrays with different lengths or shapes) is deprecated. If you meant to do this, you must specify 'dtype=object' when creating the ndarray\n",
            "  return array(a, dtype, copy=False, order=order)\n",
            "<string>:6: VisibleDeprecationWarning: Creating an ndarray from ragged nested sequences (which is a list-or-tuple of lists-or-tuples-or ndarrays with different lengths or shapes) is deprecated. If you meant to do this, you must specify 'dtype=object' when creating the ndarray\n",
            "/usr/local/lib/python3.6/dist-packages/numpy/core/_asarray.py:83: VisibleDeprecationWarning: Creating an ndarray from ragged nested sequences (which is a list-or-tuple of lists-or-tuples-or ndarrays with different lengths or shapes) is deprecated. If you meant to do this, you must specify 'dtype=object' when creating the ndarray\n",
            "  return array(a, dtype, copy=False, order=order)\n",
            "<string>:6: VisibleDeprecationWarning: Creating an ndarray from ragged nested sequences (which is a list-or-tuple of lists-or-tuples-or ndarrays with different lengths or shapes) is deprecated. If you meant to do this, you must specify 'dtype=object' when creating the ndarray\n",
            "/usr/local/lib/python3.6/dist-packages/numpy/core/_asarray.py:83: VisibleDeprecationWarning: Creating an ndarray from ragged nested sequences (which is a list-or-tuple of lists-or-tuples-or ndarrays with different lengths or shapes) is deprecated. If you meant to do this, you must specify 'dtype=object' when creating the ndarray\n",
            "  return array(a, dtype, copy=False, order=order)\n",
            "<string>:6: VisibleDeprecationWarning: Creating an ndarray from ragged nested sequences (which is a list-or-tuple of lists-or-tuples-or ndarrays with different lengths or shapes) is deprecated. If you meant to do this, you must specify 'dtype=object' when creating the ndarray\n",
            "/usr/local/lib/python3.6/dist-packages/numpy/core/_asarray.py:83: VisibleDeprecationWarning: Creating an ndarray from ragged nested sequences (which is a list-or-tuple of lists-or-tuples-or ndarrays with different lengths or shapes) is deprecated. If you meant to do this, you must specify 'dtype=object' when creating the ndarray\n",
            "  return array(a, dtype, copy=False, order=order)\n",
            "<string>:6: VisibleDeprecationWarning: Creating an ndarray from ragged nested sequences (which is a list-or-tuple of lists-or-tuples-or ndarrays with different lengths or shapes) is deprecated. If you meant to do this, you must specify 'dtype=object' when creating the ndarray\n",
            "/usr/local/lib/python3.6/dist-packages/numpy/core/_asarray.py:83: VisibleDeprecationWarning: Creating an ndarray from ragged nested sequences (which is a list-or-tuple of lists-or-tuples-or ndarrays with different lengths or shapes) is deprecated. If you meant to do this, you must specify 'dtype=object' when creating the ndarray\n",
            "  return array(a, dtype, copy=False, order=order)\n",
            "<string>:6: VisibleDeprecationWarning: Creating an ndarray from ragged nested sequences (which is a list-or-tuple of lists-or-tuples-or ndarrays with different lengths or shapes) is deprecated. If you meant to do this, you must specify 'dtype=object' when creating the ndarray\n",
            "/usr/local/lib/python3.6/dist-packages/numpy/core/_asarray.py:83: VisibleDeprecationWarning: Creating an ndarray from ragged nested sequences (which is a list-or-tuple of lists-or-tuples-or ndarrays with different lengths or shapes) is deprecated. If you meant to do this, you must specify 'dtype=object' when creating the ndarray\n",
            "  return array(a, dtype, copy=False, order=order)\n",
            "<string>:6: VisibleDeprecationWarning: Creating an ndarray from ragged nested sequences (which is a list-or-tuple of lists-or-tuples-or ndarrays with different lengths or shapes) is deprecated. If you meant to do this, you must specify 'dtype=object' when creating the ndarray\n"
          ],
          "name": "stderr"
        }
      ]
    },
    {
      "cell_type": "code",
      "metadata": {
        "colab": {
          "base_uri": "https://localhost:8080/",
          "height": 561
        },
        "id": "5sIZOpTKMMZf",
        "outputId": "531ccaa9-91d4-40dd-a1aa-ce84e0a1edf3"
      },
      "source": [
        "learn.freeze_to(-4)\r\n",
        "learn.fit_one_cycle(6, slice(1e-2/(2.6**4),1e-2), moms=(0.8,0.7))"
      ],
      "execution_count": 51,
      "outputs": [
        {
          "output_type": "display_data",
          "data": {
            "text/html": [
              "<table border=\"1\" class=\"dataframe\">\n",
              "  <thead>\n",
              "    <tr style=\"text-align: left;\">\n",
              "      <th>epoch</th>\n",
              "      <th>train_loss</th>\n",
              "      <th>valid_loss</th>\n",
              "      <th>accuracy</th>\n",
              "      <th>time</th>\n",
              "    </tr>\n",
              "  </thead>\n",
              "  <tbody>\n",
              "    <tr>\n",
              "      <td>0</td>\n",
              "      <td>0.214910</td>\n",
              "      <td>0.273305</td>\n",
              "      <td>0.892938</td>\n",
              "      <td>03:43</td>\n",
              "    </tr>\n",
              "    <tr>\n",
              "      <td>1</td>\n",
              "      <td>0.234659</td>\n",
              "      <td>0.267476</td>\n",
              "      <td>0.892184</td>\n",
              "      <td>03:41</td>\n",
              "    </tr>\n",
              "    <tr>\n",
              "      <td>2</td>\n",
              "      <td>0.230982</td>\n",
              "      <td>0.264732</td>\n",
              "      <td>0.893441</td>\n",
              "      <td>03:42</td>\n",
              "    </tr>\n",
              "    <tr>\n",
              "      <td>3</td>\n",
              "      <td>0.206628</td>\n",
              "      <td>0.273666</td>\n",
              "      <td>0.898718</td>\n",
              "      <td>03:42</td>\n",
              "    </tr>\n",
              "    <tr>\n",
              "      <td>4</td>\n",
              "      <td>0.185162</td>\n",
              "      <td>0.272907</td>\n",
              "      <td>0.897964</td>\n",
              "      <td>03:42</td>\n",
              "    </tr>\n",
              "    <tr>\n",
              "      <td>5</td>\n",
              "      <td>0.163196</td>\n",
              "      <td>0.269434</td>\n",
              "      <td>0.900226</td>\n",
              "      <td>03:42</td>\n",
              "    </tr>\n",
              "  </tbody>\n",
              "</table>"
            ],
            "text/plain": [
              "<IPython.core.display.HTML object>"
            ]
          },
          "metadata": {
            "tags": []
          }
        },
        {
          "output_type": "stream",
          "text": [
            "/usr/local/lib/python3.6/dist-packages/numpy/core/_asarray.py:83: VisibleDeprecationWarning: Creating an ndarray from ragged nested sequences (which is a list-or-tuple of lists-or-tuples-or ndarrays with different lengths or shapes) is deprecated. If you meant to do this, you must specify 'dtype=object' when creating the ndarray\n",
            "  return array(a, dtype, copy=False, order=order)\n",
            "<string>:6: VisibleDeprecationWarning: Creating an ndarray from ragged nested sequences (which is a list-or-tuple of lists-or-tuples-or ndarrays with different lengths or shapes) is deprecated. If you meant to do this, you must specify 'dtype=object' when creating the ndarray\n",
            "/usr/local/lib/python3.6/dist-packages/numpy/core/_asarray.py:83: VisibleDeprecationWarning: Creating an ndarray from ragged nested sequences (which is a list-or-tuple of lists-or-tuples-or ndarrays with different lengths or shapes) is deprecated. If you meant to do this, you must specify 'dtype=object' when creating the ndarray\n",
            "  return array(a, dtype, copy=False, order=order)\n",
            "<string>:6: VisibleDeprecationWarning: Creating an ndarray from ragged nested sequences (which is a list-or-tuple of lists-or-tuples-or ndarrays with different lengths or shapes) is deprecated. If you meant to do this, you must specify 'dtype=object' when creating the ndarray\n",
            "/usr/local/lib/python3.6/dist-packages/numpy/core/_asarray.py:83: VisibleDeprecationWarning: Creating an ndarray from ragged nested sequences (which is a list-or-tuple of lists-or-tuples-or ndarrays with different lengths or shapes) is deprecated. If you meant to do this, you must specify 'dtype=object' when creating the ndarray\n",
            "  return array(a, dtype, copy=False, order=order)\n",
            "<string>:6: VisibleDeprecationWarning: Creating an ndarray from ragged nested sequences (which is a list-or-tuple of lists-or-tuples-or ndarrays with different lengths or shapes) is deprecated. If you meant to do this, you must specify 'dtype=object' when creating the ndarray\n",
            "/usr/local/lib/python3.6/dist-packages/numpy/core/_asarray.py:83: VisibleDeprecationWarning: Creating an ndarray from ragged nested sequences (which is a list-or-tuple of lists-or-tuples-or ndarrays with different lengths or shapes) is deprecated. If you meant to do this, you must specify 'dtype=object' when creating the ndarray\n",
            "  return array(a, dtype, copy=False, order=order)\n",
            "<string>:6: VisibleDeprecationWarning: Creating an ndarray from ragged nested sequences (which is a list-or-tuple of lists-or-tuples-or ndarrays with different lengths or shapes) is deprecated. If you meant to do this, you must specify 'dtype=object' when creating the ndarray\n",
            "/usr/local/lib/python3.6/dist-packages/numpy/core/_asarray.py:83: VisibleDeprecationWarning: Creating an ndarray from ragged nested sequences (which is a list-or-tuple of lists-or-tuples-or ndarrays with different lengths or shapes) is deprecated. If you meant to do this, you must specify 'dtype=object' when creating the ndarray\n",
            "  return array(a, dtype, copy=False, order=order)\n",
            "<string>:6: VisibleDeprecationWarning: Creating an ndarray from ragged nested sequences (which is a list-or-tuple of lists-or-tuples-or ndarrays with different lengths or shapes) is deprecated. If you meant to do this, you must specify 'dtype=object' when creating the ndarray\n",
            "/usr/local/lib/python3.6/dist-packages/numpy/core/_asarray.py:83: VisibleDeprecationWarning: Creating an ndarray from ragged nested sequences (which is a list-or-tuple of lists-or-tuples-or ndarrays with different lengths or shapes) is deprecated. If you meant to do this, you must specify 'dtype=object' when creating the ndarray\n",
            "  return array(a, dtype, copy=False, order=order)\n",
            "<string>:6: VisibleDeprecationWarning: Creating an ndarray from ragged nested sequences (which is a list-or-tuple of lists-or-tuples-or ndarrays with different lengths or shapes) is deprecated. If you meant to do this, you must specify 'dtype=object' when creating the ndarray\n"
          ],
          "name": "stderr"
        }
      ]
    },
    {
      "cell_type": "code",
      "metadata": {
        "colab": {
          "base_uri": "https://localhost:8080/",
          "height": 889
        },
        "id": "xTfJ6OGj-vuP",
        "outputId": "18334c20-fbc8-4cb7-8b88-b34f225054a8"
      },
      "source": [
        "learn.unfreeze()\r\n",
        "learn.fit_one_cycle(10, slice(1e-3/(2.6**4),1e-3), moms=(0.8,0.7))"
      ],
      "execution_count": 52,
      "outputs": [
        {
          "output_type": "display_data",
          "data": {
            "text/html": [
              "<table border=\"1\" class=\"dataframe\">\n",
              "  <thead>\n",
              "    <tr style=\"text-align: left;\">\n",
              "      <th>epoch</th>\n",
              "      <th>train_loss</th>\n",
              "      <th>valid_loss</th>\n",
              "      <th>accuracy</th>\n",
              "      <th>time</th>\n",
              "    </tr>\n",
              "  </thead>\n",
              "  <tbody>\n",
              "    <tr>\n",
              "      <td>0</td>\n",
              "      <td>0.159105</td>\n",
              "      <td>0.270800</td>\n",
              "      <td>0.898467</td>\n",
              "      <td>03:43</td>\n",
              "    </tr>\n",
              "    <tr>\n",
              "      <td>1</td>\n",
              "      <td>0.158231</td>\n",
              "      <td>0.272376</td>\n",
              "      <td>0.900226</td>\n",
              "      <td>03:43</td>\n",
              "    </tr>\n",
              "    <tr>\n",
              "      <td>2</td>\n",
              "      <td>0.157107</td>\n",
              "      <td>0.267426</td>\n",
              "      <td>0.899724</td>\n",
              "      <td>03:43</td>\n",
              "    </tr>\n",
              "    <tr>\n",
              "      <td>3</td>\n",
              "      <td>0.151527</td>\n",
              "      <td>0.272136</td>\n",
              "      <td>0.905001</td>\n",
              "      <td>03:43</td>\n",
              "    </tr>\n",
              "    <tr>\n",
              "      <td>4</td>\n",
              "      <td>0.148366</td>\n",
              "      <td>0.275955</td>\n",
              "      <td>0.902991</td>\n",
              "      <td>03:43</td>\n",
              "    </tr>\n",
              "    <tr>\n",
              "      <td>5</td>\n",
              "      <td>0.146923</td>\n",
              "      <td>0.272029</td>\n",
              "      <td>0.903745</td>\n",
              "      <td>03:43</td>\n",
              "    </tr>\n",
              "    <tr>\n",
              "      <td>6</td>\n",
              "      <td>0.144038</td>\n",
              "      <td>0.271463</td>\n",
              "      <td>0.904247</td>\n",
              "      <td>03:43</td>\n",
              "    </tr>\n",
              "    <tr>\n",
              "      <td>7</td>\n",
              "      <td>0.142007</td>\n",
              "      <td>0.273781</td>\n",
              "      <td>0.905755</td>\n",
              "      <td>03:43</td>\n",
              "    </tr>\n",
              "    <tr>\n",
              "      <td>8</td>\n",
              "      <td>0.140101</td>\n",
              "      <td>0.274773</td>\n",
              "      <td>0.906258</td>\n",
              "      <td>03:43</td>\n",
              "    </tr>\n",
              "    <tr>\n",
              "      <td>9</td>\n",
              "      <td>0.140144</td>\n",
              "      <td>0.274455</td>\n",
              "      <td>0.905755</td>\n",
              "      <td>03:43</td>\n",
              "    </tr>\n",
              "  </tbody>\n",
              "</table>"
            ],
            "text/plain": [
              "<IPython.core.display.HTML object>"
            ]
          },
          "metadata": {
            "tags": []
          }
        },
        {
          "output_type": "stream",
          "text": [
            "/usr/local/lib/python3.6/dist-packages/numpy/core/_asarray.py:83: VisibleDeprecationWarning: Creating an ndarray from ragged nested sequences (which is a list-or-tuple of lists-or-tuples-or ndarrays with different lengths or shapes) is deprecated. If you meant to do this, you must specify 'dtype=object' when creating the ndarray\n",
            "  return array(a, dtype, copy=False, order=order)\n",
            "<string>:6: VisibleDeprecationWarning: Creating an ndarray from ragged nested sequences (which is a list-or-tuple of lists-or-tuples-or ndarrays with different lengths or shapes) is deprecated. If you meant to do this, you must specify 'dtype=object' when creating the ndarray\n",
            "/usr/local/lib/python3.6/dist-packages/numpy/core/_asarray.py:83: VisibleDeprecationWarning: Creating an ndarray from ragged nested sequences (which is a list-or-tuple of lists-or-tuples-or ndarrays with different lengths or shapes) is deprecated. If you meant to do this, you must specify 'dtype=object' when creating the ndarray\n",
            "  return array(a, dtype, copy=False, order=order)\n",
            "<string>:6: VisibleDeprecationWarning: Creating an ndarray from ragged nested sequences (which is a list-or-tuple of lists-or-tuples-or ndarrays with different lengths or shapes) is deprecated. If you meant to do this, you must specify 'dtype=object' when creating the ndarray\n",
            "/usr/local/lib/python3.6/dist-packages/numpy/core/_asarray.py:83: VisibleDeprecationWarning: Creating an ndarray from ragged nested sequences (which is a list-or-tuple of lists-or-tuples-or ndarrays with different lengths or shapes) is deprecated. If you meant to do this, you must specify 'dtype=object' when creating the ndarray\n",
            "  return array(a, dtype, copy=False, order=order)\n",
            "<string>:6: VisibleDeprecationWarning: Creating an ndarray from ragged nested sequences (which is a list-or-tuple of lists-or-tuples-or ndarrays with different lengths or shapes) is deprecated. If you meant to do this, you must specify 'dtype=object' when creating the ndarray\n",
            "/usr/local/lib/python3.6/dist-packages/numpy/core/_asarray.py:83: VisibleDeprecationWarning: Creating an ndarray from ragged nested sequences (which is a list-or-tuple of lists-or-tuples-or ndarrays with different lengths or shapes) is deprecated. If you meant to do this, you must specify 'dtype=object' when creating the ndarray\n",
            "  return array(a, dtype, copy=False, order=order)\n",
            "<string>:6: VisibleDeprecationWarning: Creating an ndarray from ragged nested sequences (which is a list-or-tuple of lists-or-tuples-or ndarrays with different lengths or shapes) is deprecated. If you meant to do this, you must specify 'dtype=object' when creating the ndarray\n",
            "/usr/local/lib/python3.6/dist-packages/numpy/core/_asarray.py:83: VisibleDeprecationWarning: Creating an ndarray from ragged nested sequences (which is a list-or-tuple of lists-or-tuples-or ndarrays with different lengths or shapes) is deprecated. If you meant to do this, you must specify 'dtype=object' when creating the ndarray\n",
            "  return array(a, dtype, copy=False, order=order)\n",
            "<string>:6: VisibleDeprecationWarning: Creating an ndarray from ragged nested sequences (which is a list-or-tuple of lists-or-tuples-or ndarrays with different lengths or shapes) is deprecated. If you meant to do this, you must specify 'dtype=object' when creating the ndarray\n",
            "/usr/local/lib/python3.6/dist-packages/numpy/core/_asarray.py:83: VisibleDeprecationWarning: Creating an ndarray from ragged nested sequences (which is a list-or-tuple of lists-or-tuples-or ndarrays with different lengths or shapes) is deprecated. If you meant to do this, you must specify 'dtype=object' when creating the ndarray\n",
            "  return array(a, dtype, copy=False, order=order)\n",
            "<string>:6: VisibleDeprecationWarning: Creating an ndarray from ragged nested sequences (which is a list-or-tuple of lists-or-tuples-or ndarrays with different lengths or shapes) is deprecated. If you meant to do this, you must specify 'dtype=object' when creating the ndarray\n",
            "/usr/local/lib/python3.6/dist-packages/numpy/core/_asarray.py:83: VisibleDeprecationWarning: Creating an ndarray from ragged nested sequences (which is a list-or-tuple of lists-or-tuples-or ndarrays with different lengths or shapes) is deprecated. If you meant to do this, you must specify 'dtype=object' when creating the ndarray\n",
            "  return array(a, dtype, copy=False, order=order)\n",
            "<string>:6: VisibleDeprecationWarning: Creating an ndarray from ragged nested sequences (which is a list-or-tuple of lists-or-tuples-or ndarrays with different lengths or shapes) is deprecated. If you meant to do this, you must specify 'dtype=object' when creating the ndarray\n",
            "/usr/local/lib/python3.6/dist-packages/numpy/core/_asarray.py:83: VisibleDeprecationWarning: Creating an ndarray from ragged nested sequences (which is a list-or-tuple of lists-or-tuples-or ndarrays with different lengths or shapes) is deprecated. If you meant to do this, you must specify 'dtype=object' when creating the ndarray\n",
            "  return array(a, dtype, copy=False, order=order)\n",
            "<string>:6: VisibleDeprecationWarning: Creating an ndarray from ragged nested sequences (which is a list-or-tuple of lists-or-tuples-or ndarrays with different lengths or shapes) is deprecated. If you meant to do this, you must specify 'dtype=object' when creating the ndarray\n",
            "/usr/local/lib/python3.6/dist-packages/numpy/core/_asarray.py:83: VisibleDeprecationWarning: Creating an ndarray from ragged nested sequences (which is a list-or-tuple of lists-or-tuples-or ndarrays with different lengths or shapes) is deprecated. If you meant to do this, you must specify 'dtype=object' when creating the ndarray\n",
            "  return array(a, dtype, copy=False, order=order)\n",
            "<string>:6: VisibleDeprecationWarning: Creating an ndarray from ragged nested sequences (which is a list-or-tuple of lists-or-tuples-or ndarrays with different lengths or shapes) is deprecated. If you meant to do this, you must specify 'dtype=object' when creating the ndarray\n",
            "/usr/local/lib/python3.6/dist-packages/numpy/core/_asarray.py:83: VisibleDeprecationWarning: Creating an ndarray from ragged nested sequences (which is a list-or-tuple of lists-or-tuples-or ndarrays with different lengths or shapes) is deprecated. If you meant to do this, you must specify 'dtype=object' when creating the ndarray\n",
            "  return array(a, dtype, copy=False, order=order)\n",
            "<string>:6: VisibleDeprecationWarning: Creating an ndarray from ragged nested sequences (which is a list-or-tuple of lists-or-tuples-or ndarrays with different lengths or shapes) is deprecated. If you meant to do this, you must specify 'dtype=object' when creating the ndarray\n"
          ],
          "name": "stderr"
        }
      ]
    },
    {
      "cell_type": "code",
      "metadata": {
        "colab": {
          "base_uri": "https://localhost:8080/",
          "height": 889
        },
        "id": "5N8op5aN-yKC",
        "outputId": "d78519c4-f0c4-44b7-d2f1-e48bfcd83851"
      },
      "source": [
        "learn.fit_one_cycle(10, slice(5e-3/(2.6**4),5e-3), moms=(0.8,0.7))"
      ],
      "execution_count": 53,
      "outputs": [
        {
          "output_type": "display_data",
          "data": {
            "text/html": [
              "<table border=\"1\" class=\"dataframe\">\n",
              "  <thead>\n",
              "    <tr style=\"text-align: left;\">\n",
              "      <th>epoch</th>\n",
              "      <th>train_loss</th>\n",
              "      <th>valid_loss</th>\n",
              "      <th>accuracy</th>\n",
              "      <th>time</th>\n",
              "    </tr>\n",
              "  </thead>\n",
              "  <tbody>\n",
              "    <tr>\n",
              "      <td>0</td>\n",
              "      <td>0.139408</td>\n",
              "      <td>0.279041</td>\n",
              "      <td>0.903242</td>\n",
              "      <td>03:43</td>\n",
              "    </tr>\n",
              "    <tr>\n",
              "      <td>1</td>\n",
              "      <td>0.144491</td>\n",
              "      <td>0.277693</td>\n",
              "      <td>0.904247</td>\n",
              "      <td>03:43</td>\n",
              "    </tr>\n",
              "    <tr>\n",
              "      <td>2</td>\n",
              "      <td>0.150549</td>\n",
              "      <td>0.286310</td>\n",
              "      <td>0.905001</td>\n",
              "      <td>03:43</td>\n",
              "    </tr>\n",
              "    <tr>\n",
              "      <td>3</td>\n",
              "      <td>0.146211</td>\n",
              "      <td>0.265912</td>\n",
              "      <td>0.906258</td>\n",
              "      <td>03:42</td>\n",
              "    </tr>\n",
              "    <tr>\n",
              "      <td>4</td>\n",
              "      <td>0.137873</td>\n",
              "      <td>0.275750</td>\n",
              "      <td>0.905504</td>\n",
              "      <td>03:44</td>\n",
              "    </tr>\n",
              "    <tr>\n",
              "      <td>5</td>\n",
              "      <td>0.130449</td>\n",
              "      <td>0.269334</td>\n",
              "      <td>0.908771</td>\n",
              "      <td>03:43</td>\n",
              "    </tr>\n",
              "    <tr>\n",
              "      <td>6</td>\n",
              "      <td>0.117413</td>\n",
              "      <td>0.273230</td>\n",
              "      <td>0.912541</td>\n",
              "      <td>03:42</td>\n",
              "    </tr>\n",
              "    <tr>\n",
              "      <td>7</td>\n",
              "      <td>0.107980</td>\n",
              "      <td>0.275415</td>\n",
              "      <td>0.910028</td>\n",
              "      <td>03:42</td>\n",
              "    </tr>\n",
              "    <tr>\n",
              "      <td>8</td>\n",
              "      <td>0.099941</td>\n",
              "      <td>0.280210</td>\n",
              "      <td>0.912038</td>\n",
              "      <td>03:43</td>\n",
              "    </tr>\n",
              "    <tr>\n",
              "      <td>9</td>\n",
              "      <td>0.098324</td>\n",
              "      <td>0.285568</td>\n",
              "      <td>0.910530</td>\n",
              "      <td>03:42</td>\n",
              "    </tr>\n",
              "  </tbody>\n",
              "</table>"
            ],
            "text/plain": [
              "<IPython.core.display.HTML object>"
            ]
          },
          "metadata": {
            "tags": []
          }
        },
        {
          "output_type": "stream",
          "text": [
            "/usr/local/lib/python3.6/dist-packages/numpy/core/_asarray.py:83: VisibleDeprecationWarning: Creating an ndarray from ragged nested sequences (which is a list-or-tuple of lists-or-tuples-or ndarrays with different lengths or shapes) is deprecated. If you meant to do this, you must specify 'dtype=object' when creating the ndarray\n",
            "  return array(a, dtype, copy=False, order=order)\n",
            "<string>:6: VisibleDeprecationWarning: Creating an ndarray from ragged nested sequences (which is a list-or-tuple of lists-or-tuples-or ndarrays with different lengths or shapes) is deprecated. If you meant to do this, you must specify 'dtype=object' when creating the ndarray\n",
            "/usr/local/lib/python3.6/dist-packages/numpy/core/_asarray.py:83: VisibleDeprecationWarning: Creating an ndarray from ragged nested sequences (which is a list-or-tuple of lists-or-tuples-or ndarrays with different lengths or shapes) is deprecated. If you meant to do this, you must specify 'dtype=object' when creating the ndarray\n",
            "  return array(a, dtype, copy=False, order=order)\n",
            "<string>:6: VisibleDeprecationWarning: Creating an ndarray from ragged nested sequences (which is a list-or-tuple of lists-or-tuples-or ndarrays with different lengths or shapes) is deprecated. If you meant to do this, you must specify 'dtype=object' when creating the ndarray\n",
            "/usr/local/lib/python3.6/dist-packages/numpy/core/_asarray.py:83: VisibleDeprecationWarning: Creating an ndarray from ragged nested sequences (which is a list-or-tuple of lists-or-tuples-or ndarrays with different lengths or shapes) is deprecated. If you meant to do this, you must specify 'dtype=object' when creating the ndarray\n",
            "  return array(a, dtype, copy=False, order=order)\n",
            "<string>:6: VisibleDeprecationWarning: Creating an ndarray from ragged nested sequences (which is a list-or-tuple of lists-or-tuples-or ndarrays with different lengths or shapes) is deprecated. If you meant to do this, you must specify 'dtype=object' when creating the ndarray\n",
            "/usr/local/lib/python3.6/dist-packages/numpy/core/_asarray.py:83: VisibleDeprecationWarning: Creating an ndarray from ragged nested sequences (which is a list-or-tuple of lists-or-tuples-or ndarrays with different lengths or shapes) is deprecated. If you meant to do this, you must specify 'dtype=object' when creating the ndarray\n",
            "  return array(a, dtype, copy=False, order=order)\n",
            "<string>:6: VisibleDeprecationWarning: Creating an ndarray from ragged nested sequences (which is a list-or-tuple of lists-or-tuples-or ndarrays with different lengths or shapes) is deprecated. If you meant to do this, you must specify 'dtype=object' when creating the ndarray\n",
            "/usr/local/lib/python3.6/dist-packages/numpy/core/_asarray.py:83: VisibleDeprecationWarning: Creating an ndarray from ragged nested sequences (which is a list-or-tuple of lists-or-tuples-or ndarrays with different lengths or shapes) is deprecated. If you meant to do this, you must specify 'dtype=object' when creating the ndarray\n",
            "  return array(a, dtype, copy=False, order=order)\n",
            "<string>:6: VisibleDeprecationWarning: Creating an ndarray from ragged nested sequences (which is a list-or-tuple of lists-or-tuples-or ndarrays with different lengths or shapes) is deprecated. If you meant to do this, you must specify 'dtype=object' when creating the ndarray\n",
            "/usr/local/lib/python3.6/dist-packages/numpy/core/_asarray.py:83: VisibleDeprecationWarning: Creating an ndarray from ragged nested sequences (which is a list-or-tuple of lists-or-tuples-or ndarrays with different lengths or shapes) is deprecated. If you meant to do this, you must specify 'dtype=object' when creating the ndarray\n",
            "  return array(a, dtype, copy=False, order=order)\n",
            "<string>:6: VisibleDeprecationWarning: Creating an ndarray from ragged nested sequences (which is a list-or-tuple of lists-or-tuples-or ndarrays with different lengths or shapes) is deprecated. If you meant to do this, you must specify 'dtype=object' when creating the ndarray\n",
            "/usr/local/lib/python3.6/dist-packages/numpy/core/_asarray.py:83: VisibleDeprecationWarning: Creating an ndarray from ragged nested sequences (which is a list-or-tuple of lists-or-tuples-or ndarrays with different lengths or shapes) is deprecated. If you meant to do this, you must specify 'dtype=object' when creating the ndarray\n",
            "  return array(a, dtype, copy=False, order=order)\n",
            "<string>:6: VisibleDeprecationWarning: Creating an ndarray from ragged nested sequences (which is a list-or-tuple of lists-or-tuples-or ndarrays with different lengths or shapes) is deprecated. If you meant to do this, you must specify 'dtype=object' when creating the ndarray\n",
            "/usr/local/lib/python3.6/dist-packages/numpy/core/_asarray.py:83: VisibleDeprecationWarning: Creating an ndarray from ragged nested sequences (which is a list-or-tuple of lists-or-tuples-or ndarrays with different lengths or shapes) is deprecated. If you meant to do this, you must specify 'dtype=object' when creating the ndarray\n",
            "  return array(a, dtype, copy=False, order=order)\n",
            "<string>:6: VisibleDeprecationWarning: Creating an ndarray from ragged nested sequences (which is a list-or-tuple of lists-or-tuples-or ndarrays with different lengths or shapes) is deprecated. If you meant to do this, you must specify 'dtype=object' when creating the ndarray\n",
            "/usr/local/lib/python3.6/dist-packages/numpy/core/_asarray.py:83: VisibleDeprecationWarning: Creating an ndarray from ragged nested sequences (which is a list-or-tuple of lists-or-tuples-or ndarrays with different lengths or shapes) is deprecated. If you meant to do this, you must specify 'dtype=object' when creating the ndarray\n",
            "  return array(a, dtype, copy=False, order=order)\n",
            "<string>:6: VisibleDeprecationWarning: Creating an ndarray from ragged nested sequences (which is a list-or-tuple of lists-or-tuples-or ndarrays with different lengths or shapes) is deprecated. If you meant to do this, you must specify 'dtype=object' when creating the ndarray\n",
            "/usr/local/lib/python3.6/dist-packages/numpy/core/_asarray.py:83: VisibleDeprecationWarning: Creating an ndarray from ragged nested sequences (which is a list-or-tuple of lists-or-tuples-or ndarrays with different lengths or shapes) is deprecated. If you meant to do this, you must specify 'dtype=object' when creating the ndarray\n",
            "  return array(a, dtype, copy=False, order=order)\n",
            "<string>:6: VisibleDeprecationWarning: Creating an ndarray from ragged nested sequences (which is a list-or-tuple of lists-or-tuples-or ndarrays with different lengths or shapes) is deprecated. If you meant to do this, you must specify 'dtype=object' when creating the ndarray\n"
          ],
          "name": "stderr"
        }
      ]
    },
    {
      "cell_type": "code",
      "metadata": {
        "colab": {
          "base_uri": "https://localhost:8080/",
          "height": 889
        },
        "id": "oIX4P9gh-y7H",
        "outputId": "f78b4131-5fd9-4d4c-bddb-031bf55f6784"
      },
      "source": [
        "learn.fit_one_cycle(10, slice(5e-4/(2.6**4),5e-4), moms=(0.8,0.7))"
      ],
      "execution_count": 54,
      "outputs": [
        {
          "output_type": "display_data",
          "data": {
            "text/html": [
              "<table border=\"1\" class=\"dataframe\">\n",
              "  <thead>\n",
              "    <tr style=\"text-align: left;\">\n",
              "      <th>epoch</th>\n",
              "      <th>train_loss</th>\n",
              "      <th>valid_loss</th>\n",
              "      <th>accuracy</th>\n",
              "      <th>time</th>\n",
              "    </tr>\n",
              "  </thead>\n",
              "  <tbody>\n",
              "    <tr>\n",
              "      <td>0</td>\n",
              "      <td>0.095471</td>\n",
              "      <td>0.283372</td>\n",
              "      <td>0.912290</td>\n",
              "      <td>03:42</td>\n",
              "    </tr>\n",
              "    <tr>\n",
              "      <td>1</td>\n",
              "      <td>0.094268</td>\n",
              "      <td>0.278238</td>\n",
              "      <td>0.912290</td>\n",
              "      <td>03:43</td>\n",
              "    </tr>\n",
              "    <tr>\n",
              "      <td>2</td>\n",
              "      <td>0.095202</td>\n",
              "      <td>0.283066</td>\n",
              "      <td>0.913043</td>\n",
              "      <td>03:43</td>\n",
              "    </tr>\n",
              "    <tr>\n",
              "      <td>3</td>\n",
              "      <td>0.093414</td>\n",
              "      <td>0.288347</td>\n",
              "      <td>0.912792</td>\n",
              "      <td>03:42</td>\n",
              "    </tr>\n",
              "    <tr>\n",
              "      <td>4</td>\n",
              "      <td>0.093294</td>\n",
              "      <td>0.292343</td>\n",
              "      <td>0.912038</td>\n",
              "      <td>03:43</td>\n",
              "    </tr>\n",
              "    <tr>\n",
              "      <td>5</td>\n",
              "      <td>0.093646</td>\n",
              "      <td>0.295769</td>\n",
              "      <td>0.909776</td>\n",
              "      <td>03:42</td>\n",
              "    </tr>\n",
              "    <tr>\n",
              "      <td>6</td>\n",
              "      <td>0.090655</td>\n",
              "      <td>0.290442</td>\n",
              "      <td>0.912038</td>\n",
              "      <td>03:42</td>\n",
              "    </tr>\n",
              "    <tr>\n",
              "      <td>7</td>\n",
              "      <td>0.090354</td>\n",
              "      <td>0.288515</td>\n",
              "      <td>0.911033</td>\n",
              "      <td>03:43</td>\n",
              "    </tr>\n",
              "    <tr>\n",
              "      <td>8</td>\n",
              "      <td>0.087362</td>\n",
              "      <td>0.292603</td>\n",
              "      <td>0.910782</td>\n",
              "      <td>03:44</td>\n",
              "    </tr>\n",
              "    <tr>\n",
              "      <td>9</td>\n",
              "      <td>0.084573</td>\n",
              "      <td>0.292758</td>\n",
              "      <td>0.911033</td>\n",
              "      <td>03:44</td>\n",
              "    </tr>\n",
              "  </tbody>\n",
              "</table>"
            ],
            "text/plain": [
              "<IPython.core.display.HTML object>"
            ]
          },
          "metadata": {
            "tags": []
          }
        },
        {
          "output_type": "stream",
          "text": [
            "/usr/local/lib/python3.6/dist-packages/numpy/core/_asarray.py:83: VisibleDeprecationWarning: Creating an ndarray from ragged nested sequences (which is a list-or-tuple of lists-or-tuples-or ndarrays with different lengths or shapes) is deprecated. If you meant to do this, you must specify 'dtype=object' when creating the ndarray\n",
            "  return array(a, dtype, copy=False, order=order)\n",
            "<string>:6: VisibleDeprecationWarning: Creating an ndarray from ragged nested sequences (which is a list-or-tuple of lists-or-tuples-or ndarrays with different lengths or shapes) is deprecated. If you meant to do this, you must specify 'dtype=object' when creating the ndarray\n",
            "/usr/local/lib/python3.6/dist-packages/numpy/core/_asarray.py:83: VisibleDeprecationWarning: Creating an ndarray from ragged nested sequences (which is a list-or-tuple of lists-or-tuples-or ndarrays with different lengths or shapes) is deprecated. If you meant to do this, you must specify 'dtype=object' when creating the ndarray\n",
            "  return array(a, dtype, copy=False, order=order)\n",
            "<string>:6: VisibleDeprecationWarning: Creating an ndarray from ragged nested sequences (which is a list-or-tuple of lists-or-tuples-or ndarrays with different lengths or shapes) is deprecated. If you meant to do this, you must specify 'dtype=object' when creating the ndarray\n",
            "/usr/local/lib/python3.6/dist-packages/numpy/core/_asarray.py:83: VisibleDeprecationWarning: Creating an ndarray from ragged nested sequences (which is a list-or-tuple of lists-or-tuples-or ndarrays with different lengths or shapes) is deprecated. If you meant to do this, you must specify 'dtype=object' when creating the ndarray\n",
            "  return array(a, dtype, copy=False, order=order)\n",
            "<string>:6: VisibleDeprecationWarning: Creating an ndarray from ragged nested sequences (which is a list-or-tuple of lists-or-tuples-or ndarrays with different lengths or shapes) is deprecated. If you meant to do this, you must specify 'dtype=object' when creating the ndarray\n",
            "/usr/local/lib/python3.6/dist-packages/numpy/core/_asarray.py:83: VisibleDeprecationWarning: Creating an ndarray from ragged nested sequences (which is a list-or-tuple of lists-or-tuples-or ndarrays with different lengths or shapes) is deprecated. If you meant to do this, you must specify 'dtype=object' when creating the ndarray\n",
            "  return array(a, dtype, copy=False, order=order)\n",
            "<string>:6: VisibleDeprecationWarning: Creating an ndarray from ragged nested sequences (which is a list-or-tuple of lists-or-tuples-or ndarrays with different lengths or shapes) is deprecated. If you meant to do this, you must specify 'dtype=object' when creating the ndarray\n",
            "/usr/local/lib/python3.6/dist-packages/numpy/core/_asarray.py:83: VisibleDeprecationWarning: Creating an ndarray from ragged nested sequences (which is a list-or-tuple of lists-or-tuples-or ndarrays with different lengths or shapes) is deprecated. If you meant to do this, you must specify 'dtype=object' when creating the ndarray\n",
            "  return array(a, dtype, copy=False, order=order)\n",
            "<string>:6: VisibleDeprecationWarning: Creating an ndarray from ragged nested sequences (which is a list-or-tuple of lists-or-tuples-or ndarrays with different lengths or shapes) is deprecated. If you meant to do this, you must specify 'dtype=object' when creating the ndarray\n",
            "/usr/local/lib/python3.6/dist-packages/numpy/core/_asarray.py:83: VisibleDeprecationWarning: Creating an ndarray from ragged nested sequences (which is a list-or-tuple of lists-or-tuples-or ndarrays with different lengths or shapes) is deprecated. If you meant to do this, you must specify 'dtype=object' when creating the ndarray\n",
            "  return array(a, dtype, copy=False, order=order)\n",
            "<string>:6: VisibleDeprecationWarning: Creating an ndarray from ragged nested sequences (which is a list-or-tuple of lists-or-tuples-or ndarrays with different lengths or shapes) is deprecated. If you meant to do this, you must specify 'dtype=object' when creating the ndarray\n",
            "/usr/local/lib/python3.6/dist-packages/numpy/core/_asarray.py:83: VisibleDeprecationWarning: Creating an ndarray from ragged nested sequences (which is a list-or-tuple of lists-or-tuples-or ndarrays with different lengths or shapes) is deprecated. If you meant to do this, you must specify 'dtype=object' when creating the ndarray\n",
            "  return array(a, dtype, copy=False, order=order)\n",
            "<string>:6: VisibleDeprecationWarning: Creating an ndarray from ragged nested sequences (which is a list-or-tuple of lists-or-tuples-or ndarrays with different lengths or shapes) is deprecated. If you meant to do this, you must specify 'dtype=object' when creating the ndarray\n",
            "/usr/local/lib/python3.6/dist-packages/numpy/core/_asarray.py:83: VisibleDeprecationWarning: Creating an ndarray from ragged nested sequences (which is a list-or-tuple of lists-or-tuples-or ndarrays with different lengths or shapes) is deprecated. If you meant to do this, you must specify 'dtype=object' when creating the ndarray\n",
            "  return array(a, dtype, copy=False, order=order)\n",
            "<string>:6: VisibleDeprecationWarning: Creating an ndarray from ragged nested sequences (which is a list-or-tuple of lists-or-tuples-or ndarrays with different lengths or shapes) is deprecated. If you meant to do this, you must specify 'dtype=object' when creating the ndarray\n",
            "/usr/local/lib/python3.6/dist-packages/numpy/core/_asarray.py:83: VisibleDeprecationWarning: Creating an ndarray from ragged nested sequences (which is a list-or-tuple of lists-or-tuples-or ndarrays with different lengths or shapes) is deprecated. If you meant to do this, you must specify 'dtype=object' when creating the ndarray\n",
            "  return array(a, dtype, copy=False, order=order)\n",
            "<string>:6: VisibleDeprecationWarning: Creating an ndarray from ragged nested sequences (which is a list-or-tuple of lists-or-tuples-or ndarrays with different lengths or shapes) is deprecated. If you meant to do this, you must specify 'dtype=object' when creating the ndarray\n",
            "/usr/local/lib/python3.6/dist-packages/numpy/core/_asarray.py:83: VisibleDeprecationWarning: Creating an ndarray from ragged nested sequences (which is a list-or-tuple of lists-or-tuples-or ndarrays with different lengths or shapes) is deprecated. If you meant to do this, you must specify 'dtype=object' when creating the ndarray\n",
            "  return array(a, dtype, copy=False, order=order)\n",
            "<string>:6: VisibleDeprecationWarning: Creating an ndarray from ragged nested sequences (which is a list-or-tuple of lists-or-tuples-or ndarrays with different lengths or shapes) is deprecated. If you meant to do this, you must specify 'dtype=object' when creating the ndarray\n"
          ],
          "name": "stderr"
        }
      ]
    },
    {
      "cell_type": "code",
      "metadata": {
        "id": "YWqEQD5H-2c4"
      },
      "source": [
        "learn.save('human_short_human_pretrain')"
      ],
      "execution_count": 55,
      "outputs": []
    },
    {
      "cell_type": "markdown",
      "metadata": {
        "id": "EO2J1IuNZuij"
      },
      "source": [
        "**Test**"
      ]
    },
    {
      "cell_type": "code",
      "metadata": {
        "colab": {
          "base_uri": "https://localhost:8080/"
        },
        "id": "uMDnJG6--3Uc",
        "outputId": "b7722042-fd28-4f7f-eff8-73ae1e5aebba"
      },
      "source": [
        "data_clas = GenomicTextClasDataBunch.from_df(path, train_df, test_df, tokenizer=tok, vocab=model_vocab, text_cols='Sequence', label_cols='Promoter', bs=400)\r\n",
        "learn.data = data_clas"
      ],
      "execution_count": 56,
      "outputs": [
        {
          "output_type": "stream",
          "text": [
            "/usr/local/lib/python3.6/dist-packages/numpy/core/_asarray.py:83: VisibleDeprecationWarning: Creating an ndarray from ragged nested sequences (which is a list-or-tuple of lists-or-tuples-or ndarrays with different lengths or shapes) is deprecated. If you meant to do this, you must specify 'dtype=object' when creating the ndarray\n",
            "  return array(a, dtype, copy=False, order=order)\n",
            "<string>:6: VisibleDeprecationWarning: Creating an ndarray from ragged nested sequences (which is a list-or-tuple of lists-or-tuples-or ndarrays with different lengths or shapes) is deprecated. If you meant to do this, you must specify 'dtype=object' when creating the ndarray\n"
          ],
          "name": "stderr"
        }
      ]
    },
    {
      "cell_type": "code",
      "metadata": {
        "colab": {
          "base_uri": "https://localhost:8080/",
          "height": 136
        },
        "id": "G6hA2-j_-8T2",
        "outputId": "e839f99e-d0e8-4728-a1a3-49fb60d7ada6"
      },
      "source": [
        "get_scores(learn)"
      ],
      "execution_count": 57,
      "outputs": [
        {
          "output_type": "display_data",
          "data": {
            "text/html": [
              ""
            ],
            "text/plain": [
              "<IPython.core.display.HTML object>"
            ]
          },
          "metadata": {
            "tags": []
          }
        },
        {
          "output_type": "stream",
          "text": [
            "Accuracy: 0.9104626334519573\n",
            "False Positives: 0.01807829181494662\n",
            "False Negatives: 0.07145907473309608\n",
            "Recall: 0.8309195015156619\n",
            "Precision: 0.9510408635312259\n",
            "Specificity: 0.9686883629191322\n",
            "MCC: 0.8184558702949016\n"
          ],
          "name": "stdout"
        }
      ]
    },
    {
      "cell_type": "code",
      "metadata": {
        "id": "o7Y6Vp5uiZyW"
      },
      "source": [
        "#learn.lr_find()\r\n",
        "#learn.recorder.plot_losses()"
      ],
      "execution_count": null,
      "outputs": []
    },
    {
      "cell_type": "markdown",
      "metadata": {
        "id": "PQDHC9Zl_zsn"
      },
      "source": [
        "## *Human Short Promoter Classification with Genomic Pretraining and Fine Tuning*"
      ]
    },
    {
      "cell_type": "markdown",
      "metadata": {
        "id": "MEsgY8tUhzL2"
      },
      "source": [
        "\r\n",
        "\r\n",
        "```\r\n",
        "Après avoir former le General Language Model sur un grand dataset non supervisé étiqueté, on fine-tune le \r\n",
        "General Language Model sur la data de classification, pour créer un Language Model spécifique à la tâche. \r\n",
        "Et ensuite, on fine-tune le Language Model spécifique à la tâche pour la classification. \r\n",
        "```\r\n",
        "\r\n"
      ]
    },
    {
      "cell_type": "code",
      "metadata": {
        "id": "Shx-LhzW_4iD"
      },
      "source": [
        "data = GenomicTextLMDataBunch.from_df(path, train_df, valid_df, bs=400, tokenizer=tok, chunksize=10000, text_cols='Sequence', label_cols='Promoter', vocab=model_vocab)"
      ],
      "execution_count": 27,
      "outputs": []
    },
    {
      "cell_type": "code",
      "metadata": {
        "id": "81twGXuph_KP"
      },
      "source": [
        "config = dict(emb_sz=400, n_hid=1150, n_layers=3, pad_token=0, qrnn=False, output_p=0.25, hidden_p=0.1, input_p=0.2, embed_p=0.02, weight_p=0.15, tie_weights=True, out_bias=True)\r\n",
        "drop_mult = 0.25"
      ],
      "execution_count": 28,
      "outputs": []
    },
    {
      "cell_type": "code",
      "metadata": {
        "id": "IoD66NXRiCO6"
      },
      "source": [
        "learn = get_model_LM(data, drop_mult, config)"
      ],
      "execution_count": 29,
      "outputs": []
    },
    {
      "cell_type": "markdown",
      "metadata": {
        "id": "_drNF0sMiFKF"
      },
      "source": [
        "\r\n",
        "\r\n",
        "```\r\n",
        "Initialisation du modèle en chargeant les poids du modèle de langage du génome humain.\r\n",
        "```\r\n",
        "\r\n",
        "\r\n",
        "\r\n"
      ]
    },
    {
      "cell_type": "code",
      "metadata": {
        "id": "idLmi7pOiDqV"
      },
      "source": [
        "learn.load('human_genome_full');"
      ],
      "execution_count": 30,
      "outputs": []
    },
    {
      "cell_type": "code",
      "metadata": {
        "colab": {
          "base_uri": "https://localhost:8080/"
        },
        "id": "YlYmwlA2iKAO",
        "outputId": "38acd03e-b78b-4944-c167-0aeda3a83148"
      },
      "source": [
        "learn.model"
      ],
      "execution_count": 31,
      "outputs": [
        {
          "output_type": "execute_result",
          "data": {
            "text/plain": [
              "SequentialRNN(\n",
              "  (0): AWD_LSTM(\n",
              "    (encoder): Embedding(1025, 400, padding_idx=0)\n",
              "    (encoder_dp): EmbeddingDropout(\n",
              "      (emb): Embedding(1025, 400, padding_idx=0)\n",
              "    )\n",
              "    (rnns): ModuleList(\n",
              "      (0): WeightDropout(\n",
              "        (module): LSTM(400, 1150, batch_first=True)\n",
              "      )\n",
              "      (1): WeightDropout(\n",
              "        (module): LSTM(1150, 1150, batch_first=True)\n",
              "      )\n",
              "      (2): WeightDropout(\n",
              "        (module): LSTM(1150, 400, batch_first=True)\n",
              "      )\n",
              "    )\n",
              "    (input_dp): RNNDropout()\n",
              "    (hidden_dps): ModuleList(\n",
              "      (0): RNNDropout()\n",
              "      (1): RNNDropout()\n",
              "      (2): RNNDropout()\n",
              "    )\n",
              "  )\n",
              "  (1): LinearDecoder(\n",
              "    (decoder): Linear(in_features=400, out_features=1025, bias=True)\n",
              "    (output_dp): RNNDropout()\n",
              "  )\n",
              ")"
            ]
          },
          "metadata": {
            "tags": []
          },
          "execution_count": 31
        }
      ]
    },
    {
      "cell_type": "code",
      "metadata": {
        "colab": {
          "base_uri": "https://localhost:8080/",
          "height": 374
        },
        "id": "dvTUTf0BiL-T",
        "outputId": "fa965bc6-aaa8-43b6-9a5e-cf49326d89fa"
      },
      "source": [
        "learn.lr_find()\r\n",
        "learn.recorder.plot()"
      ],
      "execution_count": 32,
      "outputs": [
        {
          "output_type": "display_data",
          "data": {
            "text/html": [
              "\n",
              "    <div>\n",
              "        <style>\n",
              "            /* Turns off some styling */\n",
              "            progress {\n",
              "                /* gets rid of default border in Firefox and Opera. */\n",
              "                border: none;\n",
              "                /* Needs to be in here for Safari polyfill so background images work as expected. */\n",
              "                background-size: auto;\n",
              "            }\n",
              "            .progress-bar-interrupted, .progress-bar-interrupted::-webkit-progress-bar {\n",
              "                background: #F44336;\n",
              "            }\n",
              "        </style>\n",
              "      <progress value='0' class='' max='1' style='width:300px; height:20px; vertical-align: middle;'></progress>\n",
              "      0.00% [0/1 00:00<00:00]\n",
              "    </div>\n",
              "    \n",
              "<table border=\"1\" class=\"dataframe\">\n",
              "  <thead>\n",
              "    <tr style=\"text-align: left;\">\n",
              "      <th>epoch</th>\n",
              "      <th>train_loss</th>\n",
              "      <th>valid_loss</th>\n",
              "      <th>accuracy</th>\n",
              "      <th>time</th>\n",
              "    </tr>\n",
              "  </thead>\n",
              "  <tbody>\n",
              "  </tbody>\n",
              "</table><p>\n",
              "\n",
              "    <div>\n",
              "        <style>\n",
              "            /* Turns off some styling */\n",
              "            progress {\n",
              "                /* gets rid of default border in Firefox and Opera. */\n",
              "                border: none;\n",
              "                /* Needs to be in here for Safari polyfill so background images work as expected. */\n",
              "                background-size: auto;\n",
              "            }\n",
              "            .progress-bar-interrupted, .progress-bar-interrupted::-webkit-progress-bar {\n",
              "                background: #F44336;\n",
              "            }\n",
              "        </style>\n",
              "      <progress value='87' class='' max='159' style='width:300px; height:20px; vertical-align: middle;'></progress>\n",
              "      54.72% [87/159 01:42<01:24 9.0709]\n",
              "    </div>\n",
              "    "
            ],
            "text/plain": [
              "<IPython.core.display.HTML object>"
            ]
          },
          "metadata": {
            "tags": []
          }
        },
        {
          "output_type": "stream",
          "text": [
            "LR Finder is complete, type {learner_name}.recorder.plot() to see the graph.\n"
          ],
          "name": "stdout"
        },
        {
          "output_type": "display_data",
          "data": {
            "image/png": "[encoded data removed]",
            "text/plain": [
              "<Figure size 432x288 with 1 Axes>"
            ]
          },
          "metadata": {
            "tags": [],
            "needs_background": "light"
          }
        }
      ]
    },
    {
      "cell_type": "markdown",
      "metadata": {
        "id": "P4Ybglb1iXUt"
      },
      "source": [
        "**Training** "
      ]
    },
    {
      "cell_type": "code",
      "metadata": {
        "colab": {
          "base_uri": "https://localhost:8080/",
          "height": 359
        },
        "id": "ggxoL4oTiOrF",
        "outputId": "953ee95e-51c3-405e-efaa-d83a9c4d7de7"
      },
      "source": [
        "learn.fit_one_cycle(10, 2e-3, moms=(0.8,0.7))"
      ],
      "execution_count": 33,
      "outputs": [
        {
          "output_type": "display_data",
          "data": {
            "text/html": [
              "<table border=\"1\" class=\"dataframe\">\n",
              "  <thead>\n",
              "    <tr style=\"text-align: left;\">\n",
              "      <th>epoch</th>\n",
              "      <th>train_loss</th>\n",
              "      <th>valid_loss</th>\n",
              "      <th>accuracy</th>\n",
              "      <th>time</th>\n",
              "    </tr>\n",
              "  </thead>\n",
              "  <tbody>\n",
              "    <tr>\n",
              "      <td>0</td>\n",
              "      <td>2.610984</td>\n",
              "      <td>2.586391</td>\n",
              "      <td>0.182907</td>\n",
              "      <td>03:38</td>\n",
              "    </tr>\n",
              "    <tr>\n",
              "      <td>1</td>\n",
              "      <td>2.599163</td>\n",
              "      <td>2.574878</td>\n",
              "      <td>0.186123</td>\n",
              "      <td>03:39</td>\n",
              "    </tr>\n",
              "    <tr>\n",
              "      <td>2</td>\n",
              "      <td>2.583407</td>\n",
              "      <td>2.557398</td>\n",
              "      <td>0.193435</td>\n",
              "      <td>03:39</td>\n",
              "    </tr>\n",
              "    <tr>\n",
              "      <td>3</td>\n",
              "      <td>2.547895</td>\n",
              "      <td>2.527858</td>\n",
              "      <td>0.204851</td>\n",
              "      <td>03:39</td>\n",
              "    </tr>\n",
              "    <tr>\n",
              "      <td>4</td>\n",
              "      <td>2.509119</td>\n",
              "      <td>2.494340</td>\n",
              "      <td>0.217034</td>\n",
              "      <td>03:40</td>\n",
              "    </tr>\n",
              "    <tr>\n",
              "      <td>5</td>\n",
              "      <td>2.469562</td>\n",
              "      <td>2.459473</td>\n",
              "      <td>0.230869</td>\n",
              "      <td>03:39</td>\n",
              "    </tr>\n",
              "    <tr>\n",
              "      <td>6</td>\n",
              "      <td>2.424292</td>\n",
              "      <td>2.426203</td>\n",
              "      <td>0.245502</td>\n",
              "      <td>03:40</td>\n",
              "    </tr>\n",
              "    <tr>\n",
              "      <td>7</td>\n",
              "      <td>2.380127</td>\n",
              "      <td>2.401767</td>\n",
              "      <td>0.256101</td>\n",
              "      <td>03:39</td>\n",
              "    </tr>\n",
              "    <tr>\n",
              "      <td>8</td>\n",
              "      <td>2.354992</td>\n",
              "      <td>2.390496</td>\n",
              "      <td>0.260879</td>\n",
              "      <td>03:39</td>\n",
              "    </tr>\n",
              "    <tr>\n",
              "      <td>9</td>\n",
              "      <td>2.348958</td>\n",
              "      <td>2.388955</td>\n",
              "      <td>0.261665</td>\n",
              "      <td>03:39</td>\n",
              "    </tr>\n",
              "  </tbody>\n",
              "</table>"
            ],
            "text/plain": [
              "<IPython.core.display.HTML object>"
            ]
          },
          "metadata": {
            "tags": []
          }
        }
      ]
    },
    {
      "cell_type": "code",
      "metadata": {
        "colab": {
          "base_uri": "https://localhost:8080/",
          "height": 359
        },
        "id": "ZqT0FZzFiapx",
        "outputId": "c747251d-75fc-4145-fd88-cef681b24173"
      },
      "source": [
        "learn.fit_one_cycle(10, 1e-3, moms=(0.8,0.7))"
      ],
      "execution_count": 34,
      "outputs": [
        {
          "output_type": "display_data",
          "data": {
            "text/html": [
              "<table border=\"1\" class=\"dataframe\">\n",
              "  <thead>\n",
              "    <tr style=\"text-align: left;\">\n",
              "      <th>epoch</th>\n",
              "      <th>train_loss</th>\n",
              "      <th>valid_loss</th>\n",
              "      <th>accuracy</th>\n",
              "      <th>time</th>\n",
              "    </tr>\n",
              "  </thead>\n",
              "  <tbody>\n",
              "    <tr>\n",
              "      <td>0</td>\n",
              "      <td>2.346087</td>\n",
              "      <td>2.385112</td>\n",
              "      <td>0.263242</td>\n",
              "      <td>03:39</td>\n",
              "    </tr>\n",
              "    <tr>\n",
              "      <td>1</td>\n",
              "      <td>2.339130</td>\n",
              "      <td>2.371171</td>\n",
              "      <td>0.269865</td>\n",
              "      <td>03:40</td>\n",
              "    </tr>\n",
              "    <tr>\n",
              "      <td>2</td>\n",
              "      <td>2.314668</td>\n",
              "      <td>2.341786</td>\n",
              "      <td>0.282069</td>\n",
              "      <td>03:39</td>\n",
              "    </tr>\n",
              "    <tr>\n",
              "      <td>3</td>\n",
              "      <td>2.272228</td>\n",
              "      <td>2.307153</td>\n",
              "      <td>0.296530</td>\n",
              "      <td>03:39</td>\n",
              "    </tr>\n",
              "    <tr>\n",
              "      <td>4</td>\n",
              "      <td>2.224717</td>\n",
              "      <td>2.271361</td>\n",
              "      <td>0.311371</td>\n",
              "      <td>03:39</td>\n",
              "    </tr>\n",
              "    <tr>\n",
              "      <td>5</td>\n",
              "      <td>2.187312</td>\n",
              "      <td>2.240894</td>\n",
              "      <td>0.324817</td>\n",
              "      <td>03:39</td>\n",
              "    </tr>\n",
              "    <tr>\n",
              "      <td>6</td>\n",
              "      <td>2.150788</td>\n",
              "      <td>2.217102</td>\n",
              "      <td>0.334206</td>\n",
              "      <td>03:40</td>\n",
              "    </tr>\n",
              "    <tr>\n",
              "      <td>7</td>\n",
              "      <td>2.120950</td>\n",
              "      <td>2.201706</td>\n",
              "      <td>0.339919</td>\n",
              "      <td>03:39</td>\n",
              "    </tr>\n",
              "    <tr>\n",
              "      <td>8</td>\n",
              "      <td>2.105220</td>\n",
              "      <td>2.195087</td>\n",
              "      <td>0.342611</td>\n",
              "      <td>03:39</td>\n",
              "    </tr>\n",
              "    <tr>\n",
              "      <td>9</td>\n",
              "      <td>2.097824</td>\n",
              "      <td>2.194195</td>\n",
              "      <td>0.343173</td>\n",
              "      <td>03:39</td>\n",
              "    </tr>\n",
              "  </tbody>\n",
              "</table>"
            ],
            "text/plain": [
              "<IPython.core.display.HTML object>"
            ]
          },
          "metadata": {
            "tags": []
          }
        }
      ]
    },
    {
      "cell_type": "code",
      "metadata": {
        "colab": {
          "base_uri": "https://localhost:8080/",
          "height": 359
        },
        "id": "jv_rswBlicc_",
        "outputId": "a7afa38f-42c6-4dce-81b2-a41e70802abd"
      },
      "source": [
        "learn.fit_one_cycle(10, 1e-3, moms=(0.8,0.7))"
      ],
      "execution_count": 35,
      "outputs": [
        {
          "output_type": "display_data",
          "data": {
            "text/html": [
              "<table border=\"1\" class=\"dataframe\">\n",
              "  <thead>\n",
              "    <tr style=\"text-align: left;\">\n",
              "      <th>epoch</th>\n",
              "      <th>train_loss</th>\n",
              "      <th>valid_loss</th>\n",
              "      <th>accuracy</th>\n",
              "      <th>time</th>\n",
              "    </tr>\n",
              "  </thead>\n",
              "  <tbody>\n",
              "    <tr>\n",
              "      <td>0</td>\n",
              "      <td>2.098302</td>\n",
              "      <td>2.189963</td>\n",
              "      <td>0.344901</td>\n",
              "      <td>03:39</td>\n",
              "    </tr>\n",
              "    <tr>\n",
              "      <td>1</td>\n",
              "      <td>2.096779</td>\n",
              "      <td>2.178634</td>\n",
              "      <td>0.349508</td>\n",
              "      <td>03:39</td>\n",
              "    </tr>\n",
              "    <tr>\n",
              "      <td>2</td>\n",
              "      <td>2.083438</td>\n",
              "      <td>2.159554</td>\n",
              "      <td>0.358105</td>\n",
              "      <td>03:39</td>\n",
              "    </tr>\n",
              "    <tr>\n",
              "      <td>3</td>\n",
              "      <td>2.043166</td>\n",
              "      <td>2.126584</td>\n",
              "      <td>0.371149</td>\n",
              "      <td>03:39</td>\n",
              "    </tr>\n",
              "    <tr>\n",
              "      <td>4</td>\n",
              "      <td>2.000916</td>\n",
              "      <td>2.089607</td>\n",
              "      <td>0.384125</td>\n",
              "      <td>03:39</td>\n",
              "    </tr>\n",
              "    <tr>\n",
              "      <td>5</td>\n",
              "      <td>1.963084</td>\n",
              "      <td>2.062608</td>\n",
              "      <td>0.394915</td>\n",
              "      <td>03:40</td>\n",
              "    </tr>\n",
              "    <tr>\n",
              "      <td>6</td>\n",
              "      <td>1.929484</td>\n",
              "      <td>2.039684</td>\n",
              "      <td>0.403829</td>\n",
              "      <td>03:39</td>\n",
              "    </tr>\n",
              "    <tr>\n",
              "      <td>7</td>\n",
              "      <td>1.904226</td>\n",
              "      <td>2.025706</td>\n",
              "      <td>0.408462</td>\n",
              "      <td>03:39</td>\n",
              "    </tr>\n",
              "    <tr>\n",
              "      <td>8</td>\n",
              "      <td>1.891271</td>\n",
              "      <td>2.019490</td>\n",
              "      <td>0.410516</td>\n",
              "      <td>03:39</td>\n",
              "    </tr>\n",
              "    <tr>\n",
              "      <td>9</td>\n",
              "      <td>1.874556</td>\n",
              "      <td>2.018422</td>\n",
              "      <td>0.410958</td>\n",
              "      <td>03:39</td>\n",
              "    </tr>\n",
              "  </tbody>\n",
              "</table>"
            ],
            "text/plain": [
              "<IPython.core.display.HTML object>"
            ]
          },
          "metadata": {
            "tags": []
          }
        }
      ]
    },
    {
      "cell_type": "code",
      "metadata": {
        "colab": {
          "base_uri": "https://localhost:8080/",
          "height": 359
        },
        "id": "x-t-vynYiemA",
        "outputId": "ef0a2d23-8f4b-49f8-bc59-4a7df2059d8f"
      },
      "source": [
        "learn.fit_one_cycle(10, 8e-4, moms=(0.8,0.7))"
      ],
      "execution_count": 36,
      "outputs": [
        {
          "output_type": "display_data",
          "data": {
            "text/html": [
              "<table border=\"1\" class=\"dataframe\">\n",
              "  <thead>\n",
              "    <tr style=\"text-align: left;\">\n",
              "      <th>epoch</th>\n",
              "      <th>train_loss</th>\n",
              "      <th>valid_loss</th>\n",
              "      <th>accuracy</th>\n",
              "      <th>time</th>\n",
              "    </tr>\n",
              "  </thead>\n",
              "  <tbody>\n",
              "    <tr>\n",
              "      <td>0</td>\n",
              "      <td>1.878427</td>\n",
              "      <td>2.015944</td>\n",
              "      <td>0.412022</td>\n",
              "      <td>03:40</td>\n",
              "    </tr>\n",
              "    <tr>\n",
              "      <td>1</td>\n",
              "      <td>1.881497</td>\n",
              "      <td>2.010292</td>\n",
              "      <td>0.413927</td>\n",
              "      <td>03:39</td>\n",
              "    </tr>\n",
              "    <tr>\n",
              "      <td>2</td>\n",
              "      <td>1.876098</td>\n",
              "      <td>1.994306</td>\n",
              "      <td>0.419657</td>\n",
              "      <td>03:39</td>\n",
              "    </tr>\n",
              "    <tr>\n",
              "      <td>3</td>\n",
              "      <td>1.847373</td>\n",
              "      <td>1.974001</td>\n",
              "      <td>0.426837</td>\n",
              "      <td>03:39</td>\n",
              "    </tr>\n",
              "    <tr>\n",
              "      <td>4</td>\n",
              "      <td>1.823890</td>\n",
              "      <td>1.951042</td>\n",
              "      <td>0.434802</td>\n",
              "      <td>03:39</td>\n",
              "    </tr>\n",
              "    <tr>\n",
              "      <td>5</td>\n",
              "      <td>1.791731</td>\n",
              "      <td>1.933140</td>\n",
              "      <td>0.441925</td>\n",
              "      <td>03:39</td>\n",
              "    </tr>\n",
              "    <tr>\n",
              "      <td>6</td>\n",
              "      <td>1.769428</td>\n",
              "      <td>1.917760</td>\n",
              "      <td>0.447232</td>\n",
              "      <td>03:39</td>\n",
              "    </tr>\n",
              "    <tr>\n",
              "      <td>7</td>\n",
              "      <td>1.750255</td>\n",
              "      <td>1.909083</td>\n",
              "      <td>0.451216</td>\n",
              "      <td>03:39</td>\n",
              "    </tr>\n",
              "    <tr>\n",
              "      <td>8</td>\n",
              "      <td>1.734128</td>\n",
              "      <td>1.904776</td>\n",
              "      <td>0.452792</td>\n",
              "      <td>03:39</td>\n",
              "    </tr>\n",
              "    <tr>\n",
              "      <td>9</td>\n",
              "      <td>1.728518</td>\n",
              "      <td>1.904127</td>\n",
              "      <td>0.453117</td>\n",
              "      <td>03:40</td>\n",
              "    </tr>\n",
              "  </tbody>\n",
              "</table>"
            ],
            "text/plain": [
              "<IPython.core.display.HTML object>"
            ]
          },
          "metadata": {
            "tags": []
          }
        }
      ]
    },
    {
      "cell_type": "code",
      "metadata": {
        "id": "obpfrnAtig8X"
      },
      "source": [
        "learn.save('human_LM_short_finetune')\r\n",
        "learn.save_encoder('human_LM_short_finetune_enc')"
      ],
      "execution_count": 37,
      "outputs": []
    },
    {
      "cell_type": "markdown",
      "metadata": {
        "id": "Zkt5jylnCZjy"
      },
      "source": [
        "**Classification** "
      ]
    },
    {
      "cell_type": "code",
      "metadata": {
        "colab": {
          "base_uri": "https://localhost:8080/"
        },
        "id": "mU4R42NsCasG",
        "outputId": "b23d7ffd-5cc5-43da-9d3b-ec14795bd835"
      },
      "source": [
        "tok = Tokenizer(GenomicTokenizer, n_cpus=1, pre_rules=[], post_rules=[], special_cases=['xxpad'])\r\n",
        "data_clas = GenomicTextClasDataBunch.from_df(path, train_df, valid_df, tokenizer=tok, vocab=model_vocab, text_cols='Sequence', label_cols='Promoter', bs=400)"
      ],
      "execution_count": 38,
      "outputs": [
        {
          "output_type": "stream",
          "text": [
            "/usr/local/lib/python3.6/dist-packages/numpy/core/_asarray.py:83: VisibleDeprecationWarning: Creating an ndarray from ragged nested sequences (which is a list-or-tuple of lists-or-tuples-or ndarrays with different lengths or shapes) is deprecated. If you meant to do this, you must specify 'dtype=object' when creating the ndarray\n",
            "  return array(a, dtype, copy=False, order=order)\n",
            "<string>:6: VisibleDeprecationWarning: Creating an ndarray from ragged nested sequences (which is a list-or-tuple of lists-or-tuples-or ndarrays with different lengths or shapes) is deprecated. If you meant to do this, you must specify 'dtype=object' when creating the ndarray\n"
          ],
          "name": "stderr"
        }
      ]
    },
    {
      "cell_type": "code",
      "metadata": {
        "id": "jpbpyJgxCpZt"
      },
      "source": [
        "clas_config = dict(emb_sz=400, n_hid=1150, n_layers=3, pad_token=0, qrnn=False, output_p=0.4, hidden_p=0.2, input_p=0.6, embed_p=0.1, weight_p=0.5)\r\n",
        "drop_mult = 0.5"
      ],
      "execution_count": 39,
      "outputs": []
    },
    {
      "cell_type": "code",
      "metadata": {
        "id": "WNdAj-CUCwAk"
      },
      "source": [
        "learn = get_model_clas(data_clas, drop_mult, clas_config)"
      ],
      "execution_count": 40,
      "outputs": []
    },
    {
      "cell_type": "code",
      "metadata": {
        "colab": {
          "base_uri": "https://localhost:8080/"
        },
        "id": "vVxAebomCxYy",
        "outputId": "c9675e18-2fef-4153-ad60-b491e8ac60bf"
      },
      "source": [
        "learn.model"
      ],
      "execution_count": 41,
      "outputs": [
        {
          "output_type": "execute_result",
          "data": {
            "text/plain": [
              "SequentialRNN(\n",
              "  (0): MultiBatchEncoder(\n",
              "    (module): AWD_LSTM(\n",
              "      (encoder): Embedding(1025, 400, padding_idx=0)\n",
              "      (encoder_dp): EmbeddingDropout(\n",
              "        (emb): Embedding(1025, 400, padding_idx=0)\n",
              "      )\n",
              "      (rnns): ModuleList(\n",
              "        (0): WeightDropout(\n",
              "          (module): LSTM(400, 1150, batch_first=True)\n",
              "        )\n",
              "        (1): WeightDropout(\n",
              "          (module): LSTM(1150, 1150, batch_first=True)\n",
              "        )\n",
              "        (2): WeightDropout(\n",
              "          (module): LSTM(1150, 400, batch_first=True)\n",
              "        )\n",
              "      )\n",
              "      (input_dp): RNNDropout()\n",
              "      (hidden_dps): ModuleList(\n",
              "        (0): RNNDropout()\n",
              "        (1): RNNDropout()\n",
              "        (2): RNNDropout()\n",
              "      )\n",
              "    )\n",
              "  )\n",
              "  (1): PoolingLinearClassifier(\n",
              "    (layers): Sequential(\n",
              "      (0): BatchNorm1d(1200, eps=1e-05, momentum=0.1, affine=True, track_running_stats=True)\n",
              "      (1): Dropout(p=0.2, inplace=False)\n",
              "      (2): Linear(in_features=1200, out_features=50, bias=True)\n",
              "      (3): ReLU(inplace=True)\n",
              "      (4): BatchNorm1d(50, eps=1e-05, momentum=0.1, affine=True, track_running_stats=True)\n",
              "      (5): Dropout(p=0.1, inplace=False)\n",
              "      (6): Linear(in_features=50, out_features=2, bias=True)\n",
              "    )\n",
              "  )\n",
              ")"
            ]
          },
          "metadata": {
            "tags": []
          },
          "execution_count": 41
        }
      ]
    },
    {
      "cell_type": "code",
      "metadata": {
        "id": "Hge2PEiVCyyR"
      },
      "source": [
        "learn.load_encoder('human_LM_short_finetune_enc')\r\n",
        "learn.freeze()"
      ],
      "execution_count": 42,
      "outputs": []
    },
    {
      "cell_type": "code",
      "metadata": {
        "colab": {
          "base_uri": "https://localhost:8080/",
          "height": 527
        },
        "id": "6ikq3_IbC1eh",
        "outputId": "ff745045-60ca-4e40-bc5a-3834aa0b3e71"
      },
      "source": [
        "learn.lr_find()\r\n",
        "learn.recorder.plot()"
      ],
      "execution_count": 43,
      "outputs": [
        {
          "output_type": "display_data",
          "data": {
            "text/html": [
              "\n",
              "    <div>\n",
              "        <style>\n",
              "            /* Turns off some styling */\n",
              "            progress {\n",
              "                /* gets rid of default border in Firefox and Opera. */\n",
              "                border: none;\n",
              "                /* Needs to be in here for Safari polyfill so background images work as expected. */\n",
              "                background-size: auto;\n",
              "            }\n",
              "            .progress-bar-interrupted, .progress-bar-interrupted::-webkit-progress-bar {\n",
              "                background: #F44336;\n",
              "            }\n",
              "        </style>\n",
              "      <progress value='1' class='' max='2' style='width:300px; height:20px; vertical-align: middle;'></progress>\n",
              "      50.00% [1/2 01:20<01:20]\n",
              "    </div>\n",
              "    \n",
              "<table border=\"1\" class=\"dataframe\">\n",
              "  <thead>\n",
              "    <tr style=\"text-align: left;\">\n",
              "      <th>epoch</th>\n",
              "      <th>train_loss</th>\n",
              "      <th>valid_loss</th>\n",
              "      <th>accuracy</th>\n",
              "      <th>time</th>\n",
              "    </tr>\n",
              "  </thead>\n",
              "  <tbody>\n",
              "    <tr>\n",
              "      <td>0</td>\n",
              "      <td>0.392348</td>\n",
              "      <td>#na#</td>\n",
              "      <td>01:20</td>\n",
              "    </tr>\n",
              "  </tbody>\n",
              "</table><p>\n",
              "\n",
              "    <div>\n",
              "        <style>\n",
              "            /* Turns off some styling */\n",
              "            progress {\n",
              "                /* gets rid of default border in Firefox and Opera. */\n",
              "                border: none;\n",
              "                /* Needs to be in here for Safari polyfill so background images work as expected. */\n",
              "                background-size: auto;\n",
              "            }\n",
              "            .progress-bar-interrupted, .progress-bar-interrupted::-webkit-progress-bar {\n",
              "                background: #F44336;\n",
              "            }\n",
              "        </style>\n",
              "      <progress value='5' class='' max='89' style='width:300px; height:20px; vertical-align: middle;'></progress>\n",
              "      5.62% [5/89 00:07<02:04 1.3609]\n",
              "    </div>\n",
              "    "
            ],
            "text/plain": [
              "<IPython.core.display.HTML object>"
            ]
          },
          "metadata": {
            "tags": []
          }
        },
        {
          "output_type": "stream",
          "text": [
            "/usr/local/lib/python3.6/dist-packages/numpy/core/_asarray.py:83: VisibleDeprecationWarning: Creating an ndarray from ragged nested sequences (which is a list-or-tuple of lists-or-tuples-or ndarrays with different lengths or shapes) is deprecated. If you meant to do this, you must specify 'dtype=object' when creating the ndarray\n",
            "  return array(a, dtype, copy=False, order=order)\n",
            "<string>:6: VisibleDeprecationWarning: Creating an ndarray from ragged nested sequences (which is a list-or-tuple of lists-or-tuples-or ndarrays with different lengths or shapes) is deprecated. If you meant to do this, you must specify 'dtype=object' when creating the ndarray\n",
            "/usr/local/lib/python3.6/dist-packages/numpy/core/_asarray.py:83: VisibleDeprecationWarning: Creating an ndarray from ragged nested sequences (which is a list-or-tuple of lists-or-tuples-or ndarrays with different lengths or shapes) is deprecated. If you meant to do this, you must specify 'dtype=object' when creating the ndarray\n",
            "  return array(a, dtype, copy=False, order=order)\n",
            "<string>:6: VisibleDeprecationWarning: Creating an ndarray from ragged nested sequences (which is a list-or-tuple of lists-or-tuples-or ndarrays with different lengths or shapes) is deprecated. If you meant to do this, you must specify 'dtype=object' when creating the ndarray\n"
          ],
          "name": "stderr"
        },
        {
          "output_type": "stream",
          "text": [
            "LR Finder is complete, type {learner_name}.recorder.plot() to see the graph.\n"
          ],
          "name": "stdout"
        },
        {
          "output_type": "display_data",
          "data": {
            "image/png": "[encoded data removed]",
            "text/plain": [
              "<Figure size 432x288 with 1 Axes>"
            ]
          },
          "metadata": {
            "tags": [],
            "needs_background": "light"
          }
        }
      ]
    },
    {
      "cell_type": "code",
      "metadata": {
        "id": "WdDlyjW_C4X_"
      },
      "source": [
        "learn.fit_one_cycle(4, 2e-2, moms=(0.8,0.7))"
      ],
      "execution_count": null,
      "outputs": []
    },
    {
      "cell_type": "code",
      "metadata": {
        "colab": {
          "base_uri": "https://localhost:8080/",
          "height": 397
        },
        "id": "_k4NSVdzC7hf",
        "outputId": "42837416-dbf5-4eaa-da9f-6a498d4fd9e2"
      },
      "source": [
        "learn.freeze_to(-2)\r\n",
        "learn.fit_one_cycle(4, slice(1e-2/(2.6**4),1e-2), moms=(0.8,0.7))"
      ],
      "execution_count": 44,
      "outputs": [
        {
          "output_type": "display_data",
          "data": {
            "text/html": [
              "<table border=\"1\" class=\"dataframe\">\n",
              "  <thead>\n",
              "    <tr style=\"text-align: left;\">\n",
              "      <th>epoch</th>\n",
              "      <th>train_loss</th>\n",
              "      <th>valid_loss</th>\n",
              "      <th>accuracy</th>\n",
              "      <th>time</th>\n",
              "    </tr>\n",
              "  </thead>\n",
              "  <tbody>\n",
              "    <tr>\n",
              "      <td>0</td>\n",
              "      <td>0.255396</td>\n",
              "      <td>0.218713</td>\n",
              "      <td>0.921337</td>\n",
              "      <td>01:49</td>\n",
              "    </tr>\n",
              "    <tr>\n",
              "      <td>1</td>\n",
              "      <td>0.223340</td>\n",
              "      <td>0.190767</td>\n",
              "      <td>0.928877</td>\n",
              "      <td>01:50</td>\n",
              "    </tr>\n",
              "    <tr>\n",
              "      <td>2</td>\n",
              "      <td>0.190672</td>\n",
              "      <td>0.179846</td>\n",
              "      <td>0.937421</td>\n",
              "      <td>01:49</td>\n",
              "    </tr>\n",
              "    <tr>\n",
              "      <td>3</td>\n",
              "      <td>0.157386</td>\n",
              "      <td>0.190213</td>\n",
              "      <td>0.940689</td>\n",
              "      <td>01:49</td>\n",
              "    </tr>\n",
              "  </tbody>\n",
              "</table>"
            ],
            "text/plain": [
              "<IPython.core.display.HTML object>"
            ]
          },
          "metadata": {
            "tags": []
          }
        },
        {
          "output_type": "stream",
          "text": [
            "/usr/local/lib/python3.6/dist-packages/numpy/core/_asarray.py:83: VisibleDeprecationWarning: Creating an ndarray from ragged nested sequences (which is a list-or-tuple of lists-or-tuples-or ndarrays with different lengths or shapes) is deprecated. If you meant to do this, you must specify 'dtype=object' when creating the ndarray\n",
            "  return array(a, dtype, copy=False, order=order)\n",
            "<string>:6: VisibleDeprecationWarning: Creating an ndarray from ragged nested sequences (which is a list-or-tuple of lists-or-tuples-or ndarrays with different lengths or shapes) is deprecated. If you meant to do this, you must specify 'dtype=object' when creating the ndarray\n",
            "/usr/local/lib/python3.6/dist-packages/numpy/core/_asarray.py:83: VisibleDeprecationWarning: Creating an ndarray from ragged nested sequences (which is a list-or-tuple of lists-or-tuples-or ndarrays with different lengths or shapes) is deprecated. If you meant to do this, you must specify 'dtype=object' when creating the ndarray\n",
            "  return array(a, dtype, copy=False, order=order)\n",
            "<string>:6: VisibleDeprecationWarning: Creating an ndarray from ragged nested sequences (which is a list-or-tuple of lists-or-tuples-or ndarrays with different lengths or shapes) is deprecated. If you meant to do this, you must specify 'dtype=object' when creating the ndarray\n",
            "/usr/local/lib/python3.6/dist-packages/numpy/core/_asarray.py:83: VisibleDeprecationWarning: Creating an ndarray from ragged nested sequences (which is a list-or-tuple of lists-or-tuples-or ndarrays with different lengths or shapes) is deprecated. If you meant to do this, you must specify 'dtype=object' when creating the ndarray\n",
            "  return array(a, dtype, copy=False, order=order)\n",
            "<string>:6: VisibleDeprecationWarning: Creating an ndarray from ragged nested sequences (which is a list-or-tuple of lists-or-tuples-or ndarrays with different lengths or shapes) is deprecated. If you meant to do this, you must specify 'dtype=object' when creating the ndarray\n",
            "/usr/local/lib/python3.6/dist-packages/numpy/core/_asarray.py:83: VisibleDeprecationWarning: Creating an ndarray from ragged nested sequences (which is a list-or-tuple of lists-or-tuples-or ndarrays with different lengths or shapes) is deprecated. If you meant to do this, you must specify 'dtype=object' when creating the ndarray\n",
            "  return array(a, dtype, copy=False, order=order)\n",
            "<string>:6: VisibleDeprecationWarning: Creating an ndarray from ragged nested sequences (which is a list-or-tuple of lists-or-tuples-or ndarrays with different lengths or shapes) is deprecated. If you meant to do this, you must specify 'dtype=object' when creating the ndarray\n"
          ],
          "name": "stderr"
        }
      ]
    },
    {
      "cell_type": "code",
      "metadata": {
        "id": "69YwB5p6C7kT",
        "colab": {
          "base_uri": "https://localhost:8080/",
          "height": 397
        },
        "outputId": "052180b7-ef88-4b34-b0e7-747de13f01d9"
      },
      "source": [
        "learn.freeze_to(-3)\r\n",
        "learn.fit_one_cycle(4, slice(5e-3/(2.6**4),5e-3), moms=(0.8,0.7))"
      ],
      "execution_count": 45,
      "outputs": [
        {
          "output_type": "display_data",
          "data": {
            "text/html": [
              "<table border=\"1\" class=\"dataframe\">\n",
              "  <thead>\n",
              "    <tr style=\"text-align: left;\">\n",
              "      <th>epoch</th>\n",
              "      <th>train_loss</th>\n",
              "      <th>valid_loss</th>\n",
              "      <th>accuracy</th>\n",
              "      <th>time</th>\n",
              "    </tr>\n",
              "  </thead>\n",
              "  <tbody>\n",
              "    <tr>\n",
              "      <td>0</td>\n",
              "      <td>0.156880</td>\n",
              "      <td>0.148632</td>\n",
              "      <td>0.944961</td>\n",
              "      <td>02:48</td>\n",
              "    </tr>\n",
              "    <tr>\n",
              "      <td>1</td>\n",
              "      <td>0.150035</td>\n",
              "      <td>0.134580</td>\n",
              "      <td>0.949233</td>\n",
              "      <td>02:48</td>\n",
              "    </tr>\n",
              "    <tr>\n",
              "      <td>2</td>\n",
              "      <td>0.115858</td>\n",
              "      <td>0.124718</td>\n",
              "      <td>0.957276</td>\n",
              "      <td>02:49</td>\n",
              "    </tr>\n",
              "    <tr>\n",
              "      <td>3</td>\n",
              "      <td>0.092219</td>\n",
              "      <td>0.130184</td>\n",
              "      <td>0.957024</td>\n",
              "      <td>02:49</td>\n",
              "    </tr>\n",
              "  </tbody>\n",
              "</table>"
            ],
            "text/plain": [
              "<IPython.core.display.HTML object>"
            ]
          },
          "metadata": {
            "tags": []
          }
        },
        {
          "output_type": "stream",
          "text": [
            "/usr/local/lib/python3.6/dist-packages/numpy/core/_asarray.py:83: VisibleDeprecationWarning: Creating an ndarray from ragged nested sequences (which is a list-or-tuple of lists-or-tuples-or ndarrays with different lengths or shapes) is deprecated. If you meant to do this, you must specify 'dtype=object' when creating the ndarray\n",
            "  return array(a, dtype, copy=False, order=order)\n",
            "<string>:6: VisibleDeprecationWarning: Creating an ndarray from ragged nested sequences (which is a list-or-tuple of lists-or-tuples-or ndarrays with different lengths or shapes) is deprecated. If you meant to do this, you must specify 'dtype=object' when creating the ndarray\n",
            "/usr/local/lib/python3.6/dist-packages/numpy/core/_asarray.py:83: VisibleDeprecationWarning: Creating an ndarray from ragged nested sequences (which is a list-or-tuple of lists-or-tuples-or ndarrays with different lengths or shapes) is deprecated. If you meant to do this, you must specify 'dtype=object' when creating the ndarray\n",
            "  return array(a, dtype, copy=False, order=order)\n",
            "<string>:6: VisibleDeprecationWarning: Creating an ndarray from ragged nested sequences (which is a list-or-tuple of lists-or-tuples-or ndarrays with different lengths or shapes) is deprecated. If you meant to do this, you must specify 'dtype=object' when creating the ndarray\n",
            "/usr/local/lib/python3.6/dist-packages/numpy/core/_asarray.py:83: VisibleDeprecationWarning: Creating an ndarray from ragged nested sequences (which is a list-or-tuple of lists-or-tuples-or ndarrays with different lengths or shapes) is deprecated. If you meant to do this, you must specify 'dtype=object' when creating the ndarray\n",
            "  return array(a, dtype, copy=False, order=order)\n",
            "<string>:6: VisibleDeprecationWarning: Creating an ndarray from ragged nested sequences (which is a list-or-tuple of lists-or-tuples-or ndarrays with different lengths or shapes) is deprecated. If you meant to do this, you must specify 'dtype=object' when creating the ndarray\n",
            "/usr/local/lib/python3.6/dist-packages/numpy/core/_asarray.py:83: VisibleDeprecationWarning: Creating an ndarray from ragged nested sequences (which is a list-or-tuple of lists-or-tuples-or ndarrays with different lengths or shapes) is deprecated. If you meant to do this, you must specify 'dtype=object' when creating the ndarray\n",
            "  return array(a, dtype, copy=False, order=order)\n",
            "<string>:6: VisibleDeprecationWarning: Creating an ndarray from ragged nested sequences (which is a list-or-tuple of lists-or-tuples-or ndarrays with different lengths or shapes) is deprecated. If you meant to do this, you must specify 'dtype=object' when creating the ndarray\n"
          ],
          "name": "stderr"
        }
      ]
    },
    {
      "cell_type": "code",
      "metadata": {
        "id": "j1w7GEphC_wE",
        "colab": {
          "base_uri": "https://localhost:8080/",
          "height": 397
        },
        "outputId": "1ab5195c-78d5-4685-ca3b-2a9cb1bb7db3"
      },
      "source": [
        "learn.unfreeze()\r\n",
        "learn.fit_one_cycle(4, slice(5e-3/(2.6**4),5e-3), moms=(0.8,0.7))"
      ],
      "execution_count": 46,
      "outputs": [
        {
          "output_type": "display_data",
          "data": {
            "text/html": [
              "<table border=\"1\" class=\"dataframe\">\n",
              "  <thead>\n",
              "    <tr style=\"text-align: left;\">\n",
              "      <th>epoch</th>\n",
              "      <th>train_loss</th>\n",
              "      <th>valid_loss</th>\n",
              "      <th>accuracy</th>\n",
              "      <th>time</th>\n",
              "    </tr>\n",
              "  </thead>\n",
              "  <tbody>\n",
              "    <tr>\n",
              "      <td>0</td>\n",
              "      <td>0.094923</td>\n",
              "      <td>0.116400</td>\n",
              "      <td>0.962553</td>\n",
              "      <td>03:37</td>\n",
              "    </tr>\n",
              "    <tr>\n",
              "      <td>1</td>\n",
              "      <td>0.100921</td>\n",
              "      <td>0.118428</td>\n",
              "      <td>0.958784</td>\n",
              "      <td>03:37</td>\n",
              "    </tr>\n",
              "    <tr>\n",
              "      <td>2</td>\n",
              "      <td>0.079905</td>\n",
              "      <td>0.107561</td>\n",
              "      <td>0.965821</td>\n",
              "      <td>03:38</td>\n",
              "    </tr>\n",
              "    <tr>\n",
              "      <td>3</td>\n",
              "      <td>0.063104</td>\n",
              "      <td>0.114563</td>\n",
              "      <td>0.965821</td>\n",
              "      <td>03:38</td>\n",
              "    </tr>\n",
              "  </tbody>\n",
              "</table>"
            ],
            "text/plain": [
              "<IPython.core.display.HTML object>"
            ]
          },
          "metadata": {
            "tags": []
          }
        },
        {
          "output_type": "stream",
          "text": [
            "/usr/local/lib/python3.6/dist-packages/numpy/core/_asarray.py:83: VisibleDeprecationWarning: Creating an ndarray from ragged nested sequences (which is a list-or-tuple of lists-or-tuples-or ndarrays with different lengths or shapes) is deprecated. If you meant to do this, you must specify 'dtype=object' when creating the ndarray\n",
            "  return array(a, dtype, copy=False, order=order)\n",
            "<string>:6: VisibleDeprecationWarning: Creating an ndarray from ragged nested sequences (which is a list-or-tuple of lists-or-tuples-or ndarrays with different lengths or shapes) is deprecated. If you meant to do this, you must specify 'dtype=object' when creating the ndarray\n",
            "/usr/local/lib/python3.6/dist-packages/numpy/core/_asarray.py:83: VisibleDeprecationWarning: Creating an ndarray from ragged nested sequences (which is a list-or-tuple of lists-or-tuples-or ndarrays with different lengths or shapes) is deprecated. If you meant to do this, you must specify 'dtype=object' when creating the ndarray\n",
            "  return array(a, dtype, copy=False, order=order)\n",
            "<string>:6: VisibleDeprecationWarning: Creating an ndarray from ragged nested sequences (which is a list-or-tuple of lists-or-tuples-or ndarrays with different lengths or shapes) is deprecated. If you meant to do this, you must specify 'dtype=object' when creating the ndarray\n",
            "/usr/local/lib/python3.6/dist-packages/numpy/core/_asarray.py:83: VisibleDeprecationWarning: Creating an ndarray from ragged nested sequences (which is a list-or-tuple of lists-or-tuples-or ndarrays with different lengths or shapes) is deprecated. If you meant to do this, you must specify 'dtype=object' when creating the ndarray\n",
            "  return array(a, dtype, copy=False, order=order)\n",
            "<string>:6: VisibleDeprecationWarning: Creating an ndarray from ragged nested sequences (which is a list-or-tuple of lists-or-tuples-or ndarrays with different lengths or shapes) is deprecated. If you meant to do this, you must specify 'dtype=object' when creating the ndarray\n",
            "/usr/local/lib/python3.6/dist-packages/numpy/core/_asarray.py:83: VisibleDeprecationWarning: Creating an ndarray from ragged nested sequences (which is a list-or-tuple of lists-or-tuples-or ndarrays with different lengths or shapes) is deprecated. If you meant to do this, you must specify 'dtype=object' when creating the ndarray\n",
            "  return array(a, dtype, copy=False, order=order)\n",
            "<string>:6: VisibleDeprecationWarning: Creating an ndarray from ragged nested sequences (which is a list-or-tuple of lists-or-tuples-or ndarrays with different lengths or shapes) is deprecated. If you meant to do this, you must specify 'dtype=object' when creating the ndarray\n"
          ],
          "name": "stderr"
        }
      ]
    },
    {
      "cell_type": "code",
      "metadata": {
        "id": "Sv2eGtJFC_y7",
        "colab": {
          "base_uri": "https://localhost:8080/",
          "height": 397
        },
        "outputId": "6f6236cf-1f4b-443b-ea8b-50311d8f16d8"
      },
      "source": [
        "learn.fit_one_cycle(4, slice(1e-3/(2.6**4),1e-3), moms=(0.8,0.7))"
      ],
      "execution_count": 47,
      "outputs": [
        {
          "output_type": "display_data",
          "data": {
            "text/html": [
              "<table border=\"1\" class=\"dataframe\">\n",
              "  <thead>\n",
              "    <tr style=\"text-align: left;\">\n",
              "      <th>epoch</th>\n",
              "      <th>train_loss</th>\n",
              "      <th>valid_loss</th>\n",
              "      <th>accuracy</th>\n",
              "      <th>time</th>\n",
              "    </tr>\n",
              "  </thead>\n",
              "  <tbody>\n",
              "    <tr>\n",
              "      <td>0</td>\n",
              "      <td>0.054500</td>\n",
              "      <td>0.112985</td>\n",
              "      <td>0.967328</td>\n",
              "      <td>03:37</td>\n",
              "    </tr>\n",
              "    <tr>\n",
              "      <td>1</td>\n",
              "      <td>0.053077</td>\n",
              "      <td>0.113556</td>\n",
              "      <td>0.967077</td>\n",
              "      <td>03:36</td>\n",
              "    </tr>\n",
              "    <tr>\n",
              "      <td>2</td>\n",
              "      <td>0.051668</td>\n",
              "      <td>0.114745</td>\n",
              "      <td>0.968082</td>\n",
              "      <td>03:37</td>\n",
              "    </tr>\n",
              "    <tr>\n",
              "      <td>3</td>\n",
              "      <td>0.045127</td>\n",
              "      <td>0.115945</td>\n",
              "      <td>0.967831</td>\n",
              "      <td>03:37</td>\n",
              "    </tr>\n",
              "  </tbody>\n",
              "</table>"
            ],
            "text/plain": [
              "<IPython.core.display.HTML object>"
            ]
          },
          "metadata": {
            "tags": []
          }
        },
        {
          "output_type": "stream",
          "text": [
            "/usr/local/lib/python3.6/dist-packages/numpy/core/_asarray.py:83: VisibleDeprecationWarning: Creating an ndarray from ragged nested sequences (which is a list-or-tuple of lists-or-tuples-or ndarrays with different lengths or shapes) is deprecated. If you meant to do this, you must specify 'dtype=object' when creating the ndarray\n",
            "  return array(a, dtype, copy=False, order=order)\n",
            "<string>:6: VisibleDeprecationWarning: Creating an ndarray from ragged nested sequences (which is a list-or-tuple of lists-or-tuples-or ndarrays with different lengths or shapes) is deprecated. If you meant to do this, you must specify 'dtype=object' when creating the ndarray\n",
            "/usr/local/lib/python3.6/dist-packages/numpy/core/_asarray.py:83: VisibleDeprecationWarning: Creating an ndarray from ragged nested sequences (which is a list-or-tuple of lists-or-tuples-or ndarrays with different lengths or shapes) is deprecated. If you meant to do this, you must specify 'dtype=object' when creating the ndarray\n",
            "  return array(a, dtype, copy=False, order=order)\n",
            "<string>:6: VisibleDeprecationWarning: Creating an ndarray from ragged nested sequences (which is a list-or-tuple of lists-or-tuples-or ndarrays with different lengths or shapes) is deprecated. If you meant to do this, you must specify 'dtype=object' when creating the ndarray\n",
            "/usr/local/lib/python3.6/dist-packages/numpy/core/_asarray.py:83: VisibleDeprecationWarning: Creating an ndarray from ragged nested sequences (which is a list-or-tuple of lists-or-tuples-or ndarrays with different lengths or shapes) is deprecated. If you meant to do this, you must specify 'dtype=object' when creating the ndarray\n",
            "  return array(a, dtype, copy=False, order=order)\n",
            "<string>:6: VisibleDeprecationWarning: Creating an ndarray from ragged nested sequences (which is a list-or-tuple of lists-or-tuples-or ndarrays with different lengths or shapes) is deprecated. If you meant to do this, you must specify 'dtype=object' when creating the ndarray\n",
            "/usr/local/lib/python3.6/dist-packages/numpy/core/_asarray.py:83: VisibleDeprecationWarning: Creating an ndarray from ragged nested sequences (which is a list-or-tuple of lists-or-tuples-or ndarrays with different lengths or shapes) is deprecated. If you meant to do this, you must specify 'dtype=object' when creating the ndarray\n",
            "  return array(a, dtype, copy=False, order=order)\n",
            "<string>:6: VisibleDeprecationWarning: Creating an ndarray from ragged nested sequences (which is a list-or-tuple of lists-or-tuples-or ndarrays with different lengths or shapes) is deprecated. If you meant to do this, you must specify 'dtype=object' when creating the ndarray\n"
          ],
          "name": "stderr"
        }
      ]
    },
    {
      "cell_type": "code",
      "metadata": {
        "id": "24TcMn87DEAW"
      },
      "source": [
        "learn.save('human_short_human_pretrain_finetune')"
      ],
      "execution_count": 48,
      "outputs": []
    },
    {
      "cell_type": "markdown",
      "metadata": {
        "id": "Z2OseQ1wcZEE"
      },
      "source": [
        "**Test**"
      ]
    },
    {
      "cell_type": "code",
      "metadata": {
        "id": "WYof_gsZDEDV",
        "colab": {
          "base_uri": "https://localhost:8080/"
        },
        "outputId": "74680966-7827-40af-e30e-23d0736a79a2"
      },
      "source": [
        "data_clas = GenomicTextClasDataBunch.from_df(path, train_df, test_df, tokenizer=tok, vocab=model_vocab, text_cols='Sequence', label_cols='Promoter', bs=400)\r\n",
        "learn.data = data_clas"
      ],
      "execution_count": 49,
      "outputs": [
        {
          "output_type": "stream",
          "text": [
            "/usr/local/lib/python3.6/dist-packages/numpy/core/_asarray.py:83: VisibleDeprecationWarning: Creating an ndarray from ragged nested sequences (which is a list-or-tuple of lists-or-tuples-or ndarrays with different lengths or shapes) is deprecated. If you meant to do this, you must specify 'dtype=object' when creating the ndarray\n",
            "  return array(a, dtype, copy=False, order=order)\n",
            "<string>:6: VisibleDeprecationWarning: Creating an ndarray from ragged nested sequences (which is a list-or-tuple of lists-or-tuples-or ndarrays with different lengths or shapes) is deprecated. If you meant to do this, you must specify 'dtype=object' when creating the ndarray\n"
          ],
          "name": "stderr"
        }
      ]
    },
    {
      "cell_type": "code",
      "metadata": {
        "id": "K2l9hoyXDEGq",
        "colab": {
          "base_uri": "https://localhost:8080/",
          "height": 136
        },
        "outputId": "5f067d19-0aba-4cc1-a6b8-d3f6148385e8"
      },
      "source": [
        "get_scores(learn)"
      ],
      "execution_count": 50,
      "outputs": [
        {
          "output_type": "display_data",
          "data": {
            "text/html": [
              ""
            ],
            "text/plain": [
              "<IPython.core.display.HTML object>"
            ]
          },
          "metadata": {
            "tags": []
          }
        },
        {
          "output_type": "stream",
          "text": [
            "Accuracy: 0.9699644128113879\n",
            "False Positives: 0.018790035587188614\n",
            "False Negatives: 0.011245551601423487\n",
            "Recall: 0.9733917143819468\n",
            "Precision: 0.9563203176704169\n",
            "Specificity: 0.9674556213017751\n",
            "MCC: 0.9387138083129684\n"
          ],
          "name": "stdout"
        }
      ]
    },
    {
      "cell_type": "code",
      "metadata": {
        "id": "OrOMf9TxEVCm"
      },
      "source": [
        "#learn.lr_find()\r\n",
        "#learn.recorder.plot_losses()"
      ],
      "execution_count": null,
      "outputs": []
    },
    {
      "cell_type": "markdown",
      "metadata": {
        "id": "UAzUGhD_cmd_"
      },
      "source": [
        "## *Résultats*  "
      ]
    },
    {
      "cell_type": "markdown",
      "metadata": {
        "id": "rmvL7V7yc3Xi"
      },
      "source": [
        "![Capture d’écran 2020-12-25 204957.png](data:image/png;base64,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)"
      ]
    },
    {
      "cell_type": "markdown",
      "metadata": {
        "id": "UFZEw2-Lc9eu"
      },
      "source": [
        "## *Conclusion* "
      ]
    },
    {
      "cell_type": "markdown",
      "metadata": {
        "id": "eh2i_4nIdB0Y"
      },
      "source": [
        "\r\n",
        "\r\n",
        "```\r\n",
        "Le Transfer Learning est une étape extremement importante pour obtenir des résultats de haute qualité à partir du training sur de petit ensemble de données.\r\n",
        "Les modèles formés à l'aide du Transfer Learning nécessite beaucoup plus moins de régularisations que les modèles formé à partir du scratch.\r\n",
        "Cette amélioration des performances du Transfer Learning est ce qui permet à ULMFiT de travailler si efficacement sur de petits ensembles de données.\r\n",
        "```\r\n",
        "\r\n"
      ]
    }
  ]
}